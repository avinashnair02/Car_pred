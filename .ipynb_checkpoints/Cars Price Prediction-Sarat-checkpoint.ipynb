{
 "cells": [
  {
   "cell_type": "code",
   "execution_count": 1,
   "metadata": {},
   "outputs": [],
   "source": [
    "import pandas as pd\n",
    "import numpy as np\n",
    "import seaborn as sns\n",
    "import matplotlib.pyplot as plt\n",
    "%matplotlib inline\n",
    "from scipy import stats\n",
    "from sklearn.model_selection import train_test_split\n",
    "from sklearn.ensemble import RandomForestRegressor\n",
    "import pandas as pd\n",
    "import numpy as np\n",
    "import time\n",
    "from tqdm import tqdm\n",
    "import matplotlib\n",
    "import matplotlib.pyplot as plt\n",
    "\n",
    "#libraries for preprocessing\n",
    "from sklearn import preprocessing\n",
    "from sklearn.preprocessing import StandardScaler\n",
    "from sklearn.preprocessing import MinMaxScaler\n",
    "\n",
    "#libraries for evaluation\n",
    "from sklearn.metrics import mean_squared_log_error,r2_score,mean_squared_error\n",
    "from sklearn.model_selection import train_test_split\n",
    "\n",
    "\n",
    "#libraries for models\n",
    "from sklearn.linear_model import LinearRegression\n",
    "\n",
    "from sklearn.linear_model import Ridge\n",
    "from sklearn.linear_model import LassoCV,RidgeCV\n",
    "from yellowbrick.regressor import AlphaSelection\n",
    "\n",
    "from sklearn.linear_model import Lasso\n",
    "\n",
    "from sklearn.neighbors import KNeighborsRegressor\n",
    "\n",
    "from sklearn.ensemble import RandomForestRegressor\n",
    "\n",
    "from sklearn.ensemble import BaggingRegressor\n",
    "from sklearn.tree import DecisionTreeRegressor\n",
    "from sklearn.svm import SVR\n",
    "\n",
    "from sklearn.ensemble import AdaBoostRegressor\n",
    "\n",
    "import xgboost as xgb\n",
    "\n",
    "import warnings\n",
    "warnings.filterwarnings('ignore')"
   ]
  },
  {
   "cell_type": "code",
   "execution_count": 2,
   "metadata": {},
   "outputs": [],
   "source": [
    "from numpy import mean\n",
    "from numpy import std\n",
    "from numpy import absolute\n",
    "from pandas import read_csv\n",
    "from sklearn.model_selection import cross_val_score\n",
    "from sklearn.model_selection import RepeatedKFold\n",
    "from sklearn.linear_model import Ridge\n"
   ]
  },
  {
   "cell_type": "code",
   "execution_count": 3,
   "metadata": {},
   "outputs": [],
   "source": [
    "df  = pd.read_csv('Dataset_new.csv')"
   ]
  },
  {
   "cell_type": "code",
   "execution_count": 4,
   "metadata": {},
   "outputs": [],
   "source": [
    "df=df.rename(columns={'Company Name':'Company_Name','Car Age': 'Car_Age' })"
   ]
  },
  {
   "cell_type": "code",
   "execution_count": 5,
   "metadata": {},
   "outputs": [
    {
     "data": {
      "text/html": [
       "<div>\n",
       "<style scoped>\n",
       "    .dataframe tbody tr th:only-of-type {\n",
       "        vertical-align: middle;\n",
       "    }\n",
       "\n",
       "    .dataframe tbody tr th {\n",
       "        vertical-align: top;\n",
       "    }\n",
       "\n",
       "    .dataframe thead th {\n",
       "        text-align: right;\n",
       "    }\n",
       "</style>\n",
       "<table border=\"1\" class=\"dataframe\">\n",
       "  <thead>\n",
       "    <tr style=\"text-align: right;\">\n",
       "      <th></th>\n",
       "      <th>Company_Name</th>\n",
       "      <th>Model</th>\n",
       "      <th>price</th>\n",
       "      <th>km</th>\n",
       "      <th>Owner</th>\n",
       "      <th>Car_Age</th>\n",
       "      <th>fuel</th>\n",
       "      <th>location</th>\n",
       "      <th>Model_rank</th>\n",
       "      <th>fuel_rank</th>\n",
       "    </tr>\n",
       "  </thead>\n",
       "  <tbody>\n",
       "    <tr>\n",
       "      <th>0</th>\n",
       "      <td>ASTON</td>\n",
       "      <td>MARTIN</td>\n",
       "      <td>7500000</td>\n",
       "      <td>15500</td>\n",
       "      <td>3</td>\n",
       "      <td>11</td>\n",
       "      <td>Petrol</td>\n",
       "      <td>Delhi</td>\n",
       "      <td>84</td>\n",
       "      <td>5</td>\n",
       "    </tr>\n",
       "    <tr>\n",
       "      <th>1</th>\n",
       "      <td>ASTON</td>\n",
       "      <td>MARTIN</td>\n",
       "      <td>5990000</td>\n",
       "      <td>15200</td>\n",
       "      <td>2</td>\n",
       "      <td>10</td>\n",
       "      <td>Petrol</td>\n",
       "      <td>Mumbai</td>\n",
       "      <td>84</td>\n",
       "      <td>5</td>\n",
       "    </tr>\n",
       "    <tr>\n",
       "      <th>2</th>\n",
       "      <td>AUDI</td>\n",
       "      <td>Q5</td>\n",
       "      <td>1299991</td>\n",
       "      <td>65345</td>\n",
       "      <td>1</td>\n",
       "      <td>10</td>\n",
       "      <td>Diesel</td>\n",
       "      <td>Kolkata</td>\n",
       "      <td>32</td>\n",
       "      <td>6</td>\n",
       "    </tr>\n",
       "    <tr>\n",
       "      <th>3</th>\n",
       "      <td>AUDI</td>\n",
       "      <td>A3</td>\n",
       "      <td>2690000</td>\n",
       "      <td>12000</td>\n",
       "      <td>1</td>\n",
       "      <td>3</td>\n",
       "      <td>Petrol</td>\n",
       "      <td>Delhi</td>\n",
       "      <td>48</td>\n",
       "      <td>5</td>\n",
       "    </tr>\n",
       "    <tr>\n",
       "      <th>4</th>\n",
       "      <td>AUDI</td>\n",
       "      <td>A6</td>\n",
       "      <td>1700000</td>\n",
       "      <td>78000</td>\n",
       "      <td>1</td>\n",
       "      <td>7</td>\n",
       "      <td>Diesel</td>\n",
       "      <td>Delhi</td>\n",
       "      <td>24</td>\n",
       "      <td>6</td>\n",
       "    </tr>\n",
       "  </tbody>\n",
       "</table>\n",
       "</div>"
      ],
      "text/plain": [
       "  Company_Name   Model    price     km  Owner  Car_Age    fuel location  \\\n",
       "0        ASTON  MARTIN  7500000  15500      3       11  Petrol    Delhi   \n",
       "1        ASTON  MARTIN  5990000  15200      2       10  Petrol   Mumbai   \n",
       "2         AUDI      Q5  1299991  65345      1       10  Diesel  Kolkata   \n",
       "3         AUDI      A3  2690000  12000      1        3  Petrol    Delhi   \n",
       "4         AUDI      A6  1700000  78000      1        7  Diesel    Delhi   \n",
       "\n",
       "   Model_rank  fuel_rank  \n",
       "0          84          5  \n",
       "1          84          5  \n",
       "2          32          6  \n",
       "3          48          5  \n",
       "4          24          6  "
      ]
     },
     "execution_count": 5,
     "metadata": {},
     "output_type": "execute_result"
    }
   ],
   "source": [
    "df.head()"
   ]
  },
  {
   "cell_type": "code",
   "execution_count": 6,
   "metadata": {},
   "outputs": [
    {
     "data": {
      "text/plain": [
       "(3691, 10)"
      ]
     },
     "execution_count": 6,
     "metadata": {},
     "output_type": "execute_result"
    }
   ],
   "source": [
    "df.shape"
   ]
  },
  {
   "cell_type": "code",
   "execution_count": 7,
   "metadata": {},
   "outputs": [
    {
     "data": {
      "text/plain": [
       "Company_Name    0\n",
       "Model           0\n",
       "price           0\n",
       "km              0\n",
       "Owner           0\n",
       "Car_Age         0\n",
       "fuel            0\n",
       "location        0\n",
       "Model_rank      0\n",
       "fuel_rank       0\n",
       "dtype: int64"
      ]
     },
     "execution_count": 7,
     "metadata": {},
     "output_type": "execute_result"
    }
   ],
   "source": [
    "df.isnull().sum()"
   ]
  },
  {
   "cell_type": "code",
   "execution_count": null,
   "metadata": {},
   "outputs": [],
   "source": []
  },
  {
   "cell_type": "code",
   "execution_count": 8,
   "metadata": {},
   "outputs": [],
   "source": [
    "df.drop(columns=['Model_rank', 'fuel_rank'],axis=1,inplace=True)"
   ]
  },
  {
   "cell_type": "code",
   "execution_count": 9,
   "metadata": {},
   "outputs": [
    {
     "data": {
      "text/html": [
       "<div>\n",
       "<style scoped>\n",
       "    .dataframe tbody tr th:only-of-type {\n",
       "        vertical-align: middle;\n",
       "    }\n",
       "\n",
       "    .dataframe tbody tr th {\n",
       "        vertical-align: top;\n",
       "    }\n",
       "\n",
       "    .dataframe thead th {\n",
       "        text-align: right;\n",
       "    }\n",
       "</style>\n",
       "<table border=\"1\" class=\"dataframe\">\n",
       "  <thead>\n",
       "    <tr style=\"text-align: right;\">\n",
       "      <th></th>\n",
       "      <th>Company_Name</th>\n",
       "      <th>Model</th>\n",
       "      <th>price</th>\n",
       "      <th>km</th>\n",
       "      <th>Owner</th>\n",
       "      <th>Car_Age</th>\n",
       "      <th>fuel</th>\n",
       "      <th>location</th>\n",
       "    </tr>\n",
       "  </thead>\n",
       "  <tbody>\n",
       "    <tr>\n",
       "      <th>0</th>\n",
       "      <td>ASTON</td>\n",
       "      <td>MARTIN</td>\n",
       "      <td>7500000</td>\n",
       "      <td>15500</td>\n",
       "      <td>3</td>\n",
       "      <td>11</td>\n",
       "      <td>Petrol</td>\n",
       "      <td>Delhi</td>\n",
       "    </tr>\n",
       "    <tr>\n",
       "      <th>1</th>\n",
       "      <td>ASTON</td>\n",
       "      <td>MARTIN</td>\n",
       "      <td>5990000</td>\n",
       "      <td>15200</td>\n",
       "      <td>2</td>\n",
       "      <td>10</td>\n",
       "      <td>Petrol</td>\n",
       "      <td>Mumbai</td>\n",
       "    </tr>\n",
       "    <tr>\n",
       "      <th>2</th>\n",
       "      <td>AUDI</td>\n",
       "      <td>Q5</td>\n",
       "      <td>1299991</td>\n",
       "      <td>65345</td>\n",
       "      <td>1</td>\n",
       "      <td>10</td>\n",
       "      <td>Diesel</td>\n",
       "      <td>Kolkata</td>\n",
       "    </tr>\n",
       "    <tr>\n",
       "      <th>3</th>\n",
       "      <td>AUDI</td>\n",
       "      <td>A3</td>\n",
       "      <td>2690000</td>\n",
       "      <td>12000</td>\n",
       "      <td>1</td>\n",
       "      <td>3</td>\n",
       "      <td>Petrol</td>\n",
       "      <td>Delhi</td>\n",
       "    </tr>\n",
       "    <tr>\n",
       "      <th>4</th>\n",
       "      <td>AUDI</td>\n",
       "      <td>A6</td>\n",
       "      <td>1700000</td>\n",
       "      <td>78000</td>\n",
       "      <td>1</td>\n",
       "      <td>7</td>\n",
       "      <td>Diesel</td>\n",
       "      <td>Delhi</td>\n",
       "    </tr>\n",
       "  </tbody>\n",
       "</table>\n",
       "</div>"
      ],
      "text/plain": [
       "  Company_Name   Model    price     km  Owner  Car_Age    fuel location\n",
       "0        ASTON  MARTIN  7500000  15500      3       11  Petrol    Delhi\n",
       "1        ASTON  MARTIN  5990000  15200      2       10  Petrol   Mumbai\n",
       "2         AUDI      Q5  1299991  65345      1       10  Diesel  Kolkata\n",
       "3         AUDI      A3  2690000  12000      1        3  Petrol    Delhi\n",
       "4         AUDI      A6  1700000  78000      1        7  Diesel    Delhi"
      ]
     },
     "execution_count": 9,
     "metadata": {},
     "output_type": "execute_result"
    }
   ],
   "source": [
    "df.head()"
   ]
  },
  {
   "cell_type": "code",
   "execution_count": 10,
   "metadata": {},
   "outputs": [],
   "source": [
    "df.drop(df.loc[df['location']=='Ranchi'].index, inplace=True)\n",
    "df.drop(df.loc[df['location']=='Rajkot'].index, inplace=True)\n",
    "df.drop(df.loc[df['location']=='Akola'].index, inplace=True)\n",
    "df.drop(df.loc[df['location']=='Raipur'].index, inplace=True)\n",
    "df.drop(df.loc[df['location']=='Jamshedpur'].index, inplace=True)\n",
    "df.drop(df.loc[df['location']=='Tiruchirappalli'].index, inplace=True)\n",
    "df.drop(df.loc[df['location']=='Vadodara'].index, inplace=True)\n",
    "df.drop(df.loc[df['location']=='Surat'].index, inplace=True)\n",
    "df.drop(df.loc[df['location']=='Kalamassery'].index, inplace=True)\n",
    "df.drop(df.loc[df['location']=='Indore'].index, inplace=True)\n",
    "df.drop(df.loc[df['location']=='Kochi'].index, inplace=True)\n",
    "df.drop(df.loc[df['location']=='Karnal'].index, inplace=True)\n",
    "df.drop(df.loc[df['location']=='location'].index, inplace=True)"
   ]
  },
  {
   "cell_type": "code",
   "execution_count": 11,
   "metadata": {},
   "outputs": [],
   "source": [
    "df.reset_index(drop=True,inplace=True)\n"
   ]
  },
  {
   "cell_type": "code",
   "execution_count": 12,
   "metadata": {},
   "outputs": [
    {
     "data": {
      "text/plain": [
       "Mumbai                866\n",
       "Delhi                 445\n",
       "Hyderabad             435\n",
       "Bangalore             321\n",
       "Pune                  266\n",
       "Chennai               243\n",
       "Ahmedabad             146\n",
       "Kolkata               135\n",
       "Thane                 131\n",
       "Coimbatore            118\n",
       "Jaipur                 60\n",
       "Nashik                 56\n",
       "Bhopal                 53\n",
       "Noida                  49\n",
       "Navi Mumbai            47\n",
       "Gurgaon                35\n",
       "Faridabad              33\n",
       "Ghaziabad              28\n",
       "Thiruvananthapuram     24\n",
       "Mangalore              23\n",
       "Bellary                23\n",
       "Aurangabad             22\n",
       "Kollam                 22\n",
       "Mysore                 22\n",
       "Lucknow                12\n",
       "Nagpur                 12\n",
       "Pondicherry            10\n",
       "Name: location, dtype: int64"
      ]
     },
     "execution_count": 12,
     "metadata": {},
     "output_type": "execute_result"
    }
   ],
   "source": [
    "df['location'].value_counts()"
   ]
  },
  {
   "cell_type": "code",
   "execution_count": 13,
   "metadata": {},
   "outputs": [],
   "source": [
    "df[\"location\"].replace({\"Ghaziabad\": \"Delhi\",\"Noida\":\"Delhi\",\"Gurgaon\":\"Delhi\",\"Faridabad\":\"Delhi\"}, inplace=True)\n",
    "\n",
    "df[\"location\"].replace({\"Mangalore\": \"Bangalore\",\"Mysore\":\"Bangalore\",\"Bellary\":\"Bangalore\"}, inplace=True)\n",
    "\n",
    "df[\"location\"].replace({\"Pondicherry\": \"Chennai\"}, inplace=True)\n",
    "\n",
    "df[\"location\"].replace({\"Kollam\": \"Thiruvananthapuram\"}, inplace=True)\n",
    "\n",
    "df[\"location\"].replace({\"Lucknow\": \"Bhopal\"}, inplace=True)\n",
    "\n",
    "df[\"location\"].replace({\"Aurangabad\": \"Nagpur\", \"Nashik\": \"Nagpur\"}, inplace=True)"
   ]
  },
  {
   "cell_type": "code",
   "execution_count": 14,
   "metadata": {},
   "outputs": [
    {
     "data": {
      "text/plain": [
       "Mumbai                866\n",
       "Delhi                 590\n",
       "Hyderabad             435\n",
       "Bangalore             389\n",
       "Pune                  266\n",
       "Chennai               253\n",
       "Ahmedabad             146\n",
       "Kolkata               135\n",
       "Thane                 131\n",
       "Coimbatore            118\n",
       "Nagpur                 90\n",
       "Bhopal                 65\n",
       "Jaipur                 60\n",
       "Navi Mumbai            47\n",
       "Thiruvananthapuram     46\n",
       "Name: location, dtype: int64"
      ]
     },
     "execution_count": 14,
     "metadata": {},
     "output_type": "execute_result"
    }
   ],
   "source": [
    "df['location'].value_counts()"
   ]
  },
  {
   "cell_type": "code",
   "execution_count": 15,
   "metadata": {},
   "outputs": [
    {
     "data": {
      "text/plain": [
       "MARUTI SUZUKI    683\n",
       "HYUNDAI          582\n",
       "HONDA            396\n",
       "TOYOTA           368\n",
       "VOLKSWAGEN       260\n",
       "MERCEDES-BENZ    243\n",
       "BMW              165\n",
       "TATA             157\n",
       "MAHINDRA         126\n",
       "AUDI             111\n",
       "FORD              91\n",
       "RENAULT           81\n",
       "SKODA             80\n",
       "LAND              51\n",
       "NISSAN            35\n",
       "JAGUAR            29\n",
       "PORSCHE           29\n",
       "JEEP              24\n",
       "VOLVO             21\n",
       "CHEVROLET         16\n",
       "DATSUN            13\n",
       "KIA               13\n",
       "FIAT              11\n",
       "MINI              10\n",
       "MITSUBISHI        10\n",
       "MG                 9\n",
       "BENTLEY            6\n",
       "SSANGYONG          4\n",
       "LAMBORGHINI        3\n",
       "LEXUS              3\n",
       "ASTON              2\n",
       "FORCE              2\n",
       "HUMMER             1\n",
       "MASERATI           1\n",
       "ISUZU              1\n",
       "Name: Company_Name, dtype: int64"
      ]
     },
     "execution_count": 15,
     "metadata": {},
     "output_type": "execute_result"
    }
   ],
   "source": [
    "df['Company_Name'].value_counts()"
   ]
  },
  {
   "cell_type": "code",
   "execution_count": 16,
   "metadata": {},
   "outputs": [],
   "source": [
    "df.drop(df.loc[df['Company_Name']=='MASERATI'].index, inplace=True)\n",
    "df.drop(df.loc[df['Company_Name']=='HUMMER'].index, inplace=True)\n",
    "df.drop(df.loc[df['Company_Name']=='ISUZU'].index, inplace=True)\n",
    "df.drop(df.loc[df['Company_Name']=='ASTON'].index, inplace=True)\n",
    "df.drop(df.loc[df['Company_Name']=='FORCE'].index, inplace=True)\n",
    "df.drop(df.loc[df['Company_Name']=='LEXUS'].index, inplace=True)\n",
    "df.drop(df.loc[df['Company_Name']=='LAMBORGHINI'].index, inplace=True)\n",
    "df.drop(df.loc[df['Company_Name']=='SSANGYONG'].index, inplace=True)\n",
    "df.drop(df.loc[df['Company_Name']=='BENTLEY'].index, inplace=True)\n",
    "df.drop(df.loc[df['Company_Name']=='MG'].index, inplace=True)"
   ]
  },
  {
   "cell_type": "code",
   "execution_count": 17,
   "metadata": {},
   "outputs": [],
   "source": [
    "df.reset_index(drop=True,inplace=True)"
   ]
  },
  {
   "cell_type": "code",
   "execution_count": 18,
   "metadata": {},
   "outputs": [
    {
     "data": {
      "text/plain": [
       "MARUTI SUZUKI    683\n",
       "HYUNDAI          582\n",
       "HONDA            396\n",
       "TOYOTA           368\n",
       "VOLKSWAGEN       260\n",
       "MERCEDES-BENZ    243\n",
       "BMW              165\n",
       "TATA             157\n",
       "MAHINDRA         126\n",
       "AUDI             111\n",
       "FORD              91\n",
       "RENAULT           81\n",
       "SKODA             80\n",
       "LAND              51\n",
       "NISSAN            35\n",
       "JAGUAR            29\n",
       "PORSCHE           29\n",
       "JEEP              24\n",
       "VOLVO             21\n",
       "CHEVROLET         16\n",
       "DATSUN            13\n",
       "KIA               13\n",
       "FIAT              11\n",
       "MITSUBISHI        10\n",
       "MINI              10\n",
       "Name: Company_Name, dtype: int64"
      ]
     },
     "execution_count": 18,
     "metadata": {},
     "output_type": "execute_result"
    }
   ],
   "source": [
    "df['Company_Name'].value_counts()"
   ]
  },
  {
   "cell_type": "code",
   "execution_count": 19,
   "metadata": {},
   "outputs": [
    {
     "data": {
      "text/plain": [
       "Diesel      1817\n",
       "Petrol      1728\n",
       "CNG           47\n",
       "LPG           11\n",
       "Electric       2\n",
       "Name: fuel, dtype: int64"
      ]
     },
     "execution_count": 19,
     "metadata": {},
     "output_type": "execute_result"
    }
   ],
   "source": [
    "df['fuel'].value_counts()"
   ]
  },
  {
   "cell_type": "code",
   "execution_count": 20,
   "metadata": {},
   "outputs": [],
   "source": [
    "df.drop(df.loc[df['fuel']=='Electric'].index, inplace=True)"
   ]
  },
  {
   "cell_type": "code",
   "execution_count": 21,
   "metadata": {},
   "outputs": [],
   "source": [
    "df.reset_index(drop=True,inplace=True)"
   ]
  },
  {
   "cell_type": "code",
   "execution_count": 22,
   "metadata": {},
   "outputs": [
    {
     "data": {
      "text/plain": [
       "Diesel    1817\n",
       "Petrol    1728\n",
       "CNG         47\n",
       "LPG         11\n",
       "Name: fuel, dtype: int64"
      ]
     },
     "execution_count": 22,
     "metadata": {},
     "output_type": "execute_result"
    }
   ],
   "source": [
    "df['fuel'].value_counts()"
   ]
  },
  {
   "cell_type": "code",
   "execution_count": 23,
   "metadata": {},
   "outputs": [
    {
     "data": {
      "text/plain": [
       "INNOVA               178\n",
       "CITY                 154\n",
       "POLO                 130\n",
       "GRAND                109\n",
       "ELITE                 89\n",
       "                    ... \n",
       "ALTO 800 LX            1\n",
       "ALTURAS                1\n",
       "VITARA BREZZA ZXI      1\n",
       "CAPTUR                 1\n",
       "S-CROSS DELTA          1\n",
       "Name: Model, Length: 263, dtype: int64"
      ]
     },
     "execution_count": 23,
     "metadata": {},
     "output_type": "execute_result"
    }
   ],
   "source": [
    "df['Model'].value_counts()"
   ]
  },
  {
   "cell_type": "code",
   "execution_count": 24,
   "metadata": {},
   "outputs": [
    {
     "data": {
      "image/png": "[encoded data removed]",
      "text/plain": [
       "<Figure size 1080x720 with 1 Axes>"
      ]
     },
     "metadata": {},
     "output_type": "display_data"
    }
   ],
   "source": [
    "plt.figure(figsize=(15,10))\n",
    "sns.countplot(x='Model',data= df)\n",
    "plt.xticks(rotation=90)\n",
    "plt.show()"
   ]
  },
  {
   "cell_type": "code",
   "execution_count": null,
   "metadata": {},
   "outputs": [],
   "source": []
  },
  {
   "cell_type": "code",
   "execution_count": 25,
   "metadata": {},
   "outputs": [
    {
     "data": {
      "text/html": [
       "<div>\n",
       "<style scoped>\n",
       "    .dataframe tbody tr th:only-of-type {\n",
       "        vertical-align: middle;\n",
       "    }\n",
       "\n",
       "    .dataframe tbody tr th {\n",
       "        vertical-align: top;\n",
       "    }\n",
       "\n",
       "    .dataframe thead th {\n",
       "        text-align: right;\n",
       "    }\n",
       "</style>\n",
       "<table border=\"1\" class=\"dataframe\">\n",
       "  <thead>\n",
       "    <tr style=\"text-align: right;\">\n",
       "      <th></th>\n",
       "      <th>Company_Name</th>\n",
       "      <th>Model</th>\n",
       "      <th>price</th>\n",
       "      <th>km</th>\n",
       "      <th>Owner</th>\n",
       "      <th>Car_Age</th>\n",
       "      <th>fuel</th>\n",
       "      <th>location</th>\n",
       "    </tr>\n",
       "  </thead>\n",
       "  <tbody>\n",
       "    <tr>\n",
       "      <th>0</th>\n",
       "      <td>AUDI</td>\n",
       "      <td>Q5</td>\n",
       "      <td>1299991</td>\n",
       "      <td>65345</td>\n",
       "      <td>1</td>\n",
       "      <td>10</td>\n",
       "      <td>Diesel</td>\n",
       "      <td>Kolkata</td>\n",
       "    </tr>\n",
       "    <tr>\n",
       "      <th>1</th>\n",
       "      <td>AUDI</td>\n",
       "      <td>A3</td>\n",
       "      <td>2690000</td>\n",
       "      <td>12000</td>\n",
       "      <td>1</td>\n",
       "      <td>3</td>\n",
       "      <td>Petrol</td>\n",
       "      <td>Delhi</td>\n",
       "    </tr>\n",
       "    <tr>\n",
       "      <th>2</th>\n",
       "      <td>AUDI</td>\n",
       "      <td>A6</td>\n",
       "      <td>1700000</td>\n",
       "      <td>78000</td>\n",
       "      <td>1</td>\n",
       "      <td>7</td>\n",
       "      <td>Diesel</td>\n",
       "      <td>Delhi</td>\n",
       "    </tr>\n",
       "    <tr>\n",
       "      <th>3</th>\n",
       "      <td>AUDI</td>\n",
       "      <td>A6</td>\n",
       "      <td>1399991</td>\n",
       "      <td>53055</td>\n",
       "      <td>1</td>\n",
       "      <td>8</td>\n",
       "      <td>Diesel</td>\n",
       "      <td>Kolkata</td>\n",
       "    </tr>\n",
       "    <tr>\n",
       "      <th>4</th>\n",
       "      <td>AUDI</td>\n",
       "      <td>Q3</td>\n",
       "      <td>2975000</td>\n",
       "      <td>14000</td>\n",
       "      <td>1</td>\n",
       "      <td>3</td>\n",
       "      <td>Diesel</td>\n",
       "      <td>Delhi</td>\n",
       "    </tr>\n",
       "  </tbody>\n",
       "</table>\n",
       "</div>"
      ],
      "text/plain": [
       "  Company_Name Model    price     km  Owner  Car_Age    fuel location\n",
       "0         AUDI    Q5  1299991  65345      1       10  Diesel  Kolkata\n",
       "1         AUDI    A3  2690000  12000      1        3  Petrol    Delhi\n",
       "2         AUDI    A6  1700000  78000      1        7  Diesel    Delhi\n",
       "3         AUDI    A6  1399991  53055      1        8  Diesel  Kolkata\n",
       "4         AUDI    Q3  2975000  14000      1        3  Diesel    Delhi"
      ]
     },
     "execution_count": 25,
     "metadata": {},
     "output_type": "execute_result"
    }
   ],
   "source": [
    "df.head()"
   ]
  },
  {
   "cell_type": "code",
   "execution_count": 26,
   "metadata": {},
   "outputs": [
    {
     "data": {
      "text/plain": [
       "(3603, 8)"
      ]
     },
     "execution_count": 26,
     "metadata": {},
     "output_type": "execute_result"
    }
   ],
   "source": [
    "df.shape"
   ]
  },
  {
   "cell_type": "code",
   "execution_count": 27,
   "metadata": {},
   "outputs": [
    {
     "data": {
      "image/png": "[encoded data removed]",
      "text/plain": [
       "<Figure size 1080x720 with 1 Axes>"
      ]
     },
     "metadata": {},
     "output_type": "display_data"
    }
   ],
   "source": [
    "plt.figure(figsize=(15,10))\n",
    "sns.countplot(x='location',data= df)\n",
    "plt.xticks(rotation=90)\n",
    "plt.show()"
   ]
  },
  {
   "cell_type": "code",
   "execution_count": 28,
   "metadata": {},
   "outputs": [
    {
     "data": {
      "image/png": "[encoded data removed]",
      "text/plain": [
       "<Figure size 1080x720 with 1 Axes>"
      ]
     },
     "metadata": {},
     "output_type": "display_data"
    }
   ],
   "source": [
    "plt.figure(figsize=(15,10))\n",
    "sns.countplot(x='Company_Name',data= df)\n",
    "plt.xticks(rotation=90)\n",
    "plt.show()"
   ]
  },
  {
   "cell_type": "code",
   "execution_count": 29,
   "metadata": {},
   "outputs": [
    {
     "data": {
      "image/png": "[encoded data removed]",
      "text/plain": [
       "<Figure size 720x720 with 2 Axes>"
      ]
     },
     "metadata": {},
     "output_type": "display_data"
    }
   ],
   "source": [
    "#get correlations of each features in dataset\n",
    "corrmat = df.corr()\n",
    "top_corr_features = corrmat.index\n",
    "plt.figure(figsize=(10,10))\n",
    "#plot heat map\n",
    "g=sns.heatmap(df[top_corr_features].corr(),annot=True,cmap=\"RdYlGn\")"
   ]
  },
  {
   "cell_type": "code",
   "execution_count": 30,
   "metadata": {},
   "outputs": [
    {
     "data": {
      "text/plain": [
       "<AxesSubplot:xlabel='km', ylabel='Density'>"
      ]
     },
     "execution_count": 30,
     "metadata": {},
     "output_type": "execute_result"
    },
    {
     "data": {
      "image/png": "[encoded data removed]",
      "text/plain": [
       "<Figure size 576x396 with 1 Axes>"
      ]
     },
     "metadata": {},
     "output_type": "display_data"
    }
   ],
   "source": [
    "sns.distplot(df['km'])\n"
   ]
  },
  {
   "cell_type": "code",
   "execution_count": 31,
   "metadata": {},
   "outputs": [
    {
     "data": {
      "text/plain": [
       "<AxesSubplot:xlabel='Car_Age', ylabel='Density'>"
      ]
     },
     "execution_count": 31,
     "metadata": {},
     "output_type": "execute_result"
    },
    {
     "data": {
      "image/png": "[encoded data removed]",
      "text/plain": [
       "<Figure size 576x396 with 1 Axes>"
      ]
     },
     "metadata": {},
     "output_type": "display_data"
    }
   ],
   "source": [
    "sns.distplot(df['Car_Age'])"
   ]
  },
  {
   "cell_type": "code",
   "execution_count": 32,
   "metadata": {},
   "outputs": [
    {
     "data": {
      "text/plain": [
       "<AxesSubplot:xlabel='price', ylabel='Density'>"
      ]
     },
     "execution_count": 32,
     "metadata": {},
     "output_type": "execute_result"
    },
    {
     "data": {
      "image/png": "[encoded data removed]",
      "text/plain": [
       "<Figure size 576x396 with 1 Axes>"
      ]
     },
     "metadata": {},
     "output_type": "display_data"
    }
   ],
   "source": [
    "sns.distplot(df['price'])"
   ]
  },
  {
   "cell_type": "code",
   "execution_count": 33,
   "metadata": {},
   "outputs": [],
   "source": [
    "df_cont = df[['Car_Age','km']]"
   ]
  },
  {
   "cell_type": "code",
   "execution_count": 34,
   "metadata": {},
   "outputs": [],
   "source": [
    "df_cat=df[['Company_Name','location','Model', 'fuel','Owner']]"
   ]
  },
  {
   "cell_type": "code",
   "execution_count": 35,
   "metadata": {},
   "outputs": [],
   "source": [
    "#df_cat=df[['Company Name','Model', 'fuel','Owner']]"
   ]
  },
  {
   "cell_type": "code",
   "execution_count": 36,
   "metadata": {},
   "outputs": [],
   "source": [
    "df_dum=pd.get_dummies(df_cat,drop_first=True)"
   ]
  },
  {
   "cell_type": "code",
   "execution_count": 37,
   "metadata": {},
   "outputs": [],
   "source": [
    "X=pd.merge(df_cont,df_dum,on=df_cat.index)\n",
    "y= df[['price']]"
   ]
  },
  {
   "cell_type": "code",
   "execution_count": 38,
   "metadata": {},
   "outputs": [
    {
     "data": {
      "text/plain": [
       "(3603, 307)"
      ]
     },
     "execution_count": 38,
     "metadata": {},
     "output_type": "execute_result"
    }
   ],
   "source": [
    "X.shape"
   ]
  },
  {
   "cell_type": "code",
   "execution_count": 39,
   "metadata": {},
   "outputs": [
    {
     "data": {
      "text/html": [
       "<div>\n",
       "<style scoped>\n",
       "    .dataframe tbody tr th:only-of-type {\n",
       "        vertical-align: middle;\n",
       "    }\n",
       "\n",
       "    .dataframe tbody tr th {\n",
       "        vertical-align: top;\n",
       "    }\n",
       "\n",
       "    .dataframe thead th {\n",
       "        text-align: right;\n",
       "    }\n",
       "</style>\n",
       "<table border=\"1\" class=\"dataframe\">\n",
       "  <thead>\n",
       "    <tr style=\"text-align: right;\">\n",
       "      <th></th>\n",
       "      <th>price</th>\n",
       "    </tr>\n",
       "  </thead>\n",
       "  <tbody>\n",
       "    <tr>\n",
       "      <th>3598</th>\n",
       "      <td>3900000</td>\n",
       "    </tr>\n",
       "    <tr>\n",
       "      <th>3599</th>\n",
       "      <td>4075000</td>\n",
       "    </tr>\n",
       "    <tr>\n",
       "      <th>3600</th>\n",
       "      <td>4500000</td>\n",
       "    </tr>\n",
       "    <tr>\n",
       "      <th>3601</th>\n",
       "      <td>1675000</td>\n",
       "    </tr>\n",
       "    <tr>\n",
       "      <th>3602</th>\n",
       "      <td>1650000</td>\n",
       "    </tr>\n",
       "  </tbody>\n",
       "</table>\n",
       "</div>"
      ],
      "text/plain": [
       "        price\n",
       "3598  3900000\n",
       "3599  4075000\n",
       "3600  4500000\n",
       "3601  1675000\n",
       "3602  1650000"
      ]
     },
     "execution_count": 39,
     "metadata": {},
     "output_type": "execute_result"
    }
   ],
   "source": [
    "y.tail()"
   ]
  },
  {
   "cell_type": "code",
   "execution_count": 40,
   "metadata": {},
   "outputs": [
    {
     "data": {
      "text/plain": [
       "(3603, 1)"
      ]
     },
     "execution_count": 40,
     "metadata": {},
     "output_type": "execute_result"
    }
   ],
   "source": [
    "y.shape"
   ]
  },
  {
   "cell_type": "code",
   "execution_count": 41,
   "metadata": {},
   "outputs": [],
   "source": [
    "X_train, X_test, y_train, y_test = train_test_split(X, y, test_size=0.2, random_state=42)"
   ]
  },
  {
   "cell_type": "code",
   "execution_count": 42,
   "metadata": {},
   "outputs": [],
   "source": [
    "##Random Forest Regressor"
   ]
  },
  {
   "cell_type": "code",
   "execution_count": 43,
   "metadata": {},
   "outputs": [
    {
     "data": {
      "text/plain": [
       "RandomForestRegressor()"
      ]
     },
     "execution_count": 43,
     "metadata": {},
     "output_type": "execute_result"
    }
   ],
   "source": [
    "regr = RandomForestRegressor()\n",
    "regr.fit(X_train, y_train)"
   ]
  },
  {
   "cell_type": "code",
   "execution_count": 44,
   "metadata": {},
   "outputs": [
    {
     "data": {
      "text/plain": [
       "{'bootstrap': True,\n",
       " 'ccp_alpha': 0.0,\n",
       " 'criterion': 'mse',\n",
       " 'max_depth': None,\n",
       " 'max_features': 'auto',\n",
       " 'max_leaf_nodes': None,\n",
       " 'max_samples': None,\n",
       " 'min_impurity_decrease': 0.0,\n",
       " 'min_impurity_split': None,\n",
       " 'min_samples_leaf': 1,\n",
       " 'min_samples_split': 2,\n",
       " 'min_weight_fraction_leaf': 0.0,\n",
       " 'n_estimators': 100,\n",
       " 'n_jobs': None,\n",
       " 'oob_score': False,\n",
       " 'random_state': None,\n",
       " 'verbose': 0,\n",
       " 'warm_start': False}"
      ]
     },
     "execution_count": 44,
     "metadata": {},
     "output_type": "execute_result"
    }
   ],
   "source": [
    "regr.get_params(deep=True)"
   ]
  },
  {
   "cell_type": "code",
   "execution_count": 45,
   "metadata": {},
   "outputs": [],
   "source": [
    "y_pred = regr.predict(X_test)"
   ]
  },
  {
   "cell_type": "code",
   "execution_count": 46,
   "metadata": {},
   "outputs": [
    {
     "data": {
      "text/plain": [
       "0.8255870848249574"
      ]
     },
     "execution_count": 46,
     "metadata": {},
     "output_type": "execute_result"
    }
   ],
   "source": [
    "regr.score(X_test, y_test, sample_weight=None) "
   ]
  },
  {
   "cell_type": "code",
   "execution_count": null,
   "metadata": {},
   "outputs": [],
   "source": [
    "import pickle\n",
    "pickle.dump(regr, open(\"RandomForest.pkl\", \"wb\"))\n",
    "\n",
    "# load model from file\n",
    "model = pickle.load(open(\"RandomForest.pkl\", \"rb\"))"
   ]
  },
  {
   "cell_type": "code",
   "execution_count": 47,
   "metadata": {},
   "outputs": [
    {
     "data": {
      "text/plain": [
       "0.9753848916933577"
      ]
     },
     "execution_count": 47,
     "metadata": {},
     "output_type": "execute_result"
    }
   ],
   "source": [
    "regr.score(X_train, y_train, sample_weight=None)"
   ]
  },
  {
   "cell_type": "code",
   "execution_count": 48,
   "metadata": {},
   "outputs": [
    {
     "data": {
      "text/plain": [
       "<matplotlib.collections.PathCollection at 0x280349886a0>"
      ]
     },
     "execution_count": 48,
     "metadata": {},
     "output_type": "execute_result"
    },
    {
     "data": {
      "image/png": "[encoded data removed]",
      "text/plain": [
       "<Figure size 576x396 with 1 Axes>"
      ]
     },
     "metadata": {},
     "output_type": "display_data"
    }
   ],
   "source": [
    "plt.scatter(y_test,y_pred)"
   ]
  },
  {
   "cell_type": "code",
   "execution_count": 49,
   "metadata": {},
   "outputs": [],
   "source": [
    "## XGBoost"
   ]
  },
  {
   "cell_type": "code",
   "execution_count": 50,
   "metadata": {},
   "outputs": [],
   "source": [
    "from sklearn.model_selection import RandomizedSearchCV, GridSearchCV\n",
    "import xgboost as xgb\n",
    "from xgboost.sklearn import XGBRegressor\n",
    "import re\n",
    "\n",
    "regex = re.compile(r\"\\[|\\]|<\", re.IGNORECASE)\n",
    "\n",
    "X_train.columns = [regex.sub(\"_\", col) if any(x in str(col) for x in set(('[', ']', '<'))) else col for col in X_train.columns.values]"
   ]
  },
  {
   "cell_type": "code",
   "execution_count": 51,
   "metadata": {},
   "outputs": [],
   "source": [
    "xgb1 = XGBRegressor()\n",
    "parameters = {'nthread':[4], #when use hyperthread, xgboost may become slower\n",
    "              'objective':['reg:linear'],\n",
    "              'learning_rate': [.03, 0.05, .07,0.9], #so called `eta` value\n",
    "              'max_depth': [5, 6, 7],\n",
    "              'min_child_weight': [4],\n",
    "              'silent': [1],\n",
    "              'subsample': [0.7],\n",
    "              'colsample_bytree': [0.7],\n",
    "              'n_estimators': [500]}"
   ]
  },
  {
   "cell_type": "code",
   "execution_count": 52,
   "metadata": {},
   "outputs": [
    {
     "name": "stdout",
     "output_type": "stream",
     "text": [
      "Fitting 3 folds for each of 12 candidates, totalling 36 fits\n",
      "[17:59:15] WARNING: C:/Users/Administrator/workspace/xgboost-win64_release_1.3.0/src/objective/regression_obj.cu:170: reg:linear is now deprecated in favor of reg:squarederror.\n",
      "[17:59:15] WARNING: C:/Users/Administrator/workspace/xgboost-win64_release_1.3.0/src/learner.cc:541: \n",
      "Parameters: { silent } might not be used.\n",
      "\n",
      "  This may not be accurate due to some parameters are only used in language bindings but\n",
      "  passed down to XGBoost core.  Or some parameters are not used but slip through this\n",
      "  verification. Please open an issue if you find above cases.\n",
      "\n",
      "\n"
     ]
    },
    {
     "data": {
      "text/plain": [
       "GridSearchCV(cv=3,\n",
       "             estimator=XGBRegressor(base_score=None, booster=None,\n",
       "                                    colsample_bylevel=None,\n",
       "                                    colsample_bynode=None,\n",
       "                                    colsample_bytree=None, gamma=None,\n",
       "                                    gpu_id=None, importance_type='gain',\n",
       "                                    interaction_constraints=None,\n",
       "                                    learning_rate=None, max_delta_step=None,\n",
       "                                    max_depth=None, min_child_weight=None,\n",
       "                                    missing=nan, monotone_constraints=None,\n",
       "                                    n_estimators=100, n_jobs=...\n",
       "                                    reg_alpha=None, reg_lambda=None,\n",
       "                                    scale_pos_weight=None, subsample=None,\n",
       "                                    tree_method=None, validate_parameters=None,\n",
       "                                    verbosity=None),\n",
       "             n_jobs=-1,\n",
       "             param_grid={'colsample_bytree': [0.7],\n",
       "                         'learning_rate': [0.03, 0.05, 0.07, 0.9],\n",
       "                         'max_depth': [5, 6, 7], 'min_child_weight': [4],\n",
       "                         'n_estimators': [500], 'nthread': [4],\n",
       "                         'objective': ['reg:linear'], 'silent': [1],\n",
       "                         'subsample': [0.7]},\n",
       "             verbose=3)"
      ]
     },
     "execution_count": 52,
     "metadata": {},
     "output_type": "execute_result"
    }
   ],
   "source": [
    "xgb_grid = GridSearchCV(xgb1,\n",
    "                        parameters,\n",
    "                        cv = 3,\n",
    "                        n_jobs = -1,\n",
    "                        verbose=3)\n",
    "xgb_grid.fit(X_train,y_train)"
   ]
  },
  {
   "cell_type": "code",
   "execution_count": 53,
   "metadata": {},
   "outputs": [
    {
     "name": "stdout",
     "output_type": "stream",
     "text": [
      "0.7792503114049315\n",
      "{'colsample_bytree': 0.7, 'learning_rate': 0.05, 'max_depth': 5, 'min_child_weight': 4, 'n_estimators': 500, 'nthread': 4, 'objective': 'reg:linear', 'silent': 1, 'subsample': 0.7}\n"
     ]
    }
   ],
   "source": [
    "print(xgb_grid.best_score_)\n",
    "print(xgb_grid.best_params_)"
   ]
  },
  {
   "cell_type": "code",
   "execution_count": 54,
   "metadata": {},
   "outputs": [],
   "source": [
    "params = {'colsample_bytree': [0.7],\n",
    "          'learning_rate':[0.07], \n",
    "          'max_depth':[5],\n",
    "          'min_child_weight':[4], \n",
    "          'n_estimators':[500], \n",
    "          'nthread': [4],\n",
    "          'objective': ['reg:linear'],\n",
    "          'silent': [1],\n",
    "          'subsample': [0.7]}"
   ]
  },
  {
   "cell_type": "code",
   "execution_count": 55,
   "metadata": {},
   "outputs": [
    {
     "name": "stdout",
     "output_type": "stream",
     "text": [
      "Fitting 7 folds for each of 1 candidates, totalling 7 fits\n",
      "[18:00:01] WARNING: C:/Users/Administrator/workspace/xgboost-win64_release_1.3.0/src/objective/regression_obj.cu:170: reg:linear is now deprecated in favor of reg:squarederror.\n",
      "[18:00:01] WARNING: C:/Users/Administrator/workspace/xgboost-win64_release_1.3.0/src/learner.cc:541: \n",
      "Parameters: { silent } might not be used.\n",
      "\n",
      "  This may not be accurate due to some parameters are only used in language bindings but\n",
      "  passed down to XGBoost core.  Or some parameters are not used but slip through this\n",
      "  verification. Please open an issue if you find above cases.\n",
      "\n",
      "\n"
     ]
    },
    {
     "data": {
      "text/plain": [
       "GridSearchCV(cv=7,\n",
       "             estimator=XGBRegressor(base_score=None, booster=None,\n",
       "                                    colsample_bylevel=None,\n",
       "                                    colsample_bynode=None,\n",
       "                                    colsample_bytree=None, gamma=None,\n",
       "                                    gpu_id=None, importance_type='gain',\n",
       "                                    interaction_constraints=None,\n",
       "                                    learning_rate=None, max_delta_step=None,\n",
       "                                    max_depth=None, min_child_weight=None,\n",
       "                                    missing=nan, monotone_constraints=None,\n",
       "                                    n_estimators=100, n_jobs=...\n",
       "                                    num_parallel_tree=None, random_state=None,\n",
       "                                    reg_alpha=None, reg_lambda=None,\n",
       "                                    scale_pos_weight=None, subsample=None,\n",
       "                                    tree_method=None, validate_parameters=None,\n",
       "                                    verbosity=None),\n",
       "             n_jobs=-1,\n",
       "             param_grid={'colsample_bytree': [0.7], 'learning_rate': [0.07],\n",
       "                         'max_depth': [5], 'min_child_weight': [4],\n",
       "                         'n_estimators': [500], 'nthread': [4],\n",
       "                         'objective': ['reg:linear'], 'silent': [1],\n",
       "                         'subsample': [0.7]},\n",
       "             verbose=True)"
      ]
     },
     "execution_count": 55,
     "metadata": {},
     "output_type": "execute_result"
    }
   ],
   "source": [
    "xgb_grid = GridSearchCV(xgb1,\n",
    "                        params,\n",
    "                        cv = 7,\n",
    "                        n_jobs =-1,\n",
    "                        verbose=True)\n",
    "\n",
    "xgb_grid.fit(X_train,y_train)"
   ]
  },
  {
   "cell_type": "code",
   "execution_count": 56,
   "metadata": {},
   "outputs": [
    {
     "name": "stdout",
     "output_type": "stream",
     "text": [
      "0.8069034108650285\n"
     ]
    }
   ],
   "source": [
    "print(xgb_grid.best_score_)"
   ]
  },
  {
   "cell_type": "code",
   "execution_count": null,
   "metadata": {},
   "outputs": [],
   "source": []
  },
  {
   "cell_type": "code",
   "execution_count": 57,
   "metadata": {},
   "outputs": [],
   "source": [
    "##RandomForestRegressor()"
   ]
  },
  {
   "cell_type": "code",
   "execution_count": 58,
   "metadata": {},
   "outputs": [
    {
     "data": {
      "text/plain": [
       "RandomForestRegressor()"
      ]
     },
     "execution_count": 58,
     "metadata": {},
     "output_type": "execute_result"
    }
   ],
   "source": [
    "from sklearn.ensemble import RandomForestRegressor\n",
    "reg_rf = RandomForestRegressor()\n",
    "reg_rf.fit(X_train, y_train)"
   ]
  },
  {
   "cell_type": "code",
   "execution_count": 59,
   "metadata": {},
   "outputs": [
    {
     "data": {
      "text/plain": [
       "0.9736685797982586"
      ]
     },
     "execution_count": 59,
     "metadata": {},
     "output_type": "execute_result"
    }
   ],
   "source": [
    "reg_rf.score(X_train, y_train)\n"
   ]
  },
  {
   "cell_type": "code",
   "execution_count": 60,
   "metadata": {},
   "outputs": [
    {
     "data": {
      "text/plain": [
       "0.8185064185232513"
      ]
     },
     "execution_count": 60,
     "metadata": {},
     "output_type": "execute_result"
    }
   ],
   "source": [
    "reg_rf.score(X_test,y_test)"
   ]
  },
  {
   "cell_type": "code",
   "execution_count": 61,
   "metadata": {},
   "outputs": [
    {
     "data": {
      "text/plain": [
       "0.8255870848249574"
      ]
     },
     "execution_count": 61,
     "metadata": {},
     "output_type": "execute_result"
    }
   ],
   "source": [
    "r2_score(y_test,y_pred)"
   ]
  },
  {
   "cell_type": "code",
   "execution_count": 62,
   "metadata": {},
   "outputs": [
    {
     "data": {
      "text/plain": [
       "<matplotlib.collections.PathCollection at 0x280349cd250>"
      ]
     },
     "execution_count": 62,
     "metadata": {},
     "output_type": "execute_result"
    },
    {
     "data": {
      "image/png": "[encoded data removed]",
      "text/plain": [
       "<Figure size 576x396 with 1 Axes>"
      ]
     },
     "metadata": {},
     "output_type": "display_data"
    }
   ],
   "source": [
    "plt.scatter(y_test,y_pred)"
   ]
  },
  {
   "cell_type": "code",
   "execution_count": null,
   "metadata": {},
   "outputs": [],
   "source": []
  },
  {
   "cell_type": "code",
   "execution_count": 63,
   "metadata": {},
   "outputs": [],
   "source": [
    "##OLS Model"
   ]
  },
  {
   "cell_type": "code",
   "execution_count": 64,
   "metadata": {},
   "outputs": [
    {
     "data": {
      "text/html": [
       "<table class=\"simpletable\">\n",
       "<caption>OLS Regression Results</caption>\n",
       "<tr>\n",
       "  <th>Dep. Variable:</th>          <td>price</td>      <th>  R-squared:         </th> <td>   0.843</td> \n",
       "</tr>\n",
       "<tr>\n",
       "  <th>Model:</th>                   <td>OLS</td>       <th>  Adj. R-squared:    </th> <td>   0.827</td> \n",
       "</tr>\n",
       "<tr>\n",
       "  <th>Method:</th>             <td>Least Squares</td>  <th>  F-statistic:       </th> <td>   52.04</td> \n",
       "</tr>\n",
       "<tr>\n",
       "  <th>Date:</th>             <td>Sat, 08 May 2021</td> <th>  Prob (F-statistic):</th>  <td>  0.00</td>  \n",
       "</tr>\n",
       "<tr>\n",
       "  <th>Time:</th>                 <td>18:00:19</td>     <th>  Log-Likelihood:    </th> <td> -42487.</td> \n",
       "</tr>\n",
       "<tr>\n",
       "  <th>No. Observations:</th>      <td>  2882</td>      <th>  AIC:               </th> <td>8.551e+04</td>\n",
       "</tr>\n",
       "<tr>\n",
       "  <th>Df Residuals:</th>          <td>  2612</td>      <th>  BIC:               </th> <td>8.712e+04</td>\n",
       "</tr>\n",
       "<tr>\n",
       "  <th>Df Model:</th>              <td>   269</td>      <th>                     </th>     <td> </td>    \n",
       "</tr>\n",
       "<tr>\n",
       "  <th>Covariance Type:</th>      <td>nonrobust</td>    <th>                     </th>     <td> </td>    \n",
       "</tr>\n",
       "</table>\n",
       "<table class=\"simpletable\">\n",
       "<tr>\n",
       "               <td></td>                  <th>coef</th>     <th>std err</th>      <th>t</th>      <th>P>|t|</th>  <th>[0.025</th>    <th>0.975]</th>  \n",
       "</tr>\n",
       "<tr>\n",
       "  <th>key_0</th>                       <td>    9.7632</td> <td>  136.910</td> <td>    0.071</td> <td> 0.943</td> <td> -258.701</td> <td>  278.227</td>\n",
       "</tr>\n",
       "<tr>\n",
       "  <th>Car_Age</th>                     <td>-1.539e+05</td> <td> 5659.985</td> <td>  -27.197</td> <td> 0.000</td> <td>-1.65e+05</td> <td>-1.43e+05</td>\n",
       "</tr>\n",
       "<tr>\n",
       "  <th>km</th>                          <td>   -2.4774</td> <td>    0.318</td> <td>   -7.801</td> <td> 0.000</td> <td>   -3.100</td> <td>   -1.855</td>\n",
       "</tr>\n",
       "<tr>\n",
       "  <th>Owner</th>                       <td>-1.701e+04</td> <td> 3.37e+04</td> <td>   -0.505</td> <td> 0.613</td> <td> -8.3e+04</td> <td>  4.9e+04</td>\n",
       "</tr>\n",
       "<tr>\n",
       "  <th>Company_Name_BMW</th>            <td> 3.284e+06</td> <td> 2.04e+05</td> <td>   16.097</td> <td> 0.000</td> <td> 2.88e+06</td> <td> 3.68e+06</td>\n",
       "</tr>\n",
       "<tr>\n",
       "  <th>Company_Name_CHEVROLET</th>      <td> 1.497e+06</td> <td> 2.37e+05</td> <td>    6.323</td> <td> 0.000</td> <td> 1.03e+06</td> <td> 1.96e+06</td>\n",
       "</tr>\n",
       "<tr>\n",
       "  <th>Company_Name_DATSUN</th>         <td> 5.678e+05</td> <td> 1.89e+05</td> <td>    3.004</td> <td> 0.003</td> <td> 1.97e+05</td> <td> 9.38e+05</td>\n",
       "</tr>\n",
       "<tr>\n",
       "  <th>Company_Name_FIAT</th>           <td> 6.829e+05</td> <td> 1.42e+05</td> <td>    4.794</td> <td> 0.000</td> <td> 4.04e+05</td> <td> 9.62e+05</td>\n",
       "</tr>\n",
       "<tr>\n",
       "  <th>Company_Name_FORD</th>           <td> 1.511e+06</td> <td> 1.97e+05</td> <td>    7.656</td> <td> 0.000</td> <td> 1.12e+06</td> <td>  1.9e+06</td>\n",
       "</tr>\n",
       "<tr>\n",
       "  <th>Company_Name_HONDA</th>          <td> 1.498e+06</td> <td> 1.76e+05</td> <td>    8.519</td> <td> 0.000</td> <td> 1.15e+06</td> <td> 1.84e+06</td>\n",
       "</tr>\n",
       "<tr>\n",
       "  <th>Company_Name_HYUNDAI</th>        <td>  1.49e+06</td> <td> 2.19e+05</td> <td>    6.817</td> <td> 0.000</td> <td> 1.06e+06</td> <td> 1.92e+06</td>\n",
       "</tr>\n",
       "<tr>\n",
       "  <th>Company_Name_JAGUAR</th>         <td> 5.889e+06</td> <td> 2.58e+05</td> <td>   22.861</td> <td> 0.000</td> <td> 5.38e+06</td> <td> 6.39e+06</td>\n",
       "</tr>\n",
       "<tr>\n",
       "  <th>Company_Name_JEEP</th>           <td> 2.489e+06</td> <td> 2.35e+05</td> <td>   10.594</td> <td> 0.000</td> <td> 2.03e+06</td> <td> 2.95e+06</td>\n",
       "</tr>\n",
       "<tr>\n",
       "  <th>Company_Name_KIA</th>            <td> 1.716e+06</td> <td> 2.26e+05</td> <td>    7.605</td> <td> 0.000</td> <td> 1.27e+06</td> <td> 2.16e+06</td>\n",
       "</tr>\n",
       "<tr>\n",
       "  <th>Company_Name_LAND</th>           <td> 2.559e+06</td> <td> 1.41e+05</td> <td>   18.200</td> <td> 0.000</td> <td> 2.28e+06</td> <td> 2.83e+06</td>\n",
       "</tr>\n",
       "<tr>\n",
       "  <th>Company_Name_MAHINDRA</th>       <td> 1.515e+06</td> <td> 2.69e+05</td> <td>    5.639</td> <td> 0.000</td> <td> 9.88e+05</td> <td> 2.04e+06</td>\n",
       "</tr>\n",
       "<tr>\n",
       "  <th>Company_Name_MARUTI SUZUKI</th>  <td> 1.386e+06</td> <td> 3.09e+05</td> <td>    4.483</td> <td> 0.000</td> <td>  7.8e+05</td> <td> 1.99e+06</td>\n",
       "</tr>\n",
       "<tr>\n",
       "  <th>Company_Name_MERCEDES-BENZ</th>  <td> 4.477e+06</td> <td>  3.6e+05</td> <td>   12.452</td> <td> 0.000</td> <td> 3.77e+06</td> <td> 5.18e+06</td>\n",
       "</tr>\n",
       "<tr>\n",
       "  <th>Company_Name_MINI</th>           <td>  2.14e+06</td> <td> 3.78e+05</td> <td>    5.660</td> <td> 0.000</td> <td>  1.4e+06</td> <td> 2.88e+06</td>\n",
       "</tr>\n",
       "<tr>\n",
       "  <th>Company_Name_MITSUBISHI</th>     <td> 2.167e+06</td> <td> 3.77e+05</td> <td>    5.753</td> <td> 0.000</td> <td> 1.43e+06</td> <td>  2.9e+06</td>\n",
       "</tr>\n",
       "<tr>\n",
       "  <th>Company_Name_NISSAN</th>         <td> 1.241e+06</td> <td> 3.49e+05</td> <td>    3.557</td> <td> 0.000</td> <td> 5.57e+05</td> <td> 1.93e+06</td>\n",
       "</tr>\n",
       "<tr>\n",
       "  <th>Company_Name_PORSCHE</th>        <td> 6.849e+06</td> <td> 3.79e+05</td> <td>   18.085</td> <td> 0.000</td> <td> 6.11e+06</td> <td> 7.59e+06</td>\n",
       "</tr>\n",
       "<tr>\n",
       "  <th>Company_Name_RENAULT</th>        <td>  1.14e+06</td> <td>  3.7e+05</td> <td>    3.079</td> <td> 0.002</td> <td> 4.14e+05</td> <td> 1.87e+06</td>\n",
       "</tr>\n",
       "<tr>\n",
       "  <th>Company_Name_SKODA</th>          <td> 1.935e+06</td> <td> 3.75e+05</td> <td>    5.163</td> <td> 0.000</td> <td>  1.2e+06</td> <td> 2.67e+06</td>\n",
       "</tr>\n",
       "<tr>\n",
       "  <th>Company_Name_TATA</th>           <td> 1.292e+06</td> <td> 4.09e+05</td> <td>    3.159</td> <td> 0.002</td> <td>  4.9e+05</td> <td> 2.09e+06</td>\n",
       "</tr>\n",
       "<tr>\n",
       "  <th>Company_Name_TOYOTA</th>         <td> 3.104e+06</td> <td>  4.2e+05</td> <td>    7.398</td> <td> 0.000</td> <td> 2.28e+06</td> <td> 3.93e+06</td>\n",
       "</tr>\n",
       "<tr>\n",
       "  <th>Company_Name_VOLKSWAGEN</th>     <td> 1.652e+06</td> <td> 4.57e+05</td> <td>    3.613</td> <td> 0.000</td> <td> 7.56e+05</td> <td> 2.55e+06</td>\n",
       "</tr>\n",
       "<tr>\n",
       "  <th>Company_Name_VOLVO</th>          <td> 3.494e+06</td> <td> 4.91e+05</td> <td>    7.114</td> <td> 0.000</td> <td> 2.53e+06</td> <td> 4.46e+06</td>\n",
       "</tr>\n",
       "<tr>\n",
       "  <th>location_Bangalore</th>          <td>  1.22e+05</td> <td> 7.45e+04</td> <td>    1.639</td> <td> 0.101</td> <td> -2.4e+04</td> <td> 2.68e+05</td>\n",
       "</tr>\n",
       "<tr>\n",
       "  <th>location_Bhopal</th>             <td> 1.287e+05</td> <td> 1.11e+05</td> <td>    1.156</td> <td> 0.248</td> <td>-8.95e+04</td> <td> 3.47e+05</td>\n",
       "</tr>\n",
       "<tr>\n",
       "  <th>location_Chennai</th>            <td>-1.089e+04</td> <td> 7.96e+04</td> <td>   -0.137</td> <td> 0.891</td> <td>-1.67e+05</td> <td> 1.45e+05</td>\n",
       "</tr>\n",
       "<tr>\n",
       "  <th>location_Coimbatore</th>         <td> 2.077e+05</td> <td>  9.3e+04</td> <td>    2.232</td> <td> 0.026</td> <td> 2.52e+04</td> <td>  3.9e+05</td>\n",
       "</tr>\n",
       "<tr>\n",
       "  <th>location_Delhi</th>              <td>-5.301e+04</td> <td> 7.12e+04</td> <td>   -0.744</td> <td> 0.457</td> <td>-1.93e+05</td> <td> 8.67e+04</td>\n",
       "</tr>\n",
       "<tr>\n",
       "  <th>location_Hyderabad</th>          <td>  1.15e+05</td> <td> 7.39e+04</td> <td>    1.555</td> <td> 0.120</td> <td>   -3e+04</td> <td>  2.6e+05</td>\n",
       "</tr>\n",
       "<tr>\n",
       "  <th>location_Jaipur</th>             <td>-5.152e+04</td> <td> 1.14e+05</td> <td>   -0.450</td> <td> 0.653</td> <td>-2.76e+05</td> <td> 1.73e+05</td>\n",
       "</tr>\n",
       "<tr>\n",
       "  <th>location_Kolkata</th>            <td>-7.582e+04</td> <td> 9.04e+04</td> <td>   -0.839</td> <td> 0.402</td> <td>-2.53e+05</td> <td> 1.01e+05</td>\n",
       "</tr>\n",
       "<tr>\n",
       "  <th>location_Mumbai</th>             <td>-4.426e+04</td> <td> 6.88e+04</td> <td>   -0.643</td> <td> 0.520</td> <td>-1.79e+05</td> <td> 9.06e+04</td>\n",
       "</tr>\n",
       "<tr>\n",
       "  <th>location_Nagpur</th>             <td> 7.553e+04</td> <td> 1.04e+05</td> <td>    0.730</td> <td> 0.466</td> <td>-1.27e+05</td> <td> 2.78e+05</td>\n",
       "</tr>\n",
       "<tr>\n",
       "  <th>location_Navi Mumbai</th>        <td>-1.261e+04</td> <td> 1.25e+05</td> <td>   -0.101</td> <td> 0.920</td> <td>-2.58e+05</td> <td> 2.33e+05</td>\n",
       "</tr>\n",
       "<tr>\n",
       "  <th>location_Pune</th>               <td> 1.741e+05</td> <td> 7.84e+04</td> <td>    2.222</td> <td> 0.026</td> <td> 2.04e+04</td> <td> 3.28e+05</td>\n",
       "</tr>\n",
       "<tr>\n",
       "  <th>location_Thane</th>              <td> 1.068e+05</td> <td> 9.12e+04</td> <td>    1.171</td> <td> 0.242</td> <td> -7.2e+04</td> <td> 2.86e+05</td>\n",
       "</tr>\n",
       "<tr>\n",
       "  <th>location_Thiruvananthapuram</th> <td>-3.479e+04</td> <td> 1.34e+05</td> <td>   -0.259</td> <td> 0.795</td> <td>-2.98e+05</td> <td> 2.28e+05</td>\n",
       "</tr>\n",
       "<tr>\n",
       "  <th>Model_5</th>                     <td> 6.774e+05</td> <td> 1.69e+05</td> <td>    4.009</td> <td> 0.000</td> <td> 3.46e+05</td> <td> 1.01e+06</td>\n",
       "</tr>\n",
       "<tr>\n",
       "  <th>Model_6</th>                     <td> 2.064e+06</td> <td> 3.41e+05</td> <td>    6.053</td> <td> 0.000</td> <td>  1.4e+06</td> <td> 2.73e+06</td>\n",
       "</tr>\n",
       "<tr>\n",
       "  <th>Model_7</th>                     <td> 2.983e+06</td> <td> 2.54e+05</td> <td>   11.750</td> <td> 0.000</td> <td> 2.49e+06</td> <td> 3.48e+06</td>\n",
       "</tr>\n",
       "<tr>\n",
       "  <th>Model_718</th>                   <td> 1.048e+06</td> <td>  3.6e+05</td> <td>    2.910</td> <td> 0.004</td> <td> 3.42e+05</td> <td> 1.75e+06</td>\n",
       "</tr>\n",
       "<tr>\n",
       "  <th>Model_800 AC</th>                <td> 1.373e+06</td> <td> 3.31e+05</td> <td>    4.144</td> <td> 0.000</td> <td> 7.23e+05</td> <td> 2.02e+06</td>\n",
       "</tr>\n",
       "<tr>\n",
       "  <th>Model_911</th>                   <td> 3.494e+06</td> <td> 4.24e+05</td> <td>    8.245</td> <td> 0.000</td> <td> 2.66e+06</td> <td> 4.32e+06</td>\n",
       "</tr>\n",
       "<tr>\n",
       "  <th>Model_A-CLASS</th>               <td>-2.122e+06</td> <td> 4.36e+05</td> <td>   -4.865</td> <td> 0.000</td> <td>-2.98e+06</td> <td>-1.27e+06</td>\n",
       "</tr>\n",
       "<tr>\n",
       "  <th>Model_A-STAR VXI</th>            <td> 1.957e+05</td> <td> 6.39e+05</td> <td>    0.306</td> <td> 0.759</td> <td>-1.06e+06</td> <td> 1.45e+06</td>\n",
       "</tr>\n",
       "<tr>\n",
       "  <th>Model_A3</th>                    <td> 3.115e+06</td> <td> 2.81e+05</td> <td>   11.073</td> <td> 0.000</td> <td> 2.56e+06</td> <td> 3.67e+06</td>\n",
       "</tr>\n",
       "<tr>\n",
       "  <th>Model_A4</th>                    <td> 2.763e+06</td> <td> 2.32e+05</td> <td>   11.882</td> <td> 0.000</td> <td> 2.31e+06</td> <td> 3.22e+06</td>\n",
       "</tr>\n",
       "<tr>\n",
       "  <th>Model_A5</th>                    <td> 4.878e+06</td> <td> 4.04e+05</td> <td>   12.063</td> <td> 0.000</td> <td> 4.09e+06</td> <td> 5.67e+06</td>\n",
       "</tr>\n",
       "<tr>\n",
       "  <th>Model_A6</th>                    <td> 3.329e+06</td> <td> 2.19e+05</td> <td>   15.204</td> <td> 0.000</td> <td>  2.9e+06</td> <td> 3.76e+06</td>\n",
       "</tr>\n",
       "<tr>\n",
       "  <th>Model_A8</th>                    <td> 4.558e+06</td> <td>  4.1e+05</td> <td>   11.118</td> <td> 0.000</td> <td> 3.75e+06</td> <td> 5.36e+06</td>\n",
       "</tr>\n",
       "<tr>\n",
       "  <th>Model_ACCORD</th>                <td> 6.876e+05</td> <td> 1.72e+05</td> <td>    3.996</td> <td> 0.000</td> <td>  3.5e+05</td> <td> 1.03e+06</td>\n",
       "</tr>\n",
       "<tr>\n",
       "  <th>Model_ALPHARD</th>               <td> 1.658e+06</td> <td> 3.46e+05</td> <td>    4.787</td> <td> 0.000</td> <td> 9.79e+05</td> <td> 2.34e+06</td>\n",
       "</tr>\n",
       "<tr>\n",
       "  <th>Model_ALTO 800 LX</th>           <td>-7.393e+05</td> <td> 6.38e+05</td> <td>   -1.159</td> <td> 0.247</td> <td>-1.99e+06</td> <td> 5.12e+05</td>\n",
       "</tr>\n",
       "<tr>\n",
       "  <th>Model_ALTO 800 LX </th>          <td>-6.521e+05</td> <td> 6.38e+05</td> <td>   -1.022</td> <td> 0.307</td> <td> -1.9e+06</td> <td> 5.99e+05</td>\n",
       "</tr>\n",
       "<tr>\n",
       "  <th>Model_ALTO 800 LXI</th>          <td>-2.792e+05</td> <td> 2.22e+05</td> <td>   -1.258</td> <td> 0.209</td> <td>-7.14e+05</td> <td> 1.56e+05</td>\n",
       "</tr>\n",
       "<tr>\n",
       "  <th>Model_ALTO 800 VXI</th>          <td>-6.287e+05</td> <td> 2.91e+05</td> <td>   -2.164</td> <td> 0.031</td> <td> -1.2e+06</td> <td> -5.9e+04</td>\n",
       "</tr>\n",
       "<tr>\n",
       "  <th>Model_ALTO K10 LXI</th>          <td> -1.54e+05</td> <td> 3.23e+05</td> <td>   -0.477</td> <td> 0.633</td> <td>-7.86e+05</td> <td> 4.78e+05</td>\n",
       "</tr>\n",
       "<tr>\n",
       "  <th>Model_ALTO K10 VXI</th>          <td>-3.442e+05</td> <td> 1.38e+05</td> <td>   -2.502</td> <td> 0.012</td> <td>-6.14e+05</td> <td>-7.45e+04</td>\n",
       "</tr>\n",
       "<tr>\n",
       "  <th>Model_ALTO LXI</th>              <td> 4.966e+05</td> <td> 2.68e+05</td> <td>    1.854</td> <td> 0.064</td> <td>-2.86e+04</td> <td> 1.02e+06</td>\n",
       "</tr>\n",
       "<tr>\n",
       "  <th>Model_ALTO STD</th>              <td> 6.404e+05</td> <td> 6.39e+05</td> <td>    1.003</td> <td> 0.316</td> <td>-6.12e+05</td> <td> 1.89e+06</td>\n",
       "</tr>\n",
       "<tr>\n",
       "  <th>Model_ALTO VXI</th>              <td> 1.161e-05</td> <td> 5.14e-06</td> <td>    2.260</td> <td> 0.024</td> <td> 1.54e-06</td> <td> 2.17e-05</td>\n",
       "</tr>\n",
       "<tr>\n",
       "  <th>Model_ALTROZ</th>                <td>-6.915e+05</td> <td> 4.36e+05</td> <td>   -1.586</td> <td> 0.113</td> <td>-1.55e+06</td> <td> 1.63e+05</td>\n",
       "</tr>\n",
       "<tr>\n",
       "  <th>Model_ALTURAS</th>               <td> 1.581e+06</td> <td>    6e+05</td> <td>    2.634</td> <td> 0.008</td> <td> 4.04e+05</td> <td> 2.76e+06</td>\n",
       "</tr>\n",
       "<tr>\n",
       "  <th>Model_AMAZE</th>                 <td>-2.166e+05</td> <td> 9.34e+04</td> <td>   -2.320</td> <td> 0.020</td> <td>   -4e+05</td> <td>-3.36e+04</td>\n",
       "</tr>\n",
       "<tr>\n",
       "  <th>Model_AMEO</th>                  <td>-6.583e+05</td> <td> 1.78e+05</td> <td>   -3.697</td> <td> 0.000</td> <td>-1.01e+06</td> <td>-3.09e+05</td>\n",
       "</tr>\n",
       "<tr>\n",
       "  <th>Model_ARIA</th>                  <td> 4.814e+05</td> <td> 3.58e+05</td> <td>    1.344</td> <td> 0.179</td> <td>-2.21e+05</td> <td> 1.18e+06</td>\n",
       "</tr>\n",
       "<tr>\n",
       "  <th>Model_ASPIRE</th>                <td>-2.271e+05</td> <td> 3.02e+05</td> <td>   -0.753</td> <td> 0.452</td> <td>-8.19e+05</td> <td> 3.64e+05</td>\n",
       "</tr>\n",
       "<tr>\n",
       "  <th>Model_B-CLASS</th>               <td>-2.218e+06</td> <td> 2.44e+05</td> <td>   -9.088</td> <td> 0.000</td> <td> -2.7e+06</td> <td>-1.74e+06</td>\n",
       "</tr>\n",
       "<tr>\n",
       "  <th>Model_BALENO ALPHA</th>          <td>-3.166e+05</td> <td> 1.79e+05</td> <td>   -1.774</td> <td> 0.076</td> <td>-6.67e+05</td> <td> 3.34e+04</td>\n",
       "</tr>\n",
       "<tr>\n",
       "  <th>Model_BALENO DELTA</th>          <td>-3.369e+05</td> <td> 1.59e+05</td> <td>   -2.118</td> <td> 0.034</td> <td>-6.49e+05</td> <td>-2.49e+04</td>\n",
       "</tr>\n",
       "<tr>\n",
       "  <th>Model_BALENO SIGMA</th>          <td> -1.75e+05</td> <td> 4.52e+05</td> <td>   -0.387</td> <td> 0.699</td> <td>-1.06e+06</td> <td> 7.12e+05</td>\n",
       "</tr>\n",
       "<tr>\n",
       "  <th>Model_BALENO VXI</th>            <td> 7.168e-06</td> <td> 3.22e-06</td> <td>    2.224</td> <td> 0.026</td> <td> 8.49e-07</td> <td> 1.35e-05</td>\n",
       "</tr>\n",
       "<tr>\n",
       "  <th>Model_BALENO ZETA</th>           <td>-2.776e+05</td> <td> 2.07e+05</td> <td>   -1.340</td> <td> 0.180</td> <td>-6.84e+05</td> <td> 1.29e+05</td>\n",
       "</tr>\n",
       "<tr>\n",
       "  <th>Model_BEAT</th>                  <td>-8.103e+04</td> <td> 3.59e+05</td> <td>   -0.226</td> <td> 0.822</td> <td>-7.85e+05</td> <td> 6.23e+05</td>\n",
       "</tr>\n",
       "<tr>\n",
       "  <th>Model_BEETLE</th>                <td> 1.302e+06</td> <td> 3.49e+05</td> <td>    3.730</td> <td> 0.000</td> <td> 6.18e+05</td> <td> 1.99e+06</td>\n",
       "</tr>\n",
       "<tr>\n",
       "  <th>Model_BOLERO</th>                <td> 1.983e+05</td> <td> 2.64e+05</td> <td>    0.750</td> <td> 0.453</td> <td> -3.2e+05</td> <td> 7.17e+05</td>\n",
       "</tr>\n",
       "<tr>\n",
       "  <th>Model_BOLT</th>                  <td>-2.541e+05</td> <td> 4.37e+05</td> <td>   -0.582</td> <td> 0.561</td> <td>-1.11e+06</td> <td> 6.02e+05</td>\n",
       "</tr>\n",
       "<tr>\n",
       "  <th>Model_BOXSTER</th>               <td> 1.227e+06</td> <td> 5.71e+05</td> <td>    2.148</td> <td> 0.032</td> <td> 1.07e+05</td> <td> 2.35e+06</td>\n",
       "</tr>\n",
       "<tr>\n",
       "  <th>Model_BR-V</th>                  <td>-2.662e+04</td> <td> 2.27e+05</td> <td>   -0.117</td> <td> 0.907</td> <td>-4.72e+05</td> <td> 4.19e+05</td>\n",
       "</tr>\n",
       "<tr>\n",
       "  <th>Model_BRIO</th>                  <td>-9.776e+04</td> <td> 1.32e+05</td> <td>   -0.743</td> <td> 0.458</td> <td>-3.56e+05</td> <td>  1.6e+05</td>\n",
       "</tr>\n",
       "<tr>\n",
       "  <th>Model_C-CLASS</th>               <td>-1.223e+06</td> <td>  1.3e+05</td> <td>   -9.380</td> <td> 0.000</td> <td>-1.48e+06</td> <td>-9.68e+05</td>\n",
       "</tr>\n",
       "<tr>\n",
       "  <th>Model_C-COUPE</th>               <td> 2.174e+06</td> <td>  6.1e+05</td> <td>    3.563</td> <td> 0.000</td> <td> 9.78e+05</td> <td> 3.37e+06</td>\n",
       "</tr>\n",
       "<tr>\n",
       "  <th>Model_CAMRY</th>                 <td>-5.292e+05</td> <td> 1.69e+05</td> <td>   -3.135</td> <td> 0.002</td> <td> -8.6e+05</td> <td>-1.98e+05</td>\n",
       "</tr>\n",
       "<tr>\n",
       "  <th>Model_CAPTIVA</th>               <td> 1.065e+06</td> <td> 4.19e+05</td> <td>    2.544</td> <td> 0.011</td> <td> 2.44e+05</td> <td> 1.89e+06</td>\n",
       "</tr>\n",
       "<tr>\n",
       "  <th>Model_CAPTUR</th>                <td> 4.496e-06</td> <td> 2.07e-06</td> <td>    2.171</td> <td> 0.030</td> <td> 4.36e-07</td> <td> 8.56e-06</td>\n",
       "</tr>\n",
       "<tr>\n",
       "  <th>Model_CARNIVAL</th>              <td> 1.627e+06</td> <td> 2.74e+05</td> <td>    5.939</td> <td> 0.000</td> <td> 1.09e+06</td> <td> 2.16e+06</td>\n",
       "</tr>\n",
       "<tr>\n",
       "  <th>Model_CAYENNE</th>               <td>-1.411e+06</td> <td> 2.41e+05</td> <td>   -5.856</td> <td> 0.000</td> <td>-1.88e+06</td> <td>-9.38e+05</td>\n",
       "</tr>\n",
       "<tr>\n",
       "  <th>Model_CELERIO VDI</th>           <td> 9.248e-05</td> <td> 3.51e-05</td> <td>    2.633</td> <td> 0.009</td> <td> 2.36e-05</td> <td>    0.000</td>\n",
       "</tr>\n",
       "<tr>\n",
       "  <th>Model_CELERIO VXI</th>           <td>-2.867e+05</td> <td> 1.86e+05</td> <td>   -1.542</td> <td> 0.123</td> <td>-6.51e+05</td> <td> 7.78e+04</td>\n",
       "</tr>\n",
       "<tr>\n",
       "  <th>Model_CELERIO X ZXI</th>         <td>-5.688e+05</td> <td> 6.37e+05</td> <td>   -0.893</td> <td> 0.372</td> <td>-1.82e+06</td> <td>  6.8e+05</td>\n",
       "</tr>\n",
       "<tr>\n",
       "  <th>Model_CELERIO ZDI</th>           <td>-2.191e+05</td> <td> 3.23e+05</td> <td>   -0.678</td> <td> 0.498</td> <td>-8.53e+05</td> <td> 4.15e+05</td>\n",
       "</tr>\n",
       "<tr>\n",
       "  <th>Model_CELERIO ZXI</th>           <td>-4.876e+05</td> <td> 1.84e+05</td> <td>   -2.654</td> <td> 0.008</td> <td>-8.48e+05</td> <td>-1.27e+05</td>\n",
       "</tr>\n",
       "<tr>\n",
       "  <th>Model_CIAZ ALPHA</th>            <td>-1.937e+05</td> <td> 2.07e+05</td> <td>   -0.934</td> <td> 0.350</td> <td>   -6e+05</td> <td> 2.13e+05</td>\n",
       "</tr>\n",
       "<tr>\n",
       "  <th>Model_CIAZ DELTA</th>            <td>-9.706e+04</td> <td> 4.52e+05</td> <td>   -0.215</td> <td> 0.830</td> <td>-9.84e+05</td> <td>  7.9e+05</td>\n",
       "</tr>\n",
       "<tr>\n",
       "  <th>Model_CIAZ VDI</th>              <td>-1.306e+04</td> <td> 2.65e+05</td> <td>   -0.049</td> <td> 0.961</td> <td>-5.33e+05</td> <td> 5.07e+05</td>\n",
       "</tr>\n",
       "<tr>\n",
       "  <th>Model_CIAZ VXI</th>              <td>-3.332e+04</td> <td> 3.21e+05</td> <td>   -0.104</td> <td> 0.917</td> <td>-6.63e+05</td> <td> 5.97e+05</td>\n",
       "</tr>\n",
       "<tr>\n",
       "  <th>Model_CIAZ ZDI</th>              <td> 7.476e+05</td> <td> 2.18e+05</td> <td>    3.422</td> <td> 0.001</td> <td> 3.19e+05</td> <td> 1.18e+06</td>\n",
       "</tr>\n",
       "<tr>\n",
       "  <th>Model_CIAZ ZETA</th>             <td> 3.192e+04</td> <td> 6.37e+05</td> <td>    0.050</td> <td> 0.960</td> <td>-1.22e+06</td> <td> 1.28e+06</td>\n",
       "</tr>\n",
       "<tr>\n",
       "  <th>Model_CIAZ ZXI</th>              <td>-1.404e+04</td> <td> 2.64e+05</td> <td>   -0.053</td> <td> 0.958</td> <td>-5.32e+05</td> <td> 5.04e+05</td>\n",
       "</tr>\n",
       "<tr>\n",
       "  <th>Model_CITY</th>                  <td> 1.661e+05</td> <td> 7.57e+04</td> <td>    2.194</td> <td> 0.028</td> <td> 1.77e+04</td> <td> 3.15e+05</td>\n",
       "</tr>\n",
       "<tr>\n",
       "  <th>Model_CIVIC</th>                 <td> 6.077e+05</td> <td> 1.57e+05</td> <td>    3.874</td> <td> 0.000</td> <td>    3e+05</td> <td> 9.15e+05</td>\n",
       "</tr>\n",
       "<tr>\n",
       "  <th>Model_CLA</th>                   <td>-1.601e+06</td> <td> 2.11e+05</td> <td>   -7.587</td> <td> 0.000</td> <td>-2.02e+06</td> <td>-1.19e+06</td>\n",
       "</tr>\n",
       "<tr>\n",
       "  <th>Model_CLASSIC</th>               <td> 5.136e+04</td> <td> 5.59e+05</td> <td>    0.092</td> <td> 0.927</td> <td>-1.04e+06</td> <td> 1.15e+06</td>\n",
       "</tr>\n",
       "<tr>\n",
       "  <th>Model_CLS</th>                   <td> 1.948e+05</td> <td> 3.59e+05</td> <td>    0.542</td> <td> 0.588</td> <td> -5.1e+05</td> <td>    9e+05</td>\n",
       "</tr>\n",
       "<tr>\n",
       "  <th>Model_CLUBMAN</th>               <td>   8.3e+05</td> <td> 5.24e+05</td> <td>    1.583</td> <td> 0.113</td> <td>-1.98e+05</td> <td> 1.86e+06</td>\n",
       "</tr>\n",
       "<tr>\n",
       "  <th>Model_COMMUTER</th>              <td> 2.734e+06</td> <td> 3.44e+05</td> <td>    7.945</td> <td> 0.000</td> <td> 2.06e+06</td> <td> 3.41e+06</td>\n",
       "</tr>\n",
       "<tr>\n",
       "  <th>Model_COMPASS</th>               <td>-5.409e+05</td> <td> 2.04e+05</td> <td>   -2.650</td> <td> 0.008</td> <td>-9.41e+05</td> <td>-1.41e+05</td>\n",
       "</tr>\n",
       "<tr>\n",
       "  <th>Model_COOPER</th>                <td>  7.28e+05</td> <td> 3.45e+05</td> <td>    2.109</td> <td> 0.035</td> <td> 5.11e+04</td> <td>  1.4e+06</td>\n",
       "</tr>\n",
       "<tr>\n",
       "  <th>Model_COROLLA</th>               <td>-1.082e+06</td> <td> 1.43e+05</td> <td>   -7.590</td> <td> 0.000</td> <td>-1.36e+06</td> <td>-8.02e+05</td>\n",
       "</tr>\n",
       "<tr>\n",
       "  <th>Model_COUNTRYMAN</th>            <td> 5.823e+05</td> <td> 5.24e+05</td> <td>    1.112</td> <td> 0.266</td> <td>-4.44e+05</td> <td> 1.61e+06</td>\n",
       "</tr>\n",
       "<tr>\n",
       "  <th>Model_CR-V</th>                  <td>  8.97e+05</td> <td> 1.93e+05</td> <td>    4.644</td> <td> 0.000</td> <td> 5.18e+05</td> <td> 1.28e+06</td>\n",
       "</tr>\n",
       "<tr>\n",
       "  <th>Model_CRETA</th>                 <td> 1.571e+05</td> <td> 1.06e+05</td> <td>    1.480</td> <td> 0.139</td> <td> -5.1e+04</td> <td> 3.65e+05</td>\n",
       "</tr>\n",
       "<tr>\n",
       "  <th>Model_CROSS</th>                 <td>-3.209e+05</td> <td> 2.42e+05</td> <td>   -1.327</td> <td> 0.185</td> <td>-7.95e+05</td> <td> 1.53e+05</td>\n",
       "</tr>\n",
       "<tr>\n",
       "  <th>Model_CRUZE</th>                 <td> 1.284e+05</td> <td> 3.25e+05</td> <td>    0.395</td> <td> 0.693</td> <td> -5.1e+05</td> <td> 7.66e+05</td>\n",
       "</tr>\n",
       "<tr>\n",
       "  <th>Model_DUSTER</th>                <td> 3.878e+05</td> <td> 1.86e+05</td> <td>    2.084</td> <td> 0.037</td> <td> 2.29e+04</td> <td> 7.53e+05</td>\n",
       "</tr>\n",
       "<tr>\n",
       "  <th>Model_DZIRE LDI</th>             <td>-1.447e-05</td> <td> 6.01e-06</td> <td>   -2.406</td> <td> 0.016</td> <td>-2.63e-05</td> <td>-2.68e-06</td>\n",
       "</tr>\n",
       "<tr>\n",
       "  <th>Model_DZIRE LXI</th>             <td>-6.107e+05</td> <td> 3.21e+05</td> <td>   -1.901</td> <td> 0.057</td> <td>-1.24e+06</td> <td> 1.93e+04</td>\n",
       "</tr>\n",
       "<tr>\n",
       "  <th>Model_DZIRE VDI</th>             <td>-2.633e+05</td> <td> 3.72e+05</td> <td>   -0.707</td> <td> 0.479</td> <td>-9.93e+05</td> <td> 4.67e+05</td>\n",
       "</tr>\n",
       "<tr>\n",
       "  <th>Model_DZIRE VXI</th>             <td>-3.433e+05</td> <td> 2.66e+05</td> <td>   -1.292</td> <td> 0.197</td> <td>-8.64e+05</td> <td> 1.78e+05</td>\n",
       "</tr>\n",
       "<tr>\n",
       "  <th>Model_DZIRE ZDI</th>             <td>-1.862e+05</td> <td> 2.89e+05</td> <td>   -0.644</td> <td> 0.520</td> <td>-7.54e+05</td> <td> 3.81e+05</td>\n",
       "</tr>\n",
       "<tr>\n",
       "  <th>Model_DZIRE ZXI</th>             <td>-3.734e+05</td> <td> 4.52e+05</td> <td>   -0.827</td> <td> 0.409</td> <td>-1.26e+06</td> <td> 5.12e+05</td>\n",
       "</tr>\n",
       "<tr>\n",
       "  <th>Model_E-CLASS</th>               <td>-6.186e+05</td> <td> 1.24e+05</td> <td>   -4.997</td> <td> 0.000</td> <td>-8.61e+05</td> <td>-3.76e+05</td>\n",
       "</tr>\n",
       "<tr>\n",
       "  <th>Model_ECOSPORT</th>              <td>-3.653e+04</td> <td> 1.57e+05</td> <td>   -0.233</td> <td> 0.816</td> <td>-3.45e+05</td> <td> 2.72e+05</td>\n",
       "</tr>\n",
       "<tr>\n",
       "  <th>Model_EECO 5 STR</th>            <td>-1.621e+05</td> <td> 2.58e+05</td> <td>   -0.629</td> <td> 0.529</td> <td>-6.67e+05</td> <td> 3.43e+05</td>\n",
       "</tr>\n",
       "<tr>\n",
       "  <th>Model_EECO 7 STR</th>            <td> 6.627e+04</td> <td>  3.7e+05</td> <td>    0.179</td> <td> 0.858</td> <td> -6.6e+05</td> <td> 7.92e+05</td>\n",
       "</tr>\n",
       "<tr>\n",
       "  <th>Model_ELANTRA</th>               <td> 2.472e+05</td> <td> 1.71e+05</td> <td>    1.445</td> <td> 0.149</td> <td>-8.84e+04</td> <td> 5.83e+05</td>\n",
       "</tr>\n",
       "<tr>\n",
       "  <th>Model_ELITE</th>                 <td>-2.912e+05</td> <td> 1.03e+05</td> <td>   -2.836</td> <td> 0.005</td> <td>-4.92e+05</td> <td>-8.98e+04</td>\n",
       "</tr>\n",
       "<tr>\n",
       "  <th>Model_ENDEAVOUR</th>             <td> 1.831e+06</td> <td>  1.8e+05</td> <td>   10.142</td> <td> 0.000</td> <td> 1.48e+06</td> <td> 2.18e+06</td>\n",
       "</tr>\n",
       "<tr>\n",
       "  <th>Model_ENJOY</th>                 <td> 1.317e+05</td> <td> 5.59e+05</td> <td>    0.236</td> <td> 0.814</td> <td>-9.64e+05</td> <td> 1.23e+06</td>\n",
       "</tr>\n",
       "<tr>\n",
       "  <th>Model_EON</th>                   <td>-5.596e+05</td> <td> 1.53e+05</td> <td>   -3.646</td> <td> 0.000</td> <td>-8.61e+05</td> <td>-2.59e+05</td>\n",
       "</tr>\n",
       "<tr>\n",
       "  <th>Model_ERTIGA LDI</th>            <td> 9981.7032</td> <td> 6.37e+05</td> <td>    0.016</td> <td> 0.987</td> <td>-1.24e+06</td> <td> 1.26e+06</td>\n",
       "</tr>\n",
       "<tr>\n",
       "  <th>Model_ERTIGA LXI</th>            <td> 4.452e+05</td> <td> 6.36e+05</td> <td>    0.699</td> <td> 0.484</td> <td>-8.03e+05</td> <td> 1.69e+06</td>\n",
       "</tr>\n",
       "<tr>\n",
       "  <th>Model_ERTIGA VDI</th>            <td> 1.541e+05</td> <td> 1.58e+05</td> <td>    0.974</td> <td> 0.330</td> <td>-1.56e+05</td> <td> 4.65e+05</td>\n",
       "</tr>\n",
       "<tr>\n",
       "  <th>Model_ERTIGA VXI</th>            <td> 1.437e+05</td> <td> 1.62e+05</td> <td>    0.885</td> <td> 0.376</td> <td>-1.75e+05</td> <td> 4.62e+05</td>\n",
       "</tr>\n",
       "<tr>\n",
       "  <th>Model_ERTIGA ZDI</th>            <td> 2.386e+05</td> <td> 2.18e+05</td> <td>    1.095</td> <td> 0.274</td> <td>-1.89e+05</td> <td> 6.66e+05</td>\n",
       "</tr>\n",
       "<tr>\n",
       "  <th>Model_ERTIGA ZXI</th>            <td>-9.593e+04</td> <td> 2.64e+05</td> <td>   -0.363</td> <td> 0.717</td> <td>-6.14e+05</td> <td> 4.22e+05</td>\n",
       "</tr>\n",
       "<tr>\n",
       "  <th>Model_ESTILO LXI</th>            <td> 5.156e+05</td> <td>  2.9e+05</td> <td>    1.777</td> <td> 0.076</td> <td>-5.32e+04</td> <td> 1.08e+06</td>\n",
       "</tr>\n",
       "<tr>\n",
       "  <th>Model_ESTILO VXI</th>            <td> 7.381e+05</td> <td> 3.71e+05</td> <td>    1.988</td> <td> 0.047</td> <td> 1.01e+04</td> <td> 1.47e+06</td>\n",
       "</tr>\n",
       "<tr>\n",
       "  <th>Model_ETIOS</th>                 <td>-1.551e+06</td> <td> 1.35e+05</td> <td>  -11.506</td> <td> 0.000</td> <td>-1.82e+06</td> <td>-1.29e+06</td>\n",
       "</tr>\n",
       "<tr>\n",
       "  <th>Model_F-PACE</th>                <td>-6.582e+05</td> <td> 3.41e+05</td> <td>   -1.933</td> <td> 0.053</td> <td>-1.33e+06</td> <td> 9523.480</td>\n",
       "</tr>\n",
       "<tr>\n",
       "  <th>Model_F-TYPE</th>                <td> 1.109e+07</td> <td> 5.47e+05</td> <td>   20.262</td> <td> 0.000</td> <td>    1e+07</td> <td> 1.22e+07</td>\n",
       "</tr>\n",
       "<tr>\n",
       "  <th>Model_FIESTA</th>                <td>-1.642e+05</td> <td> 4.08e+05</td> <td>   -0.403</td> <td> 0.687</td> <td>-9.64e+05</td> <td> 6.36e+05</td>\n",
       "</tr>\n",
       "<tr>\n",
       "  <th>Model_FIGO</th>                  <td> 5.654e+04</td> <td> 2.16e+05</td> <td>    0.261</td> <td> 0.794</td> <td>-3.68e+05</td> <td> 4.81e+05</td>\n",
       "</tr>\n",
       "<tr>\n",
       "  <th>Model_FLUENCE</th>               <td> 5.275e+05</td> <td> 4.12e+05</td> <td>    1.281</td> <td> 0.200</td> <td> -2.8e+05</td> <td> 1.34e+06</td>\n",
       "</tr>\n",
       "<tr>\n",
       "  <th>Model_FLUIDIC</th>               <td>-1.032e+04</td> <td> 6.08e+05</td> <td>   -0.017</td> <td> 0.986</td> <td> -1.2e+06</td> <td> 1.18e+06</td>\n",
       "</tr>\n",
       "<tr>\n",
       "  <th>Model_FORTUNER</th>              <td> 6977.6996</td> <td> 1.16e+05</td> <td>    0.060</td> <td> 0.952</td> <td> -2.2e+05</td> <td> 2.34e+05</td>\n",
       "</tr>\n",
       "<tr>\n",
       "  <th>Model_G-CLASS</th>               <td> 3.886e+06</td> <td> 6.11e+05</td> <td>    6.365</td> <td> 0.000</td> <td> 2.69e+06</td> <td> 5.08e+06</td>\n",
       "</tr>\n",
       "<tr>\n",
       "  <th>Model_GETZ</th>                  <td>-6.214e-06</td> <td> 2.11e-06</td> <td>   -2.941</td> <td> 0.003</td> <td>-1.04e-05</td> <td>-2.07e-06</td>\n",
       "</tr>\n",
       "<tr>\n",
       "  <th>Model_GL</th>                    <td>-1.765e+05</td> <td> 2.85e+05</td> <td>   -0.619</td> <td> 0.536</td> <td>-7.36e+05</td> <td> 3.83e+05</td>\n",
       "</tr>\n",
       "<tr>\n",
       "  <th>Model_GLA</th>                   <td>-1.482e+06</td> <td> 1.63e+05</td> <td>   -9.096</td> <td> 0.000</td> <td> -1.8e+06</td> <td>-1.16e+06</td>\n",
       "</tr>\n",
       "<tr>\n",
       "  <th>Model_GLC</th>                   <td>  4.72e+05</td> <td> 1.71e+05</td> <td>    2.757</td> <td> 0.006</td> <td> 1.36e+05</td> <td> 8.08e+05</td>\n",
       "</tr>\n",
       "<tr>\n",
       "  <th>Model_GLE</th>                   <td> 1.706e+06</td> <td> 1.61e+05</td> <td>   10.617</td> <td> 0.000</td> <td> 1.39e+06</td> <td> 2.02e+06</td>\n",
       "</tr>\n",
       "<tr>\n",
       "  <th>Model_GLS</th>                   <td> 2.861e+06</td> <td> 2.45e+05</td> <td>   11.698</td> <td> 0.000</td> <td> 2.38e+06</td> <td> 3.34e+06</td>\n",
       "</tr>\n",
       "<tr>\n",
       "  <th>Model_GO</th>                    <td> 4.466e+05</td> <td> 2.69e+05</td> <td>    1.661</td> <td> 0.097</td> <td>-8.05e+04</td> <td> 9.74e+05</td>\n",
       "</tr>\n",
       "<tr>\n",
       "  <th>Model_GRAND</th>                 <td> -4.11e+05</td> <td> 9.74e+04</td> <td>   -4.219</td> <td> 0.000</td> <td>-6.02e+05</td> <td> -2.2e+05</td>\n",
       "</tr>\n",
       "<tr>\n",
       "  <th>Model_GRAND VITARA</th>          <td> 8.487e+05</td> <td> 6.38e+05</td> <td>    1.330</td> <td> 0.184</td> <td>-4.02e+05</td> <td>  2.1e+06</td>\n",
       "</tr>\n",
       "<tr>\n",
       "  <th>Model_GTI</th>                   <td>-5.873e+05</td> <td> 5.84e+05</td> <td>   -1.006</td> <td> 0.315</td> <td>-1.73e+06</td> <td> 5.58e+05</td>\n",
       "</tr>\n",
       "<tr>\n",
       "  <th>Model_HARRIER</th>               <td> 5.421e+05</td> <td> 2.31e+05</td> <td>    2.345</td> <td> 0.019</td> <td> 8.88e+04</td> <td> 9.95e+05</td>\n",
       "</tr>\n",
       "<tr>\n",
       "  <th>Model_HEXA</th>                  <td> 5.223e+05</td> <td> 1.74e+05</td> <td>    3.000</td> <td> 0.003</td> <td> 1.81e+05</td> <td> 8.64e+05</td>\n",
       "</tr>\n",
       "<tr>\n",
       "  <th>Model_I10</th>                   <td> 9.173e+04</td> <td> 1.13e+05</td> <td>    0.815</td> <td> 0.415</td> <td>-1.29e+05</td> <td> 3.12e+05</td>\n",
       "</tr>\n",
       "<tr>\n",
       "  <th>Model_I20</th>                   <td> 1.228e+05</td> <td> 1.14e+05</td> <td>    1.077</td> <td> 0.282</td> <td>-1.01e+05</td> <td> 3.46e+05</td>\n",
       "</tr>\n",
       "<tr>\n",
       "  <th>Model_IGNIS ALPHA</th>           <td>-4.097e+05</td> <td> 6.36e+05</td> <td>   -0.644</td> <td> 0.520</td> <td>-1.66e+06</td> <td> 8.38e+05</td>\n",
       "</tr>\n",
       "<tr>\n",
       "  <th>Model_IGNIS DELTA</th>           <td>-5.253e+05</td> <td> 2.88e+05</td> <td>   -1.821</td> <td> 0.069</td> <td>-1.09e+06</td> <td> 4.03e+04</td>\n",
       "</tr>\n",
       "<tr>\n",
       "  <th>Model_IGNIS SIGMA</th>           <td>-5.167e-05</td> <td> 2.03e-05</td> <td>   -2.543</td> <td> 0.011</td> <td>-9.15e-05</td> <td>-1.18e-05</td>\n",
       "</tr>\n",
       "<tr>\n",
       "  <th>Model_IGNIS ZETA</th>            <td>-4.744e+05</td> <td> 2.88e+05</td> <td>   -1.645</td> <td> 0.100</td> <td>-1.04e+06</td> <td>  9.1e+04</td>\n",
       "</tr>\n",
       "<tr>\n",
       "  <th>Model_IKON</th>                  <td> 4.237e-05</td> <td> 1.68e-05</td> <td>    2.529</td> <td> 0.012</td> <td> 9.51e-06</td> <td> 7.52e-05</td>\n",
       "</tr>\n",
       "<tr>\n",
       "  <th>Model_INDICA</th>                <td> 3.433e+05</td> <td>  2.3e+05</td> <td>    1.493</td> <td> 0.136</td> <td>-1.08e+05</td> <td> 7.94e+05</td>\n",
       "</tr>\n",
       "<tr>\n",
       "  <th>Model_INDIGO</th>                <td> 1.918e+05</td> <td> 2.84e+05</td> <td>    0.675</td> <td> 0.500</td> <td>-3.65e+05</td> <td> 7.49e+05</td>\n",
       "</tr>\n",
       "<tr>\n",
       "  <th>Model_INNOVA</th>                <td>-6.996e+05</td> <td> 1.02e+05</td> <td>   -6.829</td> <td> 0.000</td> <td>-9.01e+05</td> <td>-4.99e+05</td>\n",
       "</tr>\n",
       "<tr>\n",
       "  <th>Model_JAZZ</th>                  <td>-2.188e+05</td> <td> 1.06e+05</td> <td>   -2.057</td> <td> 0.040</td> <td>-4.27e+05</td> <td>-1.03e+04</td>\n",
       "</tr>\n",
       "<tr>\n",
       "  <th>Model_JETTA</th>                 <td>  2.94e+05</td> <td> 1.97e+05</td> <td>    1.494</td> <td> 0.135</td> <td>-9.19e+04</td> <td>  6.8e+05</td>\n",
       "</tr>\n",
       "<tr>\n",
       "  <th>Model_KODIAQ</th>                <td> 1.452e+06</td> <td> 4.08e+05</td> <td>    3.558</td> <td> 0.000</td> <td> 6.52e+05</td> <td> 2.25e+06</td>\n",
       "</tr>\n",
       "<tr>\n",
       "  <th>Model_KOLEOS</th>                <td>  9.42e+05</td> <td> 5.64e+05</td> <td>    1.672</td> <td> 0.095</td> <td>-1.63e+05</td> <td> 2.05e+06</td>\n",
       "</tr>\n",
       "<tr>\n",
       "  <th>Model_KUV100</th>                <td>-5.414e+05</td> <td> 2.22e+05</td> <td>   -2.435</td> <td> 0.015</td> <td>-9.77e+05</td> <td>-1.05e+05</td>\n",
       "</tr>\n",
       "<tr>\n",
       "  <th>Model_KWID</th>                  <td>-3.842e+05</td> <td> 1.77e+05</td> <td>   -2.173</td> <td> 0.030</td> <td>-7.31e+05</td> <td>-3.75e+04</td>\n",
       "</tr>\n",
       "<tr>\n",
       "  <th>Model_LANCER</th>                <td> 5.513e+05</td> <td> 5.28e+05</td> <td>    1.044</td> <td> 0.297</td> <td>-4.84e+05</td> <td> 1.59e+06</td>\n",
       "</tr>\n",
       "<tr>\n",
       "  <th>Model_LAND</th>                  <td> 4.519e+06</td> <td> 2.59e+05</td> <td>   17.429</td> <td> 0.000</td> <td> 4.01e+06</td> <td> 5.03e+06</td>\n",
       "</tr>\n",
       "<tr>\n",
       "  <th>Model_LAURA</th>                 <td>  9.11e+04</td> <td> 2.04e+05</td> <td>    0.446</td> <td> 0.656</td> <td>-3.09e+05</td> <td> 4.92e+05</td>\n",
       "</tr>\n",
       "<tr>\n",
       "  <th>Model_LODGY</th>                 <td> 3.327e-05</td> <td> 1.24e-05</td> <td>    2.681</td> <td> 0.007</td> <td> 8.94e-06</td> <td> 5.76e-05</td>\n",
       "</tr>\n",
       "<tr>\n",
       "  <th>Model_M-CLASS</th>               <td>-9.036e+05</td> <td> 2.45e+05</td> <td>   -3.692</td> <td> 0.000</td> <td>-1.38e+06</td> <td>-4.24e+05</td>\n",
       "</tr>\n",
       "<tr>\n",
       "  <th>Model_M2</th>                    <td> 4.358e+06</td> <td> 6.55e+05</td> <td>    6.657</td> <td> 0.000</td> <td> 3.07e+06</td> <td> 5.64e+06</td>\n",
       "</tr>\n",
       "<tr>\n",
       "  <th>Model_MACAN</th>                 <td>-8.394e+05</td> <td> 5.71e+05</td> <td>   -1.469</td> <td> 0.142</td> <td>-1.96e+06</td> <td> 2.81e+05</td>\n",
       "</tr>\n",
       "<tr>\n",
       "  <th>Model_MANZA</th>                 <td> 4.353e+05</td> <td> 3.61e+05</td> <td>    1.204</td> <td> 0.229</td> <td>-2.74e+05</td> <td> 1.14e+06</td>\n",
       "</tr>\n",
       "<tr>\n",
       "  <th>Model_MARAZZO</th>               <td>-2.548e+05</td> <td>  3.6e+05</td> <td>   -0.708</td> <td> 0.479</td> <td> -9.6e+05</td> <td> 4.51e+05</td>\n",
       "</tr>\n",
       "<tr>\n",
       "  <th>Model_MICRA</th>                 <td>-1.694e+05</td> <td> 2.31e+05</td> <td>   -0.734</td> <td> 0.463</td> <td>-6.22e+05</td> <td> 2.83e+05</td>\n",
       "</tr>\n",
       "<tr>\n",
       "  <th>Model_MOBILIO</th>               <td>-1.069e+04</td> <td> 2.97e+05</td> <td>   -0.036</td> <td> 0.971</td> <td>-5.93e+05</td> <td> 5.71e+05</td>\n",
       "</tr>\n",
       "<tr>\n",
       "  <th>Model_MUSTANG</th>               <td>   6.4e-05</td> <td> 2.45e-05</td> <td>    2.615</td> <td> 0.009</td> <td>  1.6e-05</td> <td>    0.000</td>\n",
       "</tr>\n",
       "<tr>\n",
       "  <th>Model_NANO</th>                  <td> -2.59e+05</td> <td> 2.44e+05</td> <td>   -1.061</td> <td> 0.289</td> <td>-7.38e+05</td> <td>  2.2e+05</td>\n",
       "</tr>\n",
       "<tr>\n",
       "  <th>Model_NEXON</th>                 <td>-1.201e+05</td> <td> 1.43e+05</td> <td>   -0.839</td> <td> 0.402</td> <td>-4.01e+05</td> <td> 1.61e+05</td>\n",
       "</tr>\n",
       "<tr>\n",
       "  <th>Model_NUVOSPORT</th>             <td>-2.886e+05</td> <td>    6e+05</td> <td>   -0.481</td> <td> 0.631</td> <td>-1.47e+06</td> <td> 8.88e+05</td>\n",
       "</tr>\n",
       "<tr>\n",
       "  <th>Model_OCTAVIA</th>               <td> 3.802e+05</td> <td> 2.12e+05</td> <td>    1.794</td> <td> 0.073</td> <td>-3.55e+04</td> <td> 7.96e+05</td>\n",
       "</tr>\n",
       "<tr>\n",
       "  <th>Model_OMNI</th>                  <td> -3.23e+05</td> <td> 4.51e+05</td> <td>   -0.715</td> <td> 0.474</td> <td>-1.21e+06</td> <td> 5.62e+05</td>\n",
       "</tr>\n",
       "<tr>\n",
       "  <th>Model_OPTRA</th>                 <td>-1.699e-05</td> <td> 6.21e-06</td> <td>   -2.737</td> <td> 0.006</td> <td>-2.92e-05</td> <td>-4.82e-06</td>\n",
       "</tr>\n",
       "<tr>\n",
       "  <th>Model_OUTLANDER</th>             <td> 3.432e+05</td> <td> 5.24e+05</td> <td>    0.654</td> <td> 0.513</td> <td>-6.85e+05</td> <td> 1.37e+06</td>\n",
       "</tr>\n",
       "<tr>\n",
       "  <th>Model_PAJERO</th>                <td> 1.272e+06</td> <td>  3.1e+05</td> <td>    4.099</td> <td> 0.000</td> <td> 6.64e+05</td> <td> 1.88e+06</td>\n",
       "</tr>\n",
       "<tr>\n",
       "  <th>Model_PALIO</th>                 <td> 4.952e-05</td> <td>  1.9e-05</td> <td>    2.602</td> <td> 0.009</td> <td> 1.22e-05</td> <td> 8.68e-05</td>\n",
       "</tr>\n",
       "<tr>\n",
       "  <th>Model_PANAMERA</th>              <td> 3.331e+06</td> <td>  3.6e+05</td> <td>    9.246</td> <td> 0.000</td> <td> 2.62e+06</td> <td> 4.04e+06</td>\n",
       "</tr>\n",
       "<tr>\n",
       "  <th>Model_PASSAT</th>                <td> 6.635e+05</td> <td> 2.29e+05</td> <td>    2.893</td> <td> 0.004</td> <td> 2.14e+05</td> <td> 1.11e+06</td>\n",
       "</tr>\n",
       "<tr>\n",
       "  <th>Model_POLO</th>                  <td>-2.625e+05</td> <td> 1.18e+05</td> <td>   -2.219</td> <td> 0.027</td> <td>-4.95e+05</td> <td>-3.05e+04</td>\n",
       "</tr>\n",
       "<tr>\n",
       "  <th>Model_PULSE</th>                 <td>  7.17e+04</td> <td> 3.47e+05</td> <td>    0.206</td> <td> 0.836</td> <td>-6.09e+05</td> <td> 7.53e+05</td>\n",
       "</tr>\n",
       "<tr>\n",
       "  <th>Model_PUNTO</th>                 <td> 6.829e+05</td> <td> 1.42e+05</td> <td>    4.794</td> <td> 0.000</td> <td> 4.04e+05</td> <td> 9.62e+05</td>\n",
       "</tr>\n",
       "<tr>\n",
       "  <th>Model_Q3</th>                    <td> 3.062e+06</td> <td> 2.42e+05</td> <td>   12.676</td> <td> 0.000</td> <td> 2.59e+06</td> <td> 3.54e+06</td>\n",
       "</tr>\n",
       "<tr>\n",
       "  <th>Model_Q5</th>                    <td> 3.734e+06</td> <td> 2.67e+05</td> <td>   13.994</td> <td> 0.000</td> <td> 3.21e+06</td> <td> 4.26e+06</td>\n",
       "</tr>\n",
       "<tr>\n",
       "  <th>Model_Q7</th>                    <td> 5.972e+06</td> <td>  3.1e+05</td> <td>   19.247</td> <td> 0.000</td> <td> 5.36e+06</td> <td> 6.58e+06</td>\n",
       "</tr>\n",
       "<tr>\n",
       "  <th>Model_QUANTO</th>                <td>-1.027e+05</td> <td> 2.84e+05</td> <td>   -0.362</td> <td> 0.718</td> <td> -6.6e+05</td> <td> 4.54e+05</td>\n",
       "</tr>\n",
       "<tr>\n",
       "  <th>Model_R8</th>                    <td> 9.362e+06</td> <td> 6.66e+05</td> <td>   14.065</td> <td> 0.000</td> <td> 8.06e+06</td> <td> 1.07e+07</td>\n",
       "</tr>\n",
       "<tr>\n",
       "  <th>Model_RAPID</th>                 <td>-4.173e+05</td> <td>  1.7e+05</td> <td>   -2.460</td> <td> 0.014</td> <td> -7.5e+05</td> <td>-8.47e+04</td>\n",
       "</tr>\n",
       "<tr>\n",
       "  <th>Model_REDI-GO</th>               <td> 1.212e+05</td> <td> 2.22e+05</td> <td>    0.545</td> <td> 0.586</td> <td>-3.15e+05</td> <td> 5.57e+05</td>\n",
       "</tr>\n",
       "<tr>\n",
       "  <th>Model_RITZ LDI</th>              <td> 2.568e+05</td> <td> 4.53e+05</td> <td>    0.567</td> <td> 0.571</td> <td>-6.32e+05</td> <td> 1.15e+06</td>\n",
       "</tr>\n",
       "<tr>\n",
       "  <th>Model_RITZ VDI</th>              <td> 3.065e+05</td> <td> 4.53e+05</td> <td>    0.677</td> <td> 0.499</td> <td>-5.81e+05</td> <td> 1.19e+06</td>\n",
       "</tr>\n",
       "<tr>\n",
       "  <th>Model_RITZ VXI</th>              <td> 2.456e+05</td> <td> 2.64e+05</td> <td>    0.930</td> <td> 0.353</td> <td>-2.73e+05</td> <td> 7.64e+05</td>\n",
       "</tr>\n",
       "<tr>\n",
       "  <th>Model_RITZ ZDI</th>              <td> 3.806e+04</td> <td> 4.52e+05</td> <td>    0.084</td> <td> 0.933</td> <td>-8.48e+05</td> <td> 9.25e+05</td>\n",
       "</tr>\n",
       "<tr>\n",
       "  <th>Model_RITZ ZXI</th>              <td>  2.94e+05</td> <td> 4.55e+05</td> <td>    0.646</td> <td> 0.518</td> <td>-5.98e+05</td> <td> 1.19e+06</td>\n",
       "</tr>\n",
       "<tr>\n",
       "  <th>Model_ROVER</th>                 <td> 2.559e+06</td> <td> 1.41e+05</td> <td>   18.200</td> <td> 0.000</td> <td> 2.28e+06</td> <td> 2.83e+06</td>\n",
       "</tr>\n",
       "<tr>\n",
       "  <th>Model_RS5</th>                   <td> 5.174e+06</td> <td> 4.86e+05</td> <td>   10.645</td> <td> 0.000</td> <td> 4.22e+06</td> <td> 6.13e+06</td>\n",
       "</tr>\n",
       "<tr>\n",
       "  <th>Model_S-CLASS</th>               <td> 4.066e+05</td> <td> 1.75e+05</td> <td>    2.329</td> <td> 0.020</td> <td> 6.43e+04</td> <td> 7.49e+05</td>\n",
       "</tr>\n",
       "<tr>\n",
       "  <th>Model_S-CROSS ALPHA</th>         <td> 1.327e+05</td> <td> 2.47e+05</td> <td>    0.536</td> <td> 0.592</td> <td>-3.52e+05</td> <td> 6.18e+05</td>\n",
       "</tr>\n",
       "<tr>\n",
       "  <th>Model_S-CROSS DELTA</th>         <td>-2.797e+05</td> <td> 6.37e+05</td> <td>   -0.439</td> <td> 0.661</td> <td>-1.53e+06</td> <td>  9.7e+05</td>\n",
       "</tr>\n",
       "<tr>\n",
       "  <th>Model_S-CROSS SIGMA</th>         <td>-1.475e+05</td> <td> 6.37e+05</td> <td>   -0.231</td> <td> 0.817</td> <td> -1.4e+06</td> <td>  1.1e+06</td>\n",
       "</tr>\n",
       "<tr>\n",
       "  <th>Model_S-CROSS ZETA</th>          <td> 1924.1225</td> <td> 4.53e+05</td> <td>    0.004</td> <td> 0.997</td> <td>-8.86e+05</td> <td>  8.9e+05</td>\n",
       "</tr>\n",
       "<tr>\n",
       "  <th>Model_S60</th>                   <td> -4.68e+05</td> <td> 3.72e+05</td> <td>   -1.257</td> <td> 0.209</td> <td> -1.2e+06</td> <td> 2.62e+05</td>\n",
       "</tr>\n",
       "<tr>\n",
       "  <th>Model_S80</th>                   <td>-9.449e+05</td> <td> 5.96e+05</td> <td>   -1.585</td> <td> 0.113</td> <td>-2.11e+06</td> <td> 2.24e+05</td>\n",
       "</tr>\n",
       "<tr>\n",
       "  <th>Model_S90</th>                   <td>  1.22e+06</td> <td> 4.37e+05</td> <td>    2.789</td> <td> 0.005</td> <td> 3.62e+05</td> <td> 2.08e+06</td>\n",
       "</tr>\n",
       "<tr>\n",
       "  <th>Model_SAFARI</th>                <td> 4.353e+05</td> <td> 2.11e+05</td> <td>    2.060</td> <td> 0.039</td> <td>  2.1e+04</td> <td>  8.5e+05</td>\n",
       "</tr>\n",
       "<tr>\n",
       "  <th>Model_SAIL</th>                  <td>-3.603e-05</td> <td> 1.37e-05</td> <td>   -2.634</td> <td> 0.008</td> <td>-6.29e-05</td> <td>-9.21e-06</td>\n",
       "</tr>\n",
       "<tr>\n",
       "  <th>Model_SANTA</th>                 <td> 9.065e+05</td> <td>  2.4e+05</td> <td>    3.778</td> <td> 0.000</td> <td> 4.36e+05</td> <td> 1.38e+06</td>\n",
       "</tr>\n",
       "<tr>\n",
       "  <th>Model_SANTRO</th>                <td> 1.255e+05</td> <td> 1.68e+05</td> <td>    0.748</td> <td> 0.455</td> <td>-2.04e+05</td> <td> 4.55e+05</td>\n",
       "</tr>\n",
       "<tr>\n",
       "  <th>Model_SCORPIO</th>               <td> 5.337e+05</td> <td> 2.01e+05</td> <td>    2.656</td> <td> 0.008</td> <td>  1.4e+05</td> <td> 9.28e+05</td>\n",
       "</tr>\n",
       "<tr>\n",
       "  <th>Model_SELTOS</th>                <td> 8.961e+04</td> <td> 2.13e+05</td> <td>    0.420</td> <td> 0.674</td> <td>-3.29e+05</td> <td> 5.08e+05</td>\n",
       "</tr>\n",
       "<tr>\n",
       "  <th>Model_SLC</th>                   <td> 3.122e+06</td> <td> 6.12e+05</td> <td>    5.105</td> <td> 0.000</td> <td> 1.92e+06</td> <td> 4.32e+06</td>\n",
       "</tr>\n",
       "<tr>\n",
       "  <th>Model_SONATA</th>                <td> 6.691e+05</td> <td> 6.07e+05</td> <td>    1.103</td> <td> 0.270</td> <td> -5.2e+05</td> <td> 1.86e+06</td>\n",
       "</tr>\n",
       "<tr>\n",
       "  <th>Model_SPARK</th>                 <td> 2.526e+05</td> <td> 5.61e+05</td> <td>    0.450</td> <td> 0.653</td> <td>-8.48e+05</td> <td> 1.35e+06</td>\n",
       "</tr>\n",
       "<tr>\n",
       "  <th>Model_SUMO</th>                  <td> 7.771e+05</td> <td> 6.09e+05</td> <td>    1.275</td> <td> 0.202</td> <td>-4.18e+05</td> <td> 1.97e+06</td>\n",
       "</tr>\n",
       "<tr>\n",
       "  <th>Model_SUNNY</th>                 <td> 1.993e+05</td> <td> 2.83e+05</td> <td>    0.704</td> <td> 0.482</td> <td>-3.56e+05</td> <td> 7.55e+05</td>\n",
       "</tr>\n",
       "<tr>\n",
       "  <th>Model_SUPERB</th>                <td> 4.041e+05</td> <td> 2.03e+05</td> <td>    1.989</td> <td> 0.047</td> <td> 5730.586</td> <td> 8.02e+05</td>\n",
       "</tr>\n",
       "<tr>\n",
       "  <th>Model_SWIFT DECA</th>            <td>-1.476e+05</td> <td> 6.38e+05</td> <td>   -0.232</td> <td> 0.817</td> <td> -1.4e+06</td> <td>  1.1e+06</td>\n",
       "</tr>\n",
       "<tr>\n",
       "  <th>Model_SWIFT DZIRE</th>           <td> 8.913e+04</td> <td> 4.52e+05</td> <td>    0.197</td> <td> 0.844</td> <td>-7.98e+05</td> <td> 9.76e+05</td>\n",
       "</tr>\n",
       "<tr>\n",
       "  <th>Model_SWIFT DZIRE LDI</th>       <td> 3.208e+05</td> <td> 3.71e+05</td> <td>    0.865</td> <td> 0.387</td> <td>-4.06e+05</td> <td> 1.05e+06</td>\n",
       "</tr>\n",
       "<tr>\n",
       "  <th>Model_SWIFT DZIRE LXI</th>       <td> 3.853e+05</td> <td> 6.37e+05</td> <td>    0.605</td> <td> 0.545</td> <td>-8.64e+05</td> <td> 1.63e+06</td>\n",
       "</tr>\n",
       "<tr>\n",
       "  <th>Model_SWIFT DZIRE VDI</th>       <td> 2.084e+05</td> <td> 1.68e+05</td> <td>    1.242</td> <td> 0.214</td> <td> -1.2e+05</td> <td> 5.37e+05</td>\n",
       "</tr>\n",
       "<tr>\n",
       "  <th>Model_SWIFT DZIRE VXI</th>       <td> 1.084e+05</td> <td> 1.37e+05</td> <td>    0.791</td> <td> 0.429</td> <td> -1.6e+05</td> <td> 3.77e+05</td>\n",
       "</tr>\n",
       "<tr>\n",
       "  <th>Model_SWIFT DZIRE ZDI</th>       <td>  2.76e+05</td> <td> 4.53e+05</td> <td>    0.609</td> <td> 0.542</td> <td>-6.12e+05</td> <td> 1.16e+06</td>\n",
       "</tr>\n",
       "<tr>\n",
       "  <th>Model_SWIFT DZIRE ZXI</th>       <td> 3.716e+04</td> <td> 4.52e+05</td> <td>    0.082</td> <td> 0.934</td> <td>-8.48e+05</td> <td> 9.23e+05</td>\n",
       "</tr>\n",
       "<tr>\n",
       "  <th>Model_SWIFT LDI</th>             <td>-2.851e+04</td> <td> 2.19e+05</td> <td>   -0.130</td> <td> 0.897</td> <td>-4.58e+05</td> <td> 4.01e+05</td>\n",
       "</tr>\n",
       "<tr>\n",
       "  <th>Model_SWIFT LXI</th>             <td>-9.929e+04</td> <td> 2.32e+05</td> <td>   -0.428</td> <td> 0.668</td> <td>-5.54e+05</td> <td> 3.55e+05</td>\n",
       "</tr>\n",
       "<tr>\n",
       "  <th>Model_SWIFT VDI</th>             <td>  2.44e+05</td> <td> 1.31e+05</td> <td>    1.861</td> <td> 0.063</td> <td>-1.31e+04</td> <td> 5.01e+05</td>\n",
       "</tr>\n",
       "<tr>\n",
       "  <th>Model_SWIFT VXI</th>             <td> 8.367e+04</td> <td>  1.3e+05</td> <td>    0.642</td> <td> 0.521</td> <td>-1.72e+05</td> <td> 3.39e+05</td>\n",
       "</tr>\n",
       "<tr>\n",
       "  <th>Model_SWIFT ZDI</th>             <td>-9.682e+04</td> <td> 3.25e+05</td> <td>   -0.298</td> <td> 0.766</td> <td>-7.33e+05</td> <td>  5.4e+05</td>\n",
       "</tr>\n",
       "<tr>\n",
       "  <th>Model_SWIFT ZXI</th>             <td>-1.416e+05</td> <td>    2e+05</td> <td>   -0.707</td> <td> 0.480</td> <td>-5.34e+05</td> <td> 2.51e+05</td>\n",
       "</tr>\n",
       "<tr>\n",
       "  <th>Model_SX4 VDI</th>               <td> 4.306e+05</td> <td> 4.53e+05</td> <td>    0.950</td> <td> 0.342</td> <td>-4.58e+05</td> <td> 1.32e+06</td>\n",
       "</tr>\n",
       "<tr>\n",
       "  <th>Model_SX4 VXI</th>               <td> 3.624e+05</td> <td> 3.72e+05</td> <td>    0.974</td> <td> 0.330</td> <td>-3.67e+05</td> <td> 1.09e+06</td>\n",
       "</tr>\n",
       "<tr>\n",
       "  <th>Model_SX4 ZXI</th>               <td> 5.358e+05</td> <td> 3.24e+05</td> <td>    1.653</td> <td> 0.099</td> <td>-9.99e+04</td> <td> 1.17e+06</td>\n",
       "</tr>\n",
       "<tr>\n",
       "  <th>Model_TERRANO</th>               <td> 3.563e+05</td> <td> 2.48e+05</td> <td>    1.436</td> <td> 0.151</td> <td> -1.3e+05</td> <td> 8.43e+05</td>\n",
       "</tr>\n",
       "<tr>\n",
       "  <th>Model_THAR</th>                  <td> 8.595e+04</td> <td> 2.63e+05</td> <td>    0.327</td> <td> 0.744</td> <td>-4.29e+05</td> <td> 6.01e+05</td>\n",
       "</tr>\n",
       "<tr>\n",
       "  <th>Model_TIAGO</th>                 <td>-4.667e+05</td> <td> 1.59e+05</td> <td>   -2.941</td> <td> 0.003</td> <td>-7.78e+05</td> <td>-1.56e+05</td>\n",
       "</tr>\n",
       "<tr>\n",
       "  <th>Model_TIGOR</th>                 <td>-4.632e+05</td> <td> 3.58e+05</td> <td>   -1.294</td> <td> 0.196</td> <td>-1.17e+06</td> <td> 2.39e+05</td>\n",
       "</tr>\n",
       "<tr>\n",
       "  <th>Model_TIGUAN</th>                <td> 1.374e+06</td> <td> 2.79e+05</td> <td>    4.919</td> <td> 0.000</td> <td> 8.26e+05</td> <td> 1.92e+06</td>\n",
       "</tr>\n",
       "<tr>\n",
       "  <th>Model_TRIBER</th>                <td>-4.052e+05</td> <td>  3.1e+05</td> <td>   -1.307</td> <td> 0.191</td> <td>-1.01e+06</td> <td> 2.03e+05</td>\n",
       "</tr>\n",
       "<tr>\n",
       "  <th>Model_TT</th>                    <td> 6.056e+06</td> <td> 6.63e+05</td> <td>    9.140</td> <td> 0.000</td> <td> 4.76e+06</td> <td> 7.36e+06</td>\n",
       "</tr>\n",
       "<tr>\n",
       "  <th>Model_TUCSON</th>                <td> 9.238e+05</td> <td> 4.33e+05</td> <td>    2.135</td> <td> 0.033</td> <td> 7.55e+04</td> <td> 1.77e+06</td>\n",
       "</tr>\n",
       "<tr>\n",
       "  <th>Model_TUV300</th>                <td>-1.177e+05</td> <td> 2.84e+05</td> <td>   -0.415</td> <td> 0.679</td> <td>-6.75e+05</td> <td> 4.39e+05</td>\n",
       "</tr>\n",
       "<tr>\n",
       "  <th>Model_V-CLASS</th>               <td>-3.438e-05</td> <td> 1.32e-05</td> <td>   -2.607</td> <td> 0.009</td> <td>-6.02e-05</td> <td>-8.52e-06</td>\n",
       "</tr>\n",
       "<tr>\n",
       "  <th>Model_V40</th>                   <td>-1.078e+06</td> <td> 4.38e+05</td> <td>   -2.459</td> <td> 0.014</td> <td>-1.94e+06</td> <td>-2.18e+05</td>\n",
       "</tr>\n",
       "<tr>\n",
       "  <th>Model_V90</th>                   <td> 9.918e+05</td> <td> 5.94e+05</td> <td>    1.670</td> <td> 0.095</td> <td>-1.73e+05</td> <td> 2.16e+06</td>\n",
       "</tr>\n",
       "<tr>\n",
       "  <th>Model_VENTO</th>                 <td>-1.524e+05</td> <td> 1.33e+05</td> <td>   -1.142</td> <td> 0.254</td> <td>-4.14e+05</td> <td> 1.09e+05</td>\n",
       "</tr>\n",
       "<tr>\n",
       "  <th>Model_VENUE</th>                 <td>-3.702e+05</td> <td> 2.15e+05</td> <td>   -1.723</td> <td> 0.085</td> <td>-7.91e+05</td> <td>  5.1e+04</td>\n",
       "</tr>\n",
       "<tr>\n",
       "  <th>Model_VERNA</th>                 <td> 1.344e+05</td> <td> 1.09e+05</td> <td>    1.236</td> <td> 0.217</td> <td>-7.89e+04</td> <td> 3.48e+05</td>\n",
       "</tr>\n",
       "<tr>\n",
       "  <th>Model_VITARA BREZZA LDI</th>     <td> 5.031e+04</td> <td> 4.53e+05</td> <td>    0.111</td> <td> 0.912</td> <td>-8.39e+05</td> <td>  9.4e+05</td>\n",
       "</tr>\n",
       "<tr>\n",
       "  <th>Model_VITARA BREZZA VDI</th>     <td>-9.669e+04</td> <td> 1.68e+05</td> <td>   -0.577</td> <td> 0.564</td> <td>-4.25e+05</td> <td> 2.32e+05</td>\n",
       "</tr>\n",
       "<tr>\n",
       "  <th>Model_VITARA BREZZA ZDI</th>     <td>-9.967e+04</td> <td>  1.9e+05</td> <td>   -0.526</td> <td> 0.599</td> <td>-4.71e+05</td> <td> 2.72e+05</td>\n",
       "</tr>\n",
       "<tr>\n",
       "  <th>Model_VITARA BREZZA ZXI</th>     <td>-4.457e+05</td> <td> 6.39e+05</td> <td>   -0.698</td> <td> 0.485</td> <td> -1.7e+06</td> <td> 8.07e+05</td>\n",
       "</tr>\n",
       "<tr>\n",
       "  <th>Model_WAGON R 1.0 LXI</th>       <td> 8.587e+04</td> <td> 1.48e+05</td> <td>    0.580</td> <td> 0.562</td> <td>-2.04e+05</td> <td> 3.76e+05</td>\n",
       "</tr>\n",
       "<tr>\n",
       "  <th>Model_WAGON R 1.0 VXI</th>       <td>-2.872e+05</td> <td> 1.34e+05</td> <td>   -2.151</td> <td> 0.032</td> <td>-5.49e+05</td> <td>-2.54e+04</td>\n",
       "</tr>\n",
       "<tr>\n",
       "  <th>Model_WAGON R DUO LXI</th>       <td> 7.226e+05</td> <td> 4.26e+05</td> <td>    1.696</td> <td> 0.090</td> <td>-1.13e+05</td> <td> 1.56e+06</td>\n",
       "</tr>\n",
       "<tr>\n",
       "  <th>Model_WR-V</th>                  <td>-2.895e+05</td> <td> 1.57e+05</td> <td>   -1.843</td> <td> 0.065</td> <td>-5.97e+05</td> <td> 1.84e+04</td>\n",
       "</tr>\n",
       "<tr>\n",
       "  <th>Model_WRANGLER</th>              <td>  3.03e+06</td> <td> 3.19e+05</td> <td>    9.490</td> <td> 0.000</td> <td>  2.4e+06</td> <td> 3.66e+06</td>\n",
       "</tr>\n",
       "<tr>\n",
       "  <th>Model_X-TRAIL</th>               <td> 8.549e+05</td> <td> 5.35e+05</td> <td>    1.599</td> <td> 0.110</td> <td>-1.93e+05</td> <td>  1.9e+06</td>\n",
       "</tr>\n",
       "<tr>\n",
       "  <th>Model_X1</th>                    <td>-4.415e+04</td> <td>  1.8e+05</td> <td>   -0.245</td> <td> 0.806</td> <td>-3.97e+05</td> <td> 3.09e+05</td>\n",
       "</tr>\n",
       "<tr>\n",
       "  <th>Model_X3</th>                    <td> 1.221e+06</td> <td> 2.25e+05</td> <td>    5.437</td> <td> 0.000</td> <td> 7.81e+05</td> <td> 1.66e+06</td>\n",
       "</tr>\n",
       "<tr>\n",
       "  <th>Model_X4</th>                    <td> 2.715e+06</td> <td> 3.89e+05</td> <td>    6.978</td> <td> 0.000</td> <td> 1.95e+06</td> <td> 3.48e+06</td>\n",
       "</tr>\n",
       "<tr>\n",
       "  <th>Model_X5</th>                    <td> 2.303e+06</td> <td> 2.24e+05</td> <td>   10.270</td> <td> 0.000</td> <td> 1.86e+06</td> <td> 2.74e+06</td>\n",
       "</tr>\n",
       "<tr>\n",
       "  <th>Model_X6</th>                    <td> 5.003e+06</td> <td> 4.69e+05</td> <td>   10.668</td> <td> 0.000</td> <td> 4.08e+06</td> <td> 5.92e+06</td>\n",
       "</tr>\n",
       "<tr>\n",
       "  <th>Model_X7</th>                    <td> 8.006e+06</td> <td> 6.53e+05</td> <td>   12.262</td> <td> 0.000</td> <td> 6.73e+06</td> <td> 9.29e+06</td>\n",
       "</tr>\n",
       "<tr>\n",
       "  <th>Model_XC40</th>                  <td> 7.932e+05</td> <td> 5.94e+05</td> <td>    1.336</td> <td> 0.182</td> <td>-3.71e+05</td> <td> 1.96e+06</td>\n",
       "</tr>\n",
       "<tr>\n",
       "  <th>Model_XC60</th>                  <td> 5.367e+05</td> <td> 4.37e+05</td> <td>    1.228</td> <td> 0.220</td> <td> -3.2e+05</td> <td> 1.39e+06</td>\n",
       "</tr>\n",
       "<tr>\n",
       "  <th>Model_XC90</th>                  <td> 2.443e+06</td> <td> 4.37e+05</td> <td>    5.584</td> <td> 0.000</td> <td> 1.58e+06</td> <td>  3.3e+06</td>\n",
       "</tr>\n",
       "<tr>\n",
       "  <th>Model_XCENT</th>                 <td>-2.461e+05</td> <td> 1.53e+05</td> <td>   -1.606</td> <td> 0.108</td> <td>-5.46e+05</td> <td> 5.44e+04</td>\n",
       "</tr>\n",
       "<tr>\n",
       "  <th>Model_XE</th>                    <td> -1.88e+06</td> <td> 3.04e+05</td> <td>   -6.178</td> <td> 0.000</td> <td>-2.48e+06</td> <td>-1.28e+06</td>\n",
       "</tr>\n",
       "<tr>\n",
       "  <th>Model_XF</th>                    <td> -2.18e+06</td> <td> 2.34e+05</td> <td>   -9.327</td> <td> 0.000</td> <td>-2.64e+06</td> <td>-1.72e+06</td>\n",
       "</tr>\n",
       "<tr>\n",
       "  <th>Model_XJ</th>                    <td>-4.814e+05</td> <td> 2.81e+05</td> <td>   -1.714</td> <td> 0.087</td> <td>-1.03e+06</td> <td> 6.94e+04</td>\n",
       "</tr>\n",
       "<tr>\n",
       "  <th>Model_XL6 ZETA</th>              <td>-3.034e+05</td> <td> 4.56e+05</td> <td>   -0.665</td> <td> 0.506</td> <td> -1.2e+06</td> <td> 5.91e+05</td>\n",
       "</tr>\n",
       "<tr>\n",
       "  <th>Model_XUV300</th>                <td>-2.254e+05</td> <td> 4.32e+05</td> <td>   -0.522</td> <td> 0.602</td> <td>-1.07e+06</td> <td> 6.21e+05</td>\n",
       "</tr>\n",
       "<tr>\n",
       "  <th>Model_XUV500</th>                <td> 3.845e+05</td> <td> 1.36e+05</td> <td>    2.823</td> <td> 0.005</td> <td> 1.17e+05</td> <td> 6.52e+05</td>\n",
       "</tr>\n",
       "<tr>\n",
       "  <th>Model_XYLO</th>                  <td> 2.625e+05</td> <td> 2.84e+05</td> <td>    0.923</td> <td> 0.356</td> <td>-2.95e+05</td> <td>  8.2e+05</td>\n",
       "</tr>\n",
       "<tr>\n",
       "  <th>Model_YARIS</th>                 <td>-1.952e+06</td> <td> 3.43e+05</td> <td>   -5.696</td> <td> 0.000</td> <td>-2.62e+06</td> <td>-1.28e+06</td>\n",
       "</tr>\n",
       "<tr>\n",
       "  <th>Model_YETI</th>                  <td> 2.502e+04</td> <td> 5.61e+05</td> <td>    0.045</td> <td> 0.964</td> <td>-1.07e+06</td> <td> 1.12e+06</td>\n",
       "</tr>\n",
       "<tr>\n",
       "  <th>Model_Z4</th>                    <td> 1.393e+06</td> <td> 6.54e+05</td> <td>    2.130</td> <td> 0.033</td> <td> 1.11e+05</td> <td> 2.68e+06</td>\n",
       "</tr>\n",
       "<tr>\n",
       "  <th>Model_ZEN LX</th>                <td> 1.282e+06</td> <td> 3.93e+05</td> <td>    3.260</td> <td> 0.001</td> <td> 5.11e+05</td> <td> 2.05e+06</td>\n",
       "</tr>\n",
       "<tr>\n",
       "  <th>Model_ZEST</th>                  <td>-1.817e+05</td> <td> 2.83e+05</td> <td>   -0.642</td> <td> 0.521</td> <td>-7.37e+05</td> <td> 3.74e+05</td>\n",
       "</tr>\n",
       "<tr>\n",
       "  <th>fuel_Diesel</th>                 <td> 1.714e+05</td> <td> 1.51e+05</td> <td>    1.138</td> <td> 0.255</td> <td>-1.24e+05</td> <td> 4.67e+05</td>\n",
       "</tr>\n",
       "<tr>\n",
       "  <th>fuel_LPG</th>                    <td> 2.814e+05</td> <td> 3.14e+05</td> <td>    0.897</td> <td> 0.370</td> <td>-3.34e+05</td> <td> 8.97e+05</td>\n",
       "</tr>\n",
       "<tr>\n",
       "  <th>fuel_Petrol</th>                 <td> 2.136e+05</td> <td> 1.46e+05</td> <td>    1.464</td> <td> 0.143</td> <td>-7.25e+04</td> <td>    5e+05</td>\n",
       "</tr>\n",
       "</table>\n",
       "<table class=\"simpletable\">\n",
       "<tr>\n",
       "  <th>Omnibus:</th>       <td>2419.010</td> <th>  Durbin-Watson:     </th>  <td>   1.973</td> \n",
       "</tr>\n",
       "<tr>\n",
       "  <th>Prob(Omnibus):</th>  <td> 0.000</td>  <th>  Jarque-Bera (JB):  </th> <td>212028.909</td>\n",
       "</tr>\n",
       "<tr>\n",
       "  <th>Skew:</th>           <td> 3.453</td>  <th>  Prob(JB):          </th>  <td>    0.00</td> \n",
       "</tr>\n",
       "<tr>\n",
       "  <th>Kurtosis:</th>       <td>44.449</td>  <th>  Cond. No.          </th>  <td>4.41e+21</td> \n",
       "</tr>\n",
       "</table><br/><br/>Notes:<br/>[1] Standard Errors assume that the covariance matrix of the errors is correctly specified.<br/>[2] The smallest eigenvalue is 7.79e-31. This might indicate that there are<br/>strong multicollinearity problems or that the design matrix is singular."
      ],
      "text/plain": [
       "<class 'statsmodels.iolib.summary.Summary'>\n",
       "\"\"\"\n",
       "                            OLS Regression Results                            \n",
       "==============================================================================\n",
       "Dep. Variable:                  price   R-squared:                       0.843\n",
       "Model:                            OLS   Adj. R-squared:                  0.827\n",
       "Method:                 Least Squares   F-statistic:                     52.04\n",
       "Date:                Sat, 08 May 2021   Prob (F-statistic):               0.00\n",
       "Time:                        18:00:19   Log-Likelihood:                -42487.\n",
       "No. Observations:                2882   AIC:                         8.551e+04\n",
       "Df Residuals:                    2612   BIC:                         8.712e+04\n",
       "Df Model:                         269                                         \n",
       "Covariance Type:            nonrobust                                         \n",
       "===============================================================================================\n",
       "                                  coef    std err          t      P>|t|      [0.025      0.975]\n",
       "-----------------------------------------------------------------------------------------------\n",
       "key_0                           9.7632    136.910      0.071      0.943    -258.701     278.227\n",
       "Car_Age                     -1.539e+05   5659.985    -27.197      0.000   -1.65e+05   -1.43e+05\n",
       "km                             -2.4774      0.318     -7.801      0.000      -3.100      -1.855\n",
       "Owner                       -1.701e+04   3.37e+04     -0.505      0.613    -8.3e+04     4.9e+04\n",
       "Company_Name_BMW             3.284e+06   2.04e+05     16.097      0.000    2.88e+06    3.68e+06\n",
       "Company_Name_CHEVROLET       1.497e+06   2.37e+05      6.323      0.000    1.03e+06    1.96e+06\n",
       "Company_Name_DATSUN          5.678e+05   1.89e+05      3.004      0.003    1.97e+05    9.38e+05\n",
       "Company_Name_FIAT            6.829e+05   1.42e+05      4.794      0.000    4.04e+05    9.62e+05\n",
       "Company_Name_FORD            1.511e+06   1.97e+05      7.656      0.000    1.12e+06     1.9e+06\n",
       "Company_Name_HONDA           1.498e+06   1.76e+05      8.519      0.000    1.15e+06    1.84e+06\n",
       "Company_Name_HYUNDAI          1.49e+06   2.19e+05      6.817      0.000    1.06e+06    1.92e+06\n",
       "Company_Name_JAGUAR          5.889e+06   2.58e+05     22.861      0.000    5.38e+06    6.39e+06\n",
       "Company_Name_JEEP            2.489e+06   2.35e+05     10.594      0.000    2.03e+06    2.95e+06\n",
       "Company_Name_KIA             1.716e+06   2.26e+05      7.605      0.000    1.27e+06    2.16e+06\n",
       "Company_Name_LAND            2.559e+06   1.41e+05     18.200      0.000    2.28e+06    2.83e+06\n",
       "Company_Name_MAHINDRA        1.515e+06   2.69e+05      5.639      0.000    9.88e+05    2.04e+06\n",
       "Company_Name_MARUTI SUZUKI   1.386e+06   3.09e+05      4.483      0.000     7.8e+05    1.99e+06\n",
       "Company_Name_MERCEDES-BENZ   4.477e+06    3.6e+05     12.452      0.000    3.77e+06    5.18e+06\n",
       "Company_Name_MINI             2.14e+06   3.78e+05      5.660      0.000     1.4e+06    2.88e+06\n",
       "Company_Name_MITSUBISHI      2.167e+06   3.77e+05      5.753      0.000    1.43e+06     2.9e+06\n",
       "Company_Name_NISSAN          1.241e+06   3.49e+05      3.557      0.000    5.57e+05    1.93e+06\n",
       "Company_Name_PORSCHE         6.849e+06   3.79e+05     18.085      0.000    6.11e+06    7.59e+06\n",
       "Company_Name_RENAULT          1.14e+06    3.7e+05      3.079      0.002    4.14e+05    1.87e+06\n",
       "Company_Name_SKODA           1.935e+06   3.75e+05      5.163      0.000     1.2e+06    2.67e+06\n",
       "Company_Name_TATA            1.292e+06   4.09e+05      3.159      0.002     4.9e+05    2.09e+06\n",
       "Company_Name_TOYOTA          3.104e+06    4.2e+05      7.398      0.000    2.28e+06    3.93e+06\n",
       "Company_Name_VOLKSWAGEN      1.652e+06   4.57e+05      3.613      0.000    7.56e+05    2.55e+06\n",
       "Company_Name_VOLVO           3.494e+06   4.91e+05      7.114      0.000    2.53e+06    4.46e+06\n",
       "location_Bangalore            1.22e+05   7.45e+04      1.639      0.101    -2.4e+04    2.68e+05\n",
       "location_Bhopal              1.287e+05   1.11e+05      1.156      0.248   -8.95e+04    3.47e+05\n",
       "location_Chennai            -1.089e+04   7.96e+04     -0.137      0.891   -1.67e+05    1.45e+05\n",
       "location_Coimbatore          2.077e+05    9.3e+04      2.232      0.026    2.52e+04     3.9e+05\n",
       "location_Delhi              -5.301e+04   7.12e+04     -0.744      0.457   -1.93e+05    8.67e+04\n",
       "location_Hyderabad            1.15e+05   7.39e+04      1.555      0.120      -3e+04     2.6e+05\n",
       "location_Jaipur             -5.152e+04   1.14e+05     -0.450      0.653   -2.76e+05    1.73e+05\n",
       "location_Kolkata            -7.582e+04   9.04e+04     -0.839      0.402   -2.53e+05    1.01e+05\n",
       "location_Mumbai             -4.426e+04   6.88e+04     -0.643      0.520   -1.79e+05    9.06e+04\n",
       "location_Nagpur              7.553e+04   1.04e+05      0.730      0.466   -1.27e+05    2.78e+05\n",
       "location_Navi Mumbai        -1.261e+04   1.25e+05     -0.101      0.920   -2.58e+05    2.33e+05\n",
       "location_Pune                1.741e+05   7.84e+04      2.222      0.026    2.04e+04    3.28e+05\n",
       "location_Thane               1.068e+05   9.12e+04      1.171      0.242    -7.2e+04    2.86e+05\n",
       "location_Thiruvananthapuram -3.479e+04   1.34e+05     -0.259      0.795   -2.98e+05    2.28e+05\n",
       "Model_5                      6.774e+05   1.69e+05      4.009      0.000    3.46e+05    1.01e+06\n",
       "Model_6                      2.064e+06   3.41e+05      6.053      0.000     1.4e+06    2.73e+06\n",
       "Model_7                      2.983e+06   2.54e+05     11.750      0.000    2.49e+06    3.48e+06\n",
       "Model_718                    1.048e+06    3.6e+05      2.910      0.004    3.42e+05    1.75e+06\n",
       "Model_800 AC                 1.373e+06   3.31e+05      4.144      0.000    7.23e+05    2.02e+06\n",
       "Model_911                    3.494e+06   4.24e+05      8.245      0.000    2.66e+06    4.32e+06\n",
       "Model_A-CLASS               -2.122e+06   4.36e+05     -4.865      0.000   -2.98e+06   -1.27e+06\n",
       "Model_A-STAR VXI             1.957e+05   6.39e+05      0.306      0.759   -1.06e+06    1.45e+06\n",
       "Model_A3                     3.115e+06   2.81e+05     11.073      0.000    2.56e+06    3.67e+06\n",
       "Model_A4                     2.763e+06   2.32e+05     11.882      0.000    2.31e+06    3.22e+06\n",
       "Model_A5                     4.878e+06   4.04e+05     12.063      0.000    4.09e+06    5.67e+06\n",
       "Model_A6                     3.329e+06   2.19e+05     15.204      0.000     2.9e+06    3.76e+06\n",
       "Model_A8                     4.558e+06    4.1e+05     11.118      0.000    3.75e+06    5.36e+06\n",
       "Model_ACCORD                 6.876e+05   1.72e+05      3.996      0.000     3.5e+05    1.03e+06\n",
       "Model_ALPHARD                1.658e+06   3.46e+05      4.787      0.000    9.79e+05    2.34e+06\n",
       "Model_ALTO 800 LX           -7.393e+05   6.38e+05     -1.159      0.247   -1.99e+06    5.12e+05\n",
       "Model_ALTO 800 LX           -6.521e+05   6.38e+05     -1.022      0.307    -1.9e+06    5.99e+05\n",
       "Model_ALTO 800 LXI          -2.792e+05   2.22e+05     -1.258      0.209   -7.14e+05    1.56e+05\n",
       "Model_ALTO 800 VXI          -6.287e+05   2.91e+05     -2.164      0.031    -1.2e+06    -5.9e+04\n",
       "Model_ALTO K10 LXI           -1.54e+05   3.23e+05     -0.477      0.633   -7.86e+05    4.78e+05\n",
       "Model_ALTO K10 VXI          -3.442e+05   1.38e+05     -2.502      0.012   -6.14e+05   -7.45e+04\n",
       "Model_ALTO LXI               4.966e+05   2.68e+05      1.854      0.064   -2.86e+04    1.02e+06\n",
       "Model_ALTO STD               6.404e+05   6.39e+05      1.003      0.316   -6.12e+05    1.89e+06\n",
       "Model_ALTO VXI               1.161e-05   5.14e-06      2.260      0.024    1.54e-06    2.17e-05\n",
       "Model_ALTROZ                -6.915e+05   4.36e+05     -1.586      0.113   -1.55e+06    1.63e+05\n",
       "Model_ALTURAS                1.581e+06      6e+05      2.634      0.008    4.04e+05    2.76e+06\n",
       "Model_AMAZE                 -2.166e+05   9.34e+04     -2.320      0.020      -4e+05   -3.36e+04\n",
       "Model_AMEO                  -6.583e+05   1.78e+05     -3.697      0.000   -1.01e+06   -3.09e+05\n",
       "Model_ARIA                   4.814e+05   3.58e+05      1.344      0.179   -2.21e+05    1.18e+06\n",
       "Model_ASPIRE                -2.271e+05   3.02e+05     -0.753      0.452   -8.19e+05    3.64e+05\n",
       "Model_B-CLASS               -2.218e+06   2.44e+05     -9.088      0.000    -2.7e+06   -1.74e+06\n",
       "Model_BALENO ALPHA          -3.166e+05   1.79e+05     -1.774      0.076   -6.67e+05    3.34e+04\n",
       "Model_BALENO DELTA          -3.369e+05   1.59e+05     -2.118      0.034   -6.49e+05   -2.49e+04\n",
       "Model_BALENO SIGMA           -1.75e+05   4.52e+05     -0.387      0.699   -1.06e+06    7.12e+05\n",
       "Model_BALENO VXI             7.168e-06   3.22e-06      2.224      0.026    8.49e-07    1.35e-05\n",
       "Model_BALENO ZETA           -2.776e+05   2.07e+05     -1.340      0.180   -6.84e+05    1.29e+05\n",
       "Model_BEAT                  -8.103e+04   3.59e+05     -0.226      0.822   -7.85e+05    6.23e+05\n",
       "Model_BEETLE                 1.302e+06   3.49e+05      3.730      0.000    6.18e+05    1.99e+06\n",
       "Model_BOLERO                 1.983e+05   2.64e+05      0.750      0.453    -3.2e+05    7.17e+05\n",
       "Model_BOLT                  -2.541e+05   4.37e+05     -0.582      0.561   -1.11e+06    6.02e+05\n",
       "Model_BOXSTER                1.227e+06   5.71e+05      2.148      0.032    1.07e+05    2.35e+06\n",
       "Model_BR-V                  -2.662e+04   2.27e+05     -0.117      0.907   -4.72e+05    4.19e+05\n",
       "Model_BRIO                  -9.776e+04   1.32e+05     -0.743      0.458   -3.56e+05     1.6e+05\n",
       "Model_C-CLASS               -1.223e+06    1.3e+05     -9.380      0.000   -1.48e+06   -9.68e+05\n",
       "Model_C-COUPE                2.174e+06    6.1e+05      3.563      0.000    9.78e+05    3.37e+06\n",
       "Model_CAMRY                 -5.292e+05   1.69e+05     -3.135      0.002    -8.6e+05   -1.98e+05\n",
       "Model_CAPTIVA                1.065e+06   4.19e+05      2.544      0.011    2.44e+05    1.89e+06\n",
       "Model_CAPTUR                 4.496e-06   2.07e-06      2.171      0.030    4.36e-07    8.56e-06\n",
       "Model_CARNIVAL               1.627e+06   2.74e+05      5.939      0.000    1.09e+06    2.16e+06\n",
       "Model_CAYENNE               -1.411e+06   2.41e+05     -5.856      0.000   -1.88e+06   -9.38e+05\n",
       "Model_CELERIO VDI            9.248e-05   3.51e-05      2.633      0.009    2.36e-05       0.000\n",
       "Model_CELERIO VXI           -2.867e+05   1.86e+05     -1.542      0.123   -6.51e+05    7.78e+04\n",
       "Model_CELERIO X ZXI         -5.688e+05   6.37e+05     -0.893      0.372   -1.82e+06     6.8e+05\n",
       "Model_CELERIO ZDI           -2.191e+05   3.23e+05     -0.678      0.498   -8.53e+05    4.15e+05\n",
       "Model_CELERIO ZXI           -4.876e+05   1.84e+05     -2.654      0.008   -8.48e+05   -1.27e+05\n",
       "Model_CIAZ ALPHA            -1.937e+05   2.07e+05     -0.934      0.350      -6e+05    2.13e+05\n",
       "Model_CIAZ DELTA            -9.706e+04   4.52e+05     -0.215      0.830   -9.84e+05     7.9e+05\n",
       "Model_CIAZ VDI              -1.306e+04   2.65e+05     -0.049      0.961   -5.33e+05    5.07e+05\n",
       "Model_CIAZ VXI              -3.332e+04   3.21e+05     -0.104      0.917   -6.63e+05    5.97e+05\n",
       "Model_CIAZ ZDI               7.476e+05   2.18e+05      3.422      0.001    3.19e+05    1.18e+06\n",
       "Model_CIAZ ZETA              3.192e+04   6.37e+05      0.050      0.960   -1.22e+06    1.28e+06\n",
       "Model_CIAZ ZXI              -1.404e+04   2.64e+05     -0.053      0.958   -5.32e+05    5.04e+05\n",
       "Model_CITY                   1.661e+05   7.57e+04      2.194      0.028    1.77e+04    3.15e+05\n",
       "Model_CIVIC                  6.077e+05   1.57e+05      3.874      0.000       3e+05    9.15e+05\n",
       "Model_CLA                   -1.601e+06   2.11e+05     -7.587      0.000   -2.02e+06   -1.19e+06\n",
       "Model_CLASSIC                5.136e+04   5.59e+05      0.092      0.927   -1.04e+06    1.15e+06\n",
       "Model_CLS                    1.948e+05   3.59e+05      0.542      0.588    -5.1e+05       9e+05\n",
       "Model_CLUBMAN                  8.3e+05   5.24e+05      1.583      0.113   -1.98e+05    1.86e+06\n",
       "Model_COMMUTER               2.734e+06   3.44e+05      7.945      0.000    2.06e+06    3.41e+06\n",
       "Model_COMPASS               -5.409e+05   2.04e+05     -2.650      0.008   -9.41e+05   -1.41e+05\n",
       "Model_COOPER                  7.28e+05   3.45e+05      2.109      0.035    5.11e+04     1.4e+06\n",
       "Model_COROLLA               -1.082e+06   1.43e+05     -7.590      0.000   -1.36e+06   -8.02e+05\n",
       "Model_COUNTRYMAN             5.823e+05   5.24e+05      1.112      0.266   -4.44e+05    1.61e+06\n",
       "Model_CR-V                    8.97e+05   1.93e+05      4.644      0.000    5.18e+05    1.28e+06\n",
       "Model_CRETA                  1.571e+05   1.06e+05      1.480      0.139    -5.1e+04    3.65e+05\n",
       "Model_CROSS                 -3.209e+05   2.42e+05     -1.327      0.185   -7.95e+05    1.53e+05\n",
       "Model_CRUZE                  1.284e+05   3.25e+05      0.395      0.693    -5.1e+05    7.66e+05\n",
       "Model_DUSTER                 3.878e+05   1.86e+05      2.084      0.037    2.29e+04    7.53e+05\n",
       "Model_DZIRE LDI             -1.447e-05   6.01e-06     -2.406      0.016   -2.63e-05   -2.68e-06\n",
       "Model_DZIRE LXI             -6.107e+05   3.21e+05     -1.901      0.057   -1.24e+06    1.93e+04\n",
       "Model_DZIRE VDI             -2.633e+05   3.72e+05     -0.707      0.479   -9.93e+05    4.67e+05\n",
       "Model_DZIRE VXI             -3.433e+05   2.66e+05     -1.292      0.197   -8.64e+05    1.78e+05\n",
       "Model_DZIRE ZDI             -1.862e+05   2.89e+05     -0.644      0.520   -7.54e+05    3.81e+05\n",
       "Model_DZIRE ZXI             -3.734e+05   4.52e+05     -0.827      0.409   -1.26e+06    5.12e+05\n",
       "Model_E-CLASS               -6.186e+05   1.24e+05     -4.997      0.000   -8.61e+05   -3.76e+05\n",
       "Model_ECOSPORT              -3.653e+04   1.57e+05     -0.233      0.816   -3.45e+05    2.72e+05\n",
       "Model_EECO 5 STR            -1.621e+05   2.58e+05     -0.629      0.529   -6.67e+05    3.43e+05\n",
       "Model_EECO 7 STR             6.627e+04    3.7e+05      0.179      0.858    -6.6e+05    7.92e+05\n",
       "Model_ELANTRA                2.472e+05   1.71e+05      1.445      0.149   -8.84e+04    5.83e+05\n",
       "Model_ELITE                 -2.912e+05   1.03e+05     -2.836      0.005   -4.92e+05   -8.98e+04\n",
       "Model_ENDEAVOUR              1.831e+06    1.8e+05     10.142      0.000    1.48e+06    2.18e+06\n",
       "Model_ENJOY                  1.317e+05   5.59e+05      0.236      0.814   -9.64e+05    1.23e+06\n",
       "Model_EON                   -5.596e+05   1.53e+05     -3.646      0.000   -8.61e+05   -2.59e+05\n",
       "Model_ERTIGA LDI             9981.7032   6.37e+05      0.016      0.987   -1.24e+06    1.26e+06\n",
       "Model_ERTIGA LXI             4.452e+05   6.36e+05      0.699      0.484   -8.03e+05    1.69e+06\n",
       "Model_ERTIGA VDI             1.541e+05   1.58e+05      0.974      0.330   -1.56e+05    4.65e+05\n",
       "Model_ERTIGA VXI             1.437e+05   1.62e+05      0.885      0.376   -1.75e+05    4.62e+05\n",
       "Model_ERTIGA ZDI             2.386e+05   2.18e+05      1.095      0.274   -1.89e+05    6.66e+05\n",
       "Model_ERTIGA ZXI            -9.593e+04   2.64e+05     -0.363      0.717   -6.14e+05    4.22e+05\n",
       "Model_ESTILO LXI             5.156e+05    2.9e+05      1.777      0.076   -5.32e+04    1.08e+06\n",
       "Model_ESTILO VXI             7.381e+05   3.71e+05      1.988      0.047    1.01e+04    1.47e+06\n",
       "Model_ETIOS                 -1.551e+06   1.35e+05    -11.506      0.000   -1.82e+06   -1.29e+06\n",
       "Model_F-PACE                -6.582e+05   3.41e+05     -1.933      0.053   -1.33e+06    9523.480\n",
       "Model_F-TYPE                 1.109e+07   5.47e+05     20.262      0.000       1e+07    1.22e+07\n",
       "Model_FIESTA                -1.642e+05   4.08e+05     -0.403      0.687   -9.64e+05    6.36e+05\n",
       "Model_FIGO                   5.654e+04   2.16e+05      0.261      0.794   -3.68e+05    4.81e+05\n",
       "Model_FLUENCE                5.275e+05   4.12e+05      1.281      0.200    -2.8e+05    1.34e+06\n",
       "Model_FLUIDIC               -1.032e+04   6.08e+05     -0.017      0.986    -1.2e+06    1.18e+06\n",
       "Model_FORTUNER               6977.6996   1.16e+05      0.060      0.952    -2.2e+05    2.34e+05\n",
       "Model_G-CLASS                3.886e+06   6.11e+05      6.365      0.000    2.69e+06    5.08e+06\n",
       "Model_GETZ                  -6.214e-06   2.11e-06     -2.941      0.003   -1.04e-05   -2.07e-06\n",
       "Model_GL                    -1.765e+05   2.85e+05     -0.619      0.536   -7.36e+05    3.83e+05\n",
       "Model_GLA                   -1.482e+06   1.63e+05     -9.096      0.000    -1.8e+06   -1.16e+06\n",
       "Model_GLC                     4.72e+05   1.71e+05      2.757      0.006    1.36e+05    8.08e+05\n",
       "Model_GLE                    1.706e+06   1.61e+05     10.617      0.000    1.39e+06    2.02e+06\n",
       "Model_GLS                    2.861e+06   2.45e+05     11.698      0.000    2.38e+06    3.34e+06\n",
       "Model_GO                     4.466e+05   2.69e+05      1.661      0.097   -8.05e+04    9.74e+05\n",
       "Model_GRAND                  -4.11e+05   9.74e+04     -4.219      0.000   -6.02e+05    -2.2e+05\n",
       "Model_GRAND VITARA           8.487e+05   6.38e+05      1.330      0.184   -4.02e+05     2.1e+06\n",
       "Model_GTI                   -5.873e+05   5.84e+05     -1.006      0.315   -1.73e+06    5.58e+05\n",
       "Model_HARRIER                5.421e+05   2.31e+05      2.345      0.019    8.88e+04    9.95e+05\n",
       "Model_HEXA                   5.223e+05   1.74e+05      3.000      0.003    1.81e+05    8.64e+05\n",
       "Model_I10                    9.173e+04   1.13e+05      0.815      0.415   -1.29e+05    3.12e+05\n",
       "Model_I20                    1.228e+05   1.14e+05      1.077      0.282   -1.01e+05    3.46e+05\n",
       "Model_IGNIS ALPHA           -4.097e+05   6.36e+05     -0.644      0.520   -1.66e+06    8.38e+05\n",
       "Model_IGNIS DELTA           -5.253e+05   2.88e+05     -1.821      0.069   -1.09e+06    4.03e+04\n",
       "Model_IGNIS SIGMA           -5.167e-05   2.03e-05     -2.543      0.011   -9.15e-05   -1.18e-05\n",
       "Model_IGNIS ZETA            -4.744e+05   2.88e+05     -1.645      0.100   -1.04e+06     9.1e+04\n",
       "Model_IKON                   4.237e-05   1.68e-05      2.529      0.012    9.51e-06    7.52e-05\n",
       "Model_INDICA                 3.433e+05    2.3e+05      1.493      0.136   -1.08e+05    7.94e+05\n",
       "Model_INDIGO                 1.918e+05   2.84e+05      0.675      0.500   -3.65e+05    7.49e+05\n",
       "Model_INNOVA                -6.996e+05   1.02e+05     -6.829      0.000   -9.01e+05   -4.99e+05\n",
       "Model_JAZZ                  -2.188e+05   1.06e+05     -2.057      0.040   -4.27e+05   -1.03e+04\n",
       "Model_JETTA                   2.94e+05   1.97e+05      1.494      0.135   -9.19e+04     6.8e+05\n",
       "Model_KODIAQ                 1.452e+06   4.08e+05      3.558      0.000    6.52e+05    2.25e+06\n",
       "Model_KOLEOS                  9.42e+05   5.64e+05      1.672      0.095   -1.63e+05    2.05e+06\n",
       "Model_KUV100                -5.414e+05   2.22e+05     -2.435      0.015   -9.77e+05   -1.05e+05\n",
       "Model_KWID                  -3.842e+05   1.77e+05     -2.173      0.030   -7.31e+05   -3.75e+04\n",
       "Model_LANCER                 5.513e+05   5.28e+05      1.044      0.297   -4.84e+05    1.59e+06\n",
       "Model_LAND                   4.519e+06   2.59e+05     17.429      0.000    4.01e+06    5.03e+06\n",
       "Model_LAURA                   9.11e+04   2.04e+05      0.446      0.656   -3.09e+05    4.92e+05\n",
       "Model_LODGY                  3.327e-05   1.24e-05      2.681      0.007    8.94e-06    5.76e-05\n",
       "Model_M-CLASS               -9.036e+05   2.45e+05     -3.692      0.000   -1.38e+06   -4.24e+05\n",
       "Model_M2                     4.358e+06   6.55e+05      6.657      0.000    3.07e+06    5.64e+06\n",
       "Model_MACAN                 -8.394e+05   5.71e+05     -1.469      0.142   -1.96e+06    2.81e+05\n",
       "Model_MANZA                  4.353e+05   3.61e+05      1.204      0.229   -2.74e+05    1.14e+06\n",
       "Model_MARAZZO               -2.548e+05    3.6e+05     -0.708      0.479    -9.6e+05    4.51e+05\n",
       "Model_MICRA                 -1.694e+05   2.31e+05     -0.734      0.463   -6.22e+05    2.83e+05\n",
       "Model_MOBILIO               -1.069e+04   2.97e+05     -0.036      0.971   -5.93e+05    5.71e+05\n",
       "Model_MUSTANG                  6.4e-05   2.45e-05      2.615      0.009     1.6e-05       0.000\n",
       "Model_NANO                   -2.59e+05   2.44e+05     -1.061      0.289   -7.38e+05     2.2e+05\n",
       "Model_NEXON                 -1.201e+05   1.43e+05     -0.839      0.402   -4.01e+05    1.61e+05\n",
       "Model_NUVOSPORT             -2.886e+05      6e+05     -0.481      0.631   -1.47e+06    8.88e+05\n",
       "Model_OCTAVIA                3.802e+05   2.12e+05      1.794      0.073   -3.55e+04    7.96e+05\n",
       "Model_OMNI                   -3.23e+05   4.51e+05     -0.715      0.474   -1.21e+06    5.62e+05\n",
       "Model_OPTRA                 -1.699e-05   6.21e-06     -2.737      0.006   -2.92e-05   -4.82e-06\n",
       "Model_OUTLANDER              3.432e+05   5.24e+05      0.654      0.513   -6.85e+05    1.37e+06\n",
       "Model_PAJERO                 1.272e+06    3.1e+05      4.099      0.000    6.64e+05    1.88e+06\n",
       "Model_PALIO                  4.952e-05    1.9e-05      2.602      0.009    1.22e-05    8.68e-05\n",
       "Model_PANAMERA               3.331e+06    3.6e+05      9.246      0.000    2.62e+06    4.04e+06\n",
       "Model_PASSAT                 6.635e+05   2.29e+05      2.893      0.004    2.14e+05    1.11e+06\n",
       "Model_POLO                  -2.625e+05   1.18e+05     -2.219      0.027   -4.95e+05   -3.05e+04\n",
       "Model_PULSE                   7.17e+04   3.47e+05      0.206      0.836   -6.09e+05    7.53e+05\n",
       "Model_PUNTO                  6.829e+05   1.42e+05      4.794      0.000    4.04e+05    9.62e+05\n",
       "Model_Q3                     3.062e+06   2.42e+05     12.676      0.000    2.59e+06    3.54e+06\n",
       "Model_Q5                     3.734e+06   2.67e+05     13.994      0.000    3.21e+06    4.26e+06\n",
       "Model_Q7                     5.972e+06    3.1e+05     19.247      0.000    5.36e+06    6.58e+06\n",
       "Model_QUANTO                -1.027e+05   2.84e+05     -0.362      0.718    -6.6e+05    4.54e+05\n",
       "Model_R8                     9.362e+06   6.66e+05     14.065      0.000    8.06e+06    1.07e+07\n",
       "Model_RAPID                 -4.173e+05    1.7e+05     -2.460      0.014    -7.5e+05   -8.47e+04\n",
       "Model_REDI-GO                1.212e+05   2.22e+05      0.545      0.586   -3.15e+05    5.57e+05\n",
       "Model_RITZ LDI               2.568e+05   4.53e+05      0.567      0.571   -6.32e+05    1.15e+06\n",
       "Model_RITZ VDI               3.065e+05   4.53e+05      0.677      0.499   -5.81e+05    1.19e+06\n",
       "Model_RITZ VXI               2.456e+05   2.64e+05      0.930      0.353   -2.73e+05    7.64e+05\n",
       "Model_RITZ ZDI               3.806e+04   4.52e+05      0.084      0.933   -8.48e+05    9.25e+05\n",
       "Model_RITZ ZXI                2.94e+05   4.55e+05      0.646      0.518   -5.98e+05    1.19e+06\n",
       "Model_ROVER                  2.559e+06   1.41e+05     18.200      0.000    2.28e+06    2.83e+06\n",
       "Model_RS5                    5.174e+06   4.86e+05     10.645      0.000    4.22e+06    6.13e+06\n",
       "Model_S-CLASS                4.066e+05   1.75e+05      2.329      0.020    6.43e+04    7.49e+05\n",
       "Model_S-CROSS ALPHA          1.327e+05   2.47e+05      0.536      0.592   -3.52e+05    6.18e+05\n",
       "Model_S-CROSS DELTA         -2.797e+05   6.37e+05     -0.439      0.661   -1.53e+06     9.7e+05\n",
       "Model_S-CROSS SIGMA         -1.475e+05   6.37e+05     -0.231      0.817    -1.4e+06     1.1e+06\n",
       "Model_S-CROSS ZETA           1924.1225   4.53e+05      0.004      0.997   -8.86e+05     8.9e+05\n",
       "Model_S60                    -4.68e+05   3.72e+05     -1.257      0.209    -1.2e+06    2.62e+05\n",
       "Model_S80                   -9.449e+05   5.96e+05     -1.585      0.113   -2.11e+06    2.24e+05\n",
       "Model_S90                     1.22e+06   4.37e+05      2.789      0.005    3.62e+05    2.08e+06\n",
       "Model_SAFARI                 4.353e+05   2.11e+05      2.060      0.039     2.1e+04     8.5e+05\n",
       "Model_SAIL                  -3.603e-05   1.37e-05     -2.634      0.008   -6.29e-05   -9.21e-06\n",
       "Model_SANTA                  9.065e+05    2.4e+05      3.778      0.000    4.36e+05    1.38e+06\n",
       "Model_SANTRO                 1.255e+05   1.68e+05      0.748      0.455   -2.04e+05    4.55e+05\n",
       "Model_SCORPIO                5.337e+05   2.01e+05      2.656      0.008     1.4e+05    9.28e+05\n",
       "Model_SELTOS                 8.961e+04   2.13e+05      0.420      0.674   -3.29e+05    5.08e+05\n",
       "Model_SLC                    3.122e+06   6.12e+05      5.105      0.000    1.92e+06    4.32e+06\n",
       "Model_SONATA                 6.691e+05   6.07e+05      1.103      0.270    -5.2e+05    1.86e+06\n",
       "Model_SPARK                  2.526e+05   5.61e+05      0.450      0.653   -8.48e+05    1.35e+06\n",
       "Model_SUMO                   7.771e+05   6.09e+05      1.275      0.202   -4.18e+05    1.97e+06\n",
       "Model_SUNNY                  1.993e+05   2.83e+05      0.704      0.482   -3.56e+05    7.55e+05\n",
       "Model_SUPERB                 4.041e+05   2.03e+05      1.989      0.047    5730.586    8.02e+05\n",
       "Model_SWIFT DECA            -1.476e+05   6.38e+05     -0.232      0.817    -1.4e+06     1.1e+06\n",
       "Model_SWIFT DZIRE            8.913e+04   4.52e+05      0.197      0.844   -7.98e+05    9.76e+05\n",
       "Model_SWIFT DZIRE LDI        3.208e+05   3.71e+05      0.865      0.387   -4.06e+05    1.05e+06\n",
       "Model_SWIFT DZIRE LXI        3.853e+05   6.37e+05      0.605      0.545   -8.64e+05    1.63e+06\n",
       "Model_SWIFT DZIRE VDI        2.084e+05   1.68e+05      1.242      0.214    -1.2e+05    5.37e+05\n",
       "Model_SWIFT DZIRE VXI        1.084e+05   1.37e+05      0.791      0.429    -1.6e+05    3.77e+05\n",
       "Model_SWIFT DZIRE ZDI         2.76e+05   4.53e+05      0.609      0.542   -6.12e+05    1.16e+06\n",
       "Model_SWIFT DZIRE ZXI        3.716e+04   4.52e+05      0.082      0.934   -8.48e+05    9.23e+05\n",
       "Model_SWIFT LDI             -2.851e+04   2.19e+05     -0.130      0.897   -4.58e+05    4.01e+05\n",
       "Model_SWIFT LXI             -9.929e+04   2.32e+05     -0.428      0.668   -5.54e+05    3.55e+05\n",
       "Model_SWIFT VDI               2.44e+05   1.31e+05      1.861      0.063   -1.31e+04    5.01e+05\n",
       "Model_SWIFT VXI              8.367e+04    1.3e+05      0.642      0.521   -1.72e+05    3.39e+05\n",
       "Model_SWIFT ZDI             -9.682e+04   3.25e+05     -0.298      0.766   -7.33e+05     5.4e+05\n",
       "Model_SWIFT ZXI             -1.416e+05      2e+05     -0.707      0.480   -5.34e+05    2.51e+05\n",
       "Model_SX4 VDI                4.306e+05   4.53e+05      0.950      0.342   -4.58e+05    1.32e+06\n",
       "Model_SX4 VXI                3.624e+05   3.72e+05      0.974      0.330   -3.67e+05    1.09e+06\n",
       "Model_SX4 ZXI                5.358e+05   3.24e+05      1.653      0.099   -9.99e+04    1.17e+06\n",
       "Model_TERRANO                3.563e+05   2.48e+05      1.436      0.151    -1.3e+05    8.43e+05\n",
       "Model_THAR                   8.595e+04   2.63e+05      0.327      0.744   -4.29e+05    6.01e+05\n",
       "Model_TIAGO                 -4.667e+05   1.59e+05     -2.941      0.003   -7.78e+05   -1.56e+05\n",
       "Model_TIGOR                 -4.632e+05   3.58e+05     -1.294      0.196   -1.17e+06    2.39e+05\n",
       "Model_TIGUAN                 1.374e+06   2.79e+05      4.919      0.000    8.26e+05    1.92e+06\n",
       "Model_TRIBER                -4.052e+05    3.1e+05     -1.307      0.191   -1.01e+06    2.03e+05\n",
       "Model_TT                     6.056e+06   6.63e+05      9.140      0.000    4.76e+06    7.36e+06\n",
       "Model_TUCSON                 9.238e+05   4.33e+05      2.135      0.033    7.55e+04    1.77e+06\n",
       "Model_TUV300                -1.177e+05   2.84e+05     -0.415      0.679   -6.75e+05    4.39e+05\n",
       "Model_V-CLASS               -3.438e-05   1.32e-05     -2.607      0.009   -6.02e-05   -8.52e-06\n",
       "Model_V40                   -1.078e+06   4.38e+05     -2.459      0.014   -1.94e+06   -2.18e+05\n",
       "Model_V90                    9.918e+05   5.94e+05      1.670      0.095   -1.73e+05    2.16e+06\n",
       "Model_VENTO                 -1.524e+05   1.33e+05     -1.142      0.254   -4.14e+05    1.09e+05\n",
       "Model_VENUE                 -3.702e+05   2.15e+05     -1.723      0.085   -7.91e+05     5.1e+04\n",
       "Model_VERNA                  1.344e+05   1.09e+05      1.236      0.217   -7.89e+04    3.48e+05\n",
       "Model_VITARA BREZZA LDI      5.031e+04   4.53e+05      0.111      0.912   -8.39e+05     9.4e+05\n",
       "Model_VITARA BREZZA VDI     -9.669e+04   1.68e+05     -0.577      0.564   -4.25e+05    2.32e+05\n",
       "Model_VITARA BREZZA ZDI     -9.967e+04    1.9e+05     -0.526      0.599   -4.71e+05    2.72e+05\n",
       "Model_VITARA BREZZA ZXI     -4.457e+05   6.39e+05     -0.698      0.485    -1.7e+06    8.07e+05\n",
       "Model_WAGON R 1.0 LXI        8.587e+04   1.48e+05      0.580      0.562   -2.04e+05    3.76e+05\n",
       "Model_WAGON R 1.0 VXI       -2.872e+05   1.34e+05     -2.151      0.032   -5.49e+05   -2.54e+04\n",
       "Model_WAGON R DUO LXI        7.226e+05   4.26e+05      1.696      0.090   -1.13e+05    1.56e+06\n",
       "Model_WR-V                  -2.895e+05   1.57e+05     -1.843      0.065   -5.97e+05    1.84e+04\n",
       "Model_WRANGLER                3.03e+06   3.19e+05      9.490      0.000     2.4e+06    3.66e+06\n",
       "Model_X-TRAIL                8.549e+05   5.35e+05      1.599      0.110   -1.93e+05     1.9e+06\n",
       "Model_X1                    -4.415e+04    1.8e+05     -0.245      0.806   -3.97e+05    3.09e+05\n",
       "Model_X3                     1.221e+06   2.25e+05      5.437      0.000    7.81e+05    1.66e+06\n",
       "Model_X4                     2.715e+06   3.89e+05      6.978      0.000    1.95e+06    3.48e+06\n",
       "Model_X5                     2.303e+06   2.24e+05     10.270      0.000    1.86e+06    2.74e+06\n",
       "Model_X6                     5.003e+06   4.69e+05     10.668      0.000    4.08e+06    5.92e+06\n",
       "Model_X7                     8.006e+06   6.53e+05     12.262      0.000    6.73e+06    9.29e+06\n",
       "Model_XC40                   7.932e+05   5.94e+05      1.336      0.182   -3.71e+05    1.96e+06\n",
       "Model_XC60                   5.367e+05   4.37e+05      1.228      0.220    -3.2e+05    1.39e+06\n",
       "Model_XC90                   2.443e+06   4.37e+05      5.584      0.000    1.58e+06     3.3e+06\n",
       "Model_XCENT                 -2.461e+05   1.53e+05     -1.606      0.108   -5.46e+05    5.44e+04\n",
       "Model_XE                     -1.88e+06   3.04e+05     -6.178      0.000   -2.48e+06   -1.28e+06\n",
       "Model_XF                     -2.18e+06   2.34e+05     -9.327      0.000   -2.64e+06   -1.72e+06\n",
       "Model_XJ                    -4.814e+05   2.81e+05     -1.714      0.087   -1.03e+06    6.94e+04\n",
       "Model_XL6 ZETA              -3.034e+05   4.56e+05     -0.665      0.506    -1.2e+06    5.91e+05\n",
       "Model_XUV300                -2.254e+05   4.32e+05     -0.522      0.602   -1.07e+06    6.21e+05\n",
       "Model_XUV500                 3.845e+05   1.36e+05      2.823      0.005    1.17e+05    6.52e+05\n",
       "Model_XYLO                   2.625e+05   2.84e+05      0.923      0.356   -2.95e+05     8.2e+05\n",
       "Model_YARIS                 -1.952e+06   3.43e+05     -5.696      0.000   -2.62e+06   -1.28e+06\n",
       "Model_YETI                   2.502e+04   5.61e+05      0.045      0.964   -1.07e+06    1.12e+06\n",
       "Model_Z4                     1.393e+06   6.54e+05      2.130      0.033    1.11e+05    2.68e+06\n",
       "Model_ZEN LX                 1.282e+06   3.93e+05      3.260      0.001    5.11e+05    2.05e+06\n",
       "Model_ZEST                  -1.817e+05   2.83e+05     -0.642      0.521   -7.37e+05    3.74e+05\n",
       "fuel_Diesel                  1.714e+05   1.51e+05      1.138      0.255   -1.24e+05    4.67e+05\n",
       "fuel_LPG                     2.814e+05   3.14e+05      0.897      0.370   -3.34e+05    8.97e+05\n",
       "fuel_Petrol                  2.136e+05   1.46e+05      1.464      0.143   -7.25e+04       5e+05\n",
       "==============================================================================\n",
       "Omnibus:                     2419.010   Durbin-Watson:                   1.973\n",
       "Prob(Omnibus):                  0.000   Jarque-Bera (JB):           212028.909\n",
       "Skew:                           3.453   Prob(JB):                         0.00\n",
       "Kurtosis:                      44.449   Cond. No.                     4.41e+21\n",
       "==============================================================================\n",
       "\n",
       "Notes:\n",
       "[1] Standard Errors assume that the covariance matrix of the errors is correctly specified.\n",
       "[2] The smallest eigenvalue is 7.79e-31. This might indicate that there are\n",
       "strong multicollinearity problems or that the design matrix is singular.\n",
       "\"\"\""
      ]
     },
     "execution_count": 64,
     "metadata": {},
     "output_type": "execute_result"
    }
   ],
   "source": [
    "import statsmodels.api as sm\n",
    "model = sm.OLS(y_train,X_train)\n",
    "model.fit().summary()\n"
   ]
  },
  {
   "cell_type": "code",
   "execution_count": null,
   "metadata": {},
   "outputs": [],
   "source": []
  },
  {
   "cell_type": "code",
   "execution_count": 65,
   "metadata": {},
   "outputs": [],
   "source": [
    "## Bagging"
   ]
  },
  {
   "cell_type": "code",
   "execution_count": 66,
   "metadata": {},
   "outputs": [],
   "source": [
    "def remove_neg(y_test,y_pred):\n",
    "    ind=[index for index in range(len(y_pred)) if(y_pred[index]>0)]\n",
    "    y_pred=y_pred[ind]\n",
    "    y_test=y_test[ind]\n",
    "    y_pred[y_pred<0]\n",
    "    return (y_test,y_pred)\n",
    "\n",
    "\n",
    "def result(y_test,y_pred):\n",
    "    r=[]\n",
    "    r.append(mean_squared_log_error(y_test, y_pred))\n",
    "    r.append(np.sqrt(r[0]))\n",
    "    r.append(r2_score(y_test,y_pred))\n",
    "    r.append(round(r2_score(y_test,y_pred)*100,4))\n",
    "    return (r)\n",
    "\n",
    "accu=pd.DataFrame(index=['MSLE', 'Root MSLE', 'R2 Score','Accuracy(%)'])"
   ]
  },
  {
   "cell_type": "code",
   "execution_count": 67,
   "metadata": {},
   "outputs": [],
   "source": [
    "baggReg=BaggingRegressor(base_estimator=DecisionTreeRegressor(max_depth=20),n_estimators=50, random_state=1,\n",
    "                         max_samples=1.0, max_features=1.0, bootstrap=False, \n",
    "                         bootstrap_features=False, oob_score=False, warm_start=False, n_jobs=-1, verbose=0)\n",
    "baggReg.fit(X_train,y_train)\n",
    "y_pred=baggReg.predict(X_test)"
   ]
  },
  {
   "cell_type": "code",
   "execution_count": 68,
   "metadata": {},
   "outputs": [
    {
     "name": "stdout",
     "output_type": "stream",
     "text": [
      "MSLE : 0.11649844985693902\n",
      "Root MSLE : 0.3413186925102975\n",
      "R2 Score : 0.7572716743443473 or 75.7272%\n"
     ]
    }
   ],
   "source": [
    "r6_br=result(y_test,y_pred)\n",
    "print(\"MSLE : {}\".format(r6_br[0]))\n",
    "print(\"Root MSLE : {}\".format(r6_br[1]))\n",
    "print(\"R2 Score : {} or {}%\".format(r6_br[2],r6_br[3]))"
   ]
  },
  {
   "cell_type": "code",
   "execution_count": 69,
   "metadata": {},
   "outputs": [
    {
     "data": {
      "text/plain": [
       "<matplotlib.collections.PathCollection at 0x280307670d0>"
      ]
     },
     "execution_count": 69,
     "metadata": {},
     "output_type": "execute_result"
    },
    {
     "data": {
      "image/png": "[encoded data removed]",
      "text/plain": [
       "<Figure size 576x396 with 1 Axes>"
      ]
     },
     "metadata": {},
     "output_type": "display_data"
    }
   ],
   "source": [
    "plt.scatter(y_test,y_pred)"
   ]
  },
  {
   "cell_type": "code",
   "execution_count": null,
   "metadata": {},
   "outputs": [],
   "source": []
  },
  {
   "cell_type": "code",
   "execution_count": 70,
   "metadata": {},
   "outputs": [],
   "source": [
    "## Ada boost"
   ]
  },
  {
   "cell_type": "code",
   "execution_count": 71,
   "metadata": {},
   "outputs": [],
   "source": [
    "\n",
    "ABR = AdaBoostRegressor(\n",
    "    DecisionTreeRegressor(max_depth=24),\n",
    "    n_estimators=200,learning_rate=0.6\n",
    ")\n",
    "\n",
    "ABR.fit(X_train, y_train)\n",
    "y_pred = ABR.predict(X_test)"
   ]
  },
  {
   "cell_type": "code",
   "execution_count": 72,
   "metadata": {},
   "outputs": [
    {
     "name": "stdout",
     "output_type": "stream",
     "text": [
      "MSLE : 0.07684677887119698\n",
      "Root MSLE : 0.27721251571889205\n",
      "R2 Score : 0.8318663979796171 or 83.1866%\n"
     ]
    }
   ],
   "source": [
    "r7_ab=result(y_test,y_pred)\n",
    "print(\"MSLE : {}\".format(r7_ab[0]))\n",
    "print(\"Root MSLE : {}\".format(r7_ab[1]))\n",
    "print(\"R2 Score : {} or {}%\".format(r7_ab[2],r7_ab[3]))"
   ]
  },
  {
   "cell_type": "code",
   "execution_count": 73,
   "metadata": {},
   "outputs": [
    {
     "data": {
      "text/plain": [
       "<matplotlib.collections.PathCollection at 0x280358e15e0>"
      ]
     },
     "execution_count": 73,
     "metadata": {},
     "output_type": "execute_result"
    },
    {
     "data": {
      "image/png": "[encoded data removed]",
      "text/plain": [
       "<Figure size 576x396 with 1 Axes>"
      ]
     },
     "metadata": {},
     "output_type": "display_data"
    }
   ],
   "source": [
    "plt.scatter(y_test,y_pred)\n"
   ]
  },
  {
   "cell_type": "code",
   "execution_count": null,
   "metadata": {},
   "outputs": [],
   "source": []
  },
  {
   "cell_type": "code",
   "execution_count": 74,
   "metadata": {},
   "outputs": [],
   "source": [
    "## BayesianRidge"
   ]
  },
  {
   "cell_type": "code",
   "execution_count": 75,
   "metadata": {},
   "outputs": [],
   "source": [
    "from sklearn.metrics import r2_score\n",
    "from sklearn.linear_model import BayesianRidge\n"
   ]
  },
  {
   "cell_type": "code",
   "execution_count": 76,
   "metadata": {},
   "outputs": [
    {
     "name": "stdout",
     "output_type": "stream",
     "text": [
      "r2 Score Of Test Set : 0.032931252748752415\n"
     ]
    }
   ],
   "source": [
    "# Creating and training model\n",
    "model = BayesianRidge()\n",
    "model.fit(X_train, y_train)\n",
    "  \n",
    "# Model making a prediction on test data\n",
    "prediction = model.predict(X_test)\n",
    "  \n",
    "# Evaluation of r2 score of the model against the test set\n",
    "print(f\"r2 Score Of Test Set : {r2_score(y_test, prediction)}\")\n"
   ]
  },
  {
   "cell_type": "code",
   "execution_count": null,
   "metadata": {},
   "outputs": [],
   "source": []
  },
  {
   "cell_type": "code",
   "execution_count": 77,
   "metadata": {},
   "outputs": [],
   "source": [
    "##Ridge Model"
   ]
  },
  {
   "cell_type": "code",
   "execution_count": 78,
   "metadata": {},
   "outputs": [],
   "source": [
    "model = Ridge(alpha=1.0)\n",
    "model.fit(X_train,y_train)\n",
    "y_pred=model.predict(X_test)"
   ]
  },
  {
   "cell_type": "code",
   "execution_count": 79,
   "metadata": {},
   "outputs": [
    {
     "name": "stdout",
     "output_type": "stream",
     "text": [
      "Mean MAE: 381285.851 (40298.755)\n",
      "r2 Score Of Test Set : 0.7864274153586621\n"
     ]
    }
   ],
   "source": [
    "# define model evaluation method\n",
    "cv = RepeatedKFold(n_splits=10, n_repeats=3, random_state=42)\n",
    "# evaluate model\n",
    "scores = cross_val_score(model, X, y, scoring='neg_mean_absolute_error', cv=cv, n_jobs=-1)\n",
    "# force scores to be positive\n",
    "scores = absolute(scores)\n",
    "print('Mean MAE: %.3f (%.3f)' % (mean(scores), std(scores)))\n",
    "\n",
    "print(f\"r2 Score Of Test Set : {r2_score(y_test,y_pred)}\")"
   ]
  },
  {
   "cell_type": "code",
   "execution_count": 80,
   "metadata": {},
   "outputs": [
    {
     "name": "stdout",
     "output_type": "stream",
     "text": [
      "MAE: -378884.935\n",
      "Config: {'alpha': 0.26}\n"
     ]
    }
   ],
   "source": [
    "# define model\n",
    "model = Ridge()\n",
    "# define model evaluation method\n",
    "cv = RepeatedKFold(n_splits=10, n_repeats=3, random_state=42)\n",
    "# define grid\n",
    "grid = dict()\n",
    "grid['alpha'] = np.arange(0, 1, 0.01)\n",
    "# define search\n",
    "search = GridSearchCV(model, grid, scoring='neg_mean_absolute_error', cv=cv, n_jobs=-1)\n",
    "# perform the search\n",
    "results = search.fit(X, y)\n",
    "# summarize\n",
    "print('MAE: %.3f' % results.best_score_)\n",
    "print('Config: %s' % results.best_params_)\n"
   ]
  },
  {
   "cell_type": "code",
   "execution_count": 81,
   "metadata": {},
   "outputs": [],
   "source": [
    "model = Ridge(alpha=0.19)\n",
    "model.fit(X_train,y_train)\n",
    "y_pred=model.predict(X_test)"
   ]
  },
  {
   "cell_type": "code",
   "execution_count": 82,
   "metadata": {},
   "outputs": [
    {
     "name": "stdout",
     "output_type": "stream",
     "text": [
      "r2 Score Of Test Set : 0.7975219065395684\n"
     ]
    }
   ],
   "source": [
    "print(f\"r2 Score Of Test Set : {r2_score(y_test,y_pred)}\")"
   ]
  },
  {
   "cell_type": "code",
   "execution_count": 83,
   "metadata": {},
   "outputs": [],
   "source": [
    "## Lasso"
   ]
  },
  {
   "cell_type": "code",
   "execution_count": 84,
   "metadata": {},
   "outputs": [],
   "source": [
    "\n",
    "lasso=Lasso(alpha=0.19)\n",
    "lasso.fit(X_train,y_train)\n",
    "y_pred=lasso.predict(X_test)"
   ]
  },
  {
   "cell_type": "code",
   "execution_count": 85,
   "metadata": {},
   "outputs": [
    {
     "name": "stdout",
     "output_type": "stream",
     "text": [
      "r2 Score Of Test Set : 0.794288208091279\n"
     ]
    }
   ],
   "source": [
    "print(f\"r2 Score Of Test Set : {r2_score(y_test,y_pred)}\")"
   ]
  },
  {
   "cell_type": "code",
   "execution_count": 86,
   "metadata": {},
   "outputs": [
    {
     "name": "stdout",
     "output_type": "stream",
     "text": [
      "MAE: -380490.966\n",
      "Config: {'alpha': 0.99}\n",
      "r2 Score Of Test Set : 0.794288208091279\n"
     ]
    }
   ],
   "source": [
    "model = Lasso()\n",
    "# define model evaluation method\n",
    "cv = RepeatedKFold(n_splits=10, n_repeats=3, random_state=42)\n",
    "# define grid\n",
    "grid = dict()\n",
    "grid['alpha'] = np.arange(0,1,0.01)\n",
    "# define search\n",
    "search = GridSearchCV(model, grid, scoring='neg_mean_absolute_error', cv=cv, n_jobs=-1)\n",
    "# perform the search\n",
    "results = search.fit(X, y)\n",
    "# summarize\n",
    "print('MAE: %.3f' % results.best_score_)\n",
    "print('Config: %s' % results.best_params_)\n",
    "print(f\"r2 Score Of Test Set : {r2_score(y_test,y_pred)}\")"
   ]
  },
  {
   "cell_type": "code",
   "execution_count": 91,
   "metadata": {},
   "outputs": [],
   "source": [
    "import pickle\n",
    "filename = 'finalized_model.sav'\n",
    "pickle.dump(ABR, open(filename, 'wb'))"
   ]
  },
  {
   "cell_type": "code",
   "execution_count": 111,
   "metadata": {},
   "outputs": [],
   "source": [
    "from sklearn.model_selection import train_test_split\n",
    "X_train, X_test, y_train, y_test = train_test_split(X, y, test_size=0.3,\n",
    "                                                    random_state=42)"
   ]
  },
  {
   "cell_type": "code",
   "execution_count": 112,
   "metadata": {},
   "outputs": [],
   "source": [
    "from sklearn.linear_model import LinearRegression\n",
    "reg = LinearRegression()"
   ]
  },
  {
   "cell_type": "code",
   "execution_count": 113,
   "metadata": {},
   "outputs": [],
   "source": [
    "result=reg.fit(X_train, y_train)"
   ]
  },
  {
   "cell_type": "code",
   "execution_count": 114,
   "metadata": {},
   "outputs": [
    {
     "name": "stdout",
     "output_type": "stream",
     "text": [
      "R2 value = 0.8511303918251276\n"
     ]
    }
   ],
   "source": [
    "from sklearn.metrics import mean_squared_error, r2_score\n",
    "print(\"R2 value =\",result.score(X_train, y_train))"
   ]
  },
  {
   "cell_type": "code",
   "execution_count": 115,
   "metadata": {},
   "outputs": [],
   "source": [
    "y_pred = reg.predict(X_test)\n"
   ]
  },
  {
   "cell_type": "code",
   "execution_count": 123,
   "metadata": {},
   "outputs": [],
   "source": [
    "import pickle\n",
    "pickle.dump(ABR, open(\"abr.pkl\", \"wb\"))\n",
    "\n",
    "# load model from file\n",
    "model = pickle.load(open(\"abr.pkl\", \"rb\"))\n",
    "\n"
   ]
  },
  {
   "cell_type": "code",
   "execution_count": 124,
   "metadata": {},
   "outputs": [
    {
     "data": {
      "text/html": [
       "<div>\n",
       "<style scoped>\n",
       "    .dataframe tbody tr th:only-of-type {\n",
       "        vertical-align: middle;\n",
       "    }\n",
       "\n",
       "    .dataframe tbody tr th {\n",
       "        vertical-align: top;\n",
       "    }\n",
       "\n",
       "    .dataframe thead th {\n",
       "        text-align: right;\n",
       "    }\n",
       "</style>\n",
       "<table border=\"1\" class=\"dataframe\">\n",
       "  <thead>\n",
       "    <tr style=\"text-align: right;\">\n",
       "      <th></th>\n",
       "      <th>Owner</th>\n",
       "      <th>Company_Name_BMW</th>\n",
       "      <th>Company_Name_CHEVROLET</th>\n",
       "      <th>Company_Name_DATSUN</th>\n",
       "      <th>Company_Name_FIAT</th>\n",
       "      <th>Company_Name_FORD</th>\n",
       "      <th>Company_Name_HONDA</th>\n",
       "      <th>Company_Name_HYUNDAI</th>\n",
       "      <th>Company_Name_JAGUAR</th>\n",
       "      <th>Company_Name_JEEP</th>\n",
       "      <th>...</th>\n",
       "      <th>Model_XUV500</th>\n",
       "      <th>Model_XYLO</th>\n",
       "      <th>Model_YARIS</th>\n",
       "      <th>Model_YETI</th>\n",
       "      <th>Model_Z4</th>\n",
       "      <th>Model_ZEN LX</th>\n",
       "      <th>Model_ZEST</th>\n",
       "      <th>fuel_Diesel</th>\n",
       "      <th>fuel_LPG</th>\n",
       "      <th>fuel_Petrol</th>\n",
       "    </tr>\n",
       "  </thead>\n",
       "  <tbody>\n",
       "    <tr>\n",
       "      <th>0</th>\n",
       "      <td>1</td>\n",
       "      <td>0</td>\n",
       "      <td>0</td>\n",
       "      <td>0</td>\n",
       "      <td>0</td>\n",
       "      <td>0</td>\n",
       "      <td>0</td>\n",
       "      <td>0</td>\n",
       "      <td>0</td>\n",
       "      <td>0</td>\n",
       "      <td>...</td>\n",
       "      <td>0</td>\n",
       "      <td>0</td>\n",
       "      <td>0</td>\n",
       "      <td>0</td>\n",
       "      <td>0</td>\n",
       "      <td>0</td>\n",
       "      <td>0</td>\n",
       "      <td>1</td>\n",
       "      <td>0</td>\n",
       "      <td>0</td>\n",
       "    </tr>\n",
       "    <tr>\n",
       "      <th>1</th>\n",
       "      <td>1</td>\n",
       "      <td>0</td>\n",
       "      <td>0</td>\n",
       "      <td>0</td>\n",
       "      <td>0</td>\n",
       "      <td>0</td>\n",
       "      <td>0</td>\n",
       "      <td>0</td>\n",
       "      <td>0</td>\n",
       "      <td>0</td>\n",
       "      <td>...</td>\n",
       "      <td>0</td>\n",
       "      <td>0</td>\n",
       "      <td>0</td>\n",
       "      <td>0</td>\n",
       "      <td>0</td>\n",
       "      <td>0</td>\n",
       "      <td>0</td>\n",
       "      <td>0</td>\n",
       "      <td>0</td>\n",
       "      <td>1</td>\n",
       "    </tr>\n",
       "    <tr>\n",
       "      <th>2</th>\n",
       "      <td>1</td>\n",
       "      <td>0</td>\n",
       "      <td>0</td>\n",
       "      <td>0</td>\n",
       "      <td>0</td>\n",
       "      <td>0</td>\n",
       "      <td>0</td>\n",
       "      <td>0</td>\n",
       "      <td>0</td>\n",
       "      <td>0</td>\n",
       "      <td>...</td>\n",
       "      <td>0</td>\n",
       "      <td>0</td>\n",
       "      <td>0</td>\n",
       "      <td>0</td>\n",
       "      <td>0</td>\n",
       "      <td>0</td>\n",
       "      <td>0</td>\n",
       "      <td>1</td>\n",
       "      <td>0</td>\n",
       "      <td>0</td>\n",
       "    </tr>\n",
       "    <tr>\n",
       "      <th>3</th>\n",
       "      <td>1</td>\n",
       "      <td>0</td>\n",
       "      <td>0</td>\n",
       "      <td>0</td>\n",
       "      <td>0</td>\n",
       "      <td>0</td>\n",
       "      <td>0</td>\n",
       "      <td>0</td>\n",
       "      <td>0</td>\n",
       "      <td>0</td>\n",
       "      <td>...</td>\n",
       "      <td>0</td>\n",
       "      <td>0</td>\n",
       "      <td>0</td>\n",
       "      <td>0</td>\n",
       "      <td>0</td>\n",
       "      <td>0</td>\n",
       "      <td>0</td>\n",
       "      <td>1</td>\n",
       "      <td>0</td>\n",
       "      <td>0</td>\n",
       "    </tr>\n",
       "    <tr>\n",
       "      <th>4</th>\n",
       "      <td>1</td>\n",
       "      <td>0</td>\n",
       "      <td>0</td>\n",
       "      <td>0</td>\n",
       "      <td>0</td>\n",
       "      <td>0</td>\n",
       "      <td>0</td>\n",
       "      <td>0</td>\n",
       "      <td>0</td>\n",
       "      <td>0</td>\n",
       "      <td>...</td>\n",
       "      <td>0</td>\n",
       "      <td>0</td>\n",
       "      <td>0</td>\n",
       "      <td>0</td>\n",
       "      <td>0</td>\n",
       "      <td>0</td>\n",
       "      <td>0</td>\n",
       "      <td>1</td>\n",
       "      <td>0</td>\n",
       "      <td>0</td>\n",
       "    </tr>\n",
       "  </tbody>\n",
       "</table>\n",
       "<p>5 rows × 304 columns</p>\n",
       "</div>"
      ],
      "text/plain": [
       "   Owner  Company_Name_BMW  Company_Name_CHEVROLET  Company_Name_DATSUN  \\\n",
       "0      1                 0                       0                    0   \n",
       "1      1                 0                       0                    0   \n",
       "2      1                 0                       0                    0   \n",
       "3      1                 0                       0                    0   \n",
       "4      1                 0                       0                    0   \n",
       "\n",
       "   Company_Name_FIAT  Company_Name_FORD  Company_Name_HONDA  \\\n",
       "0                  0                  0                   0   \n",
       "1                  0                  0                   0   \n",
       "2                  0                  0                   0   \n",
       "3                  0                  0                   0   \n",
       "4                  0                  0                   0   \n",
       "\n",
       "   Company_Name_HYUNDAI  Company_Name_JAGUAR  Company_Name_JEEP  ...  \\\n",
       "0                     0                    0                  0  ...   \n",
       "1                     0                    0                  0  ...   \n",
       "2                     0                    0                  0  ...   \n",
       "3                     0                    0                  0  ...   \n",
       "4                     0                    0                  0  ...   \n",
       "\n",
       "   Model_XUV500  Model_XYLO  Model_YARIS  Model_YETI  Model_Z4  Model_ZEN LX  \\\n",
       "0             0           0            0           0         0             0   \n",
       "1             0           0            0           0         0             0   \n",
       "2             0           0            0           0         0             0   \n",
       "3             0           0            0           0         0             0   \n",
       "4             0           0            0           0         0             0   \n",
       "\n",
       "   Model_ZEST  fuel_Diesel  fuel_LPG  fuel_Petrol  \n",
       "0           0            1         0            0  \n",
       "1           0            0         0            1  \n",
       "2           0            1         0            0  \n",
       "3           0            1         0            0  \n",
       "4           0            1         0            0  \n",
       "\n",
       "[5 rows x 304 columns]"
      ]
     },
     "execution_count": 124,
     "metadata": {},
     "output_type": "execute_result"
    }
   ],
   "source": [
    "df_dum.head()"
   ]
  },
  {
   "cell_type": "code",
   "execution_count": 125,
   "metadata": {},
   "outputs": [
    {
     "data": {
      "text/html": [
       "<div>\n",
       "<style scoped>\n",
       "    .dataframe tbody tr th:only-of-type {\n",
       "        vertical-align: middle;\n",
       "    }\n",
       "\n",
       "    .dataframe tbody tr th {\n",
       "        vertical-align: top;\n",
       "    }\n",
       "\n",
       "    .dataframe thead th {\n",
       "        text-align: right;\n",
       "    }\n",
       "</style>\n",
       "<table border=\"1\" class=\"dataframe\">\n",
       "  <thead>\n",
       "    <tr style=\"text-align: right;\">\n",
       "      <th></th>\n",
       "      <th>key_0</th>\n",
       "      <th>Car_Age</th>\n",
       "      <th>km</th>\n",
       "      <th>Owner</th>\n",
       "      <th>Company_Name_BMW</th>\n",
       "      <th>Company_Name_CHEVROLET</th>\n",
       "      <th>Company_Name_DATSUN</th>\n",
       "      <th>Company_Name_FIAT</th>\n",
       "      <th>Company_Name_FORD</th>\n",
       "      <th>Company_Name_HONDA</th>\n",
       "      <th>...</th>\n",
       "      <th>Model_XUV500</th>\n",
       "      <th>Model_XYLO</th>\n",
       "      <th>Model_YARIS</th>\n",
       "      <th>Model_YETI</th>\n",
       "      <th>Model_Z4</th>\n",
       "      <th>Model_ZEN LX</th>\n",
       "      <th>Model_ZEST</th>\n",
       "      <th>fuel_Diesel</th>\n",
       "      <th>fuel_LPG</th>\n",
       "      <th>fuel_Petrol</th>\n",
       "    </tr>\n",
       "  </thead>\n",
       "  <tbody>\n",
       "    <tr>\n",
       "      <th>0</th>\n",
       "      <td>0</td>\n",
       "      <td>10</td>\n",
       "      <td>65345</td>\n",
       "      <td>1</td>\n",
       "      <td>0</td>\n",
       "      <td>0</td>\n",
       "      <td>0</td>\n",
       "      <td>0</td>\n",
       "      <td>0</td>\n",
       "      <td>0</td>\n",
       "      <td>...</td>\n",
       "      <td>0</td>\n",
       "      <td>0</td>\n",
       "      <td>0</td>\n",
       "      <td>0</td>\n",
       "      <td>0</td>\n",
       "      <td>0</td>\n",
       "      <td>0</td>\n",
       "      <td>1</td>\n",
       "      <td>0</td>\n",
       "      <td>0</td>\n",
       "    </tr>\n",
       "    <tr>\n",
       "      <th>1</th>\n",
       "      <td>1</td>\n",
       "      <td>3</td>\n",
       "      <td>12000</td>\n",
       "      <td>1</td>\n",
       "      <td>0</td>\n",
       "      <td>0</td>\n",
       "      <td>0</td>\n",
       "      <td>0</td>\n",
       "      <td>0</td>\n",
       "      <td>0</td>\n",
       "      <td>...</td>\n",
       "      <td>0</td>\n",
       "      <td>0</td>\n",
       "      <td>0</td>\n",
       "      <td>0</td>\n",
       "      <td>0</td>\n",
       "      <td>0</td>\n",
       "      <td>0</td>\n",
       "      <td>0</td>\n",
       "      <td>0</td>\n",
       "      <td>1</td>\n",
       "    </tr>\n",
       "    <tr>\n",
       "      <th>2</th>\n",
       "      <td>2</td>\n",
       "      <td>7</td>\n",
       "      <td>78000</td>\n",
       "      <td>1</td>\n",
       "      <td>0</td>\n",
       "      <td>0</td>\n",
       "      <td>0</td>\n",
       "      <td>0</td>\n",
       "      <td>0</td>\n",
       "      <td>0</td>\n",
       "      <td>...</td>\n",
       "      <td>0</td>\n",
       "      <td>0</td>\n",
       "      <td>0</td>\n",
       "      <td>0</td>\n",
       "      <td>0</td>\n",
       "      <td>0</td>\n",
       "      <td>0</td>\n",
       "      <td>1</td>\n",
       "      <td>0</td>\n",
       "      <td>0</td>\n",
       "    </tr>\n",
       "    <tr>\n",
       "      <th>3</th>\n",
       "      <td>3</td>\n",
       "      <td>8</td>\n",
       "      <td>53055</td>\n",
       "      <td>1</td>\n",
       "      <td>0</td>\n",
       "      <td>0</td>\n",
       "      <td>0</td>\n",
       "      <td>0</td>\n",
       "      <td>0</td>\n",
       "      <td>0</td>\n",
       "      <td>...</td>\n",
       "      <td>0</td>\n",
       "      <td>0</td>\n",
       "      <td>0</td>\n",
       "      <td>0</td>\n",
       "      <td>0</td>\n",
       "      <td>0</td>\n",
       "      <td>0</td>\n",
       "      <td>1</td>\n",
       "      <td>0</td>\n",
       "      <td>0</td>\n",
       "    </tr>\n",
       "    <tr>\n",
       "      <th>4</th>\n",
       "      <td>4</td>\n",
       "      <td>3</td>\n",
       "      <td>14000</td>\n",
       "      <td>1</td>\n",
       "      <td>0</td>\n",
       "      <td>0</td>\n",
       "      <td>0</td>\n",
       "      <td>0</td>\n",
       "      <td>0</td>\n",
       "      <td>0</td>\n",
       "      <td>...</td>\n",
       "      <td>0</td>\n",
       "      <td>0</td>\n",
       "      <td>0</td>\n",
       "      <td>0</td>\n",
       "      <td>0</td>\n",
       "      <td>0</td>\n",
       "      <td>0</td>\n",
       "      <td>1</td>\n",
       "      <td>0</td>\n",
       "      <td>0</td>\n",
       "    </tr>\n",
       "  </tbody>\n",
       "</table>\n",
       "<p>5 rows × 307 columns</p>\n",
       "</div>"
      ],
      "text/plain": [
       "   key_0  Car_Age     km  Owner  Company_Name_BMW  Company_Name_CHEVROLET  \\\n",
       "0      0       10  65345      1                 0                       0   \n",
       "1      1        3  12000      1                 0                       0   \n",
       "2      2        7  78000      1                 0                       0   \n",
       "3      3        8  53055      1                 0                       0   \n",
       "4      4        3  14000      1                 0                       0   \n",
       "\n",
       "   Company_Name_DATSUN  Company_Name_FIAT  Company_Name_FORD  \\\n",
       "0                    0                  0                  0   \n",
       "1                    0                  0                  0   \n",
       "2                    0                  0                  0   \n",
       "3                    0                  0                  0   \n",
       "4                    0                  0                  0   \n",
       "\n",
       "   Company_Name_HONDA  ...  Model_XUV500  Model_XYLO  Model_YARIS  Model_YETI  \\\n",
       "0                   0  ...             0           0            0           0   \n",
       "1                   0  ...             0           0            0           0   \n",
       "2                   0  ...             0           0            0           0   \n",
       "3                   0  ...             0           0            0           0   \n",
       "4                   0  ...             0           0            0           0   \n",
       "\n",
       "   Model_Z4  Model_ZEN LX  Model_ZEST  fuel_Diesel  fuel_LPG  fuel_Petrol  \n",
       "0         0             0           0            1         0            0  \n",
       "1         0             0           0            0         0            1  \n",
       "2         0             0           0            1         0            0  \n",
       "3         0             0           0            1         0            0  \n",
       "4         0             0           0            1         0            0  \n",
       "\n",
       "[5 rows x 307 columns]"
      ]
     },
     "execution_count": 125,
     "metadata": {},
     "output_type": "execute_result"
    }
   ],
   "source": [
    "X.head()\n"
   ]
  },
  {
   "cell_type": "code",
   "execution_count": null,
   "metadata": {},
   "outputs": [],
   "source": []
  }
 ],
 "metadata": {
  "kernelspec": {
   "display_name": "Python 3",
   "language": "python",
   "name": "python3"
  },
  "language_info": {
   "codemirror_mode": {
    "name": "ipython",
    "version": 3
   },
   "file_extension": ".py",
   "mimetype": "text/x-python",
   "name": "python",
   "nbconvert_exporter": "python",
   "pygments_lexer": "ipython3",
   "version": "3.8.5"
  }
 },
 "nbformat": 4,
 "nbformat_minor": 4
}
