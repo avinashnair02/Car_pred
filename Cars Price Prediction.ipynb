{
 "cells": [
  {
   "cell_type": "code",
   "execution_count": 1,
   "metadata": {},
   "outputs": [],
   "source": [
    "import pandas as pd\n",
    "import numpy as np\n",
    "import seaborn as sns\n",
    "import matplotlib.pyplot as plt\n",
    "%matplotlib inline\n",
    "from scipy import stats\n",
    "from sklearn.model_selection import train_test_split\n",
    "from sklearn.ensemble import RandomForestRegressor\n",
    "import pandas as pd\n",
    "import numpy as np\n",
    "import time\n",
    "from tqdm import tqdm\n",
    "import matplotlib\n",
    "import matplotlib.pyplot as plt\n",
    "\n",
    "#libraries for preprocessing\n",
    "from sklearn import preprocessing\n",
    "from sklearn.preprocessing import StandardScaler\n",
    "from sklearn.preprocessing import MinMaxScaler\n",
    "\n",
    "#libraries for evaluation\n",
    "from sklearn.metrics import mean_squared_log_error,r2_score,mean_squared_error\n",
    "from sklearn.model_selection import train_test_split\n",
    "\n",
    "\n",
    "#libraries for models\n",
    "from sklearn.linear_model import LinearRegression\n",
    "\n",
    "from sklearn.linear_model import Ridge\n",
    "from sklearn.linear_model import LassoCV,RidgeCV\n",
    "from yellowbrick.regressor import AlphaSelection\n",
    "\n",
    "from sklearn.linear_model import Lasso\n",
    "\n",
    "from sklearn.neighbors import KNeighborsRegressor\n",
    "\n",
    "from sklearn.ensemble import RandomForestRegressor\n",
    "\n",
    "from sklearn.ensemble import BaggingRegressor\n",
    "from sklearn.tree import DecisionTreeRegressor\n",
    "from sklearn.svm import SVR\n",
    "\n",
    "from sklearn.ensemble import AdaBoostRegressor\n",
    "\n",
    "import xgboost as xgb\n",
    "\n",
    "import warnings\n",
    "warnings.filterwarnings('ignore')"
   ]
  },
  {
   "cell_type": "code",
   "execution_count": 2,
   "metadata": {},
   "outputs": [],
   "source": [
    "from numpy import mean\n",
    "from numpy import std\n",
    "from numpy import absolute\n",
    "from pandas import read_csv\n",
    "from sklearn.model_selection import cross_val_score\n",
    "from sklearn.model_selection import RepeatedKFold\n",
    "from sklearn.linear_model import Ridge\n"
   ]
  },
  {
   "cell_type": "code",
   "execution_count": 3,
   "metadata": {},
   "outputs": [],
   "source": [
    "df  = pd.read_csv('Dataset.csv')"
   ]
  },
  {
   "cell_type": "code",
   "execution_count": 4,
   "metadata": {},
   "outputs": [
    {
     "data": {
      "text/html": [
       "<div>\n",
       "<style scoped>\n",
       "    .dataframe tbody tr th:only-of-type {\n",
       "        vertical-align: middle;\n",
       "    }\n",
       "\n",
       "    .dataframe tbody tr th {\n",
       "        vertical-align: top;\n",
       "    }\n",
       "\n",
       "    .dataframe thead th {\n",
       "        text-align: right;\n",
       "    }\n",
       "</style>\n",
       "<table border=\"1\" class=\"dataframe\">\n",
       "  <thead>\n",
       "    <tr style=\"text-align: right;\">\n",
       "      <th></th>\n",
       "      <th>Company Name</th>\n",
       "      <th>Model</th>\n",
       "      <th>price</th>\n",
       "      <th>km</th>\n",
       "      <th>Owner</th>\n",
       "      <th>Car Age</th>\n",
       "      <th>fuel</th>\n",
       "      <th>location</th>\n",
       "      <th>Model_rank</th>\n",
       "      <th>fuel_rank</th>\n",
       "    </tr>\n",
       "  </thead>\n",
       "  <tbody>\n",
       "    <tr>\n",
       "      <th>0</th>\n",
       "      <td>Honda</td>\n",
       "      <td>City</td>\n",
       "      <td>1025000</td>\n",
       "      <td>24000</td>\n",
       "      <td>1</td>\n",
       "      <td>3</td>\n",
       "      <td>Diesel</td>\n",
       "      <td>Delhi</td>\n",
       "      <td>9</td>\n",
       "      <td>6</td>\n",
       "    </tr>\n",
       "    <tr>\n",
       "      <th>1</th>\n",
       "      <td>Honda</td>\n",
       "      <td>City</td>\n",
       "      <td>299000</td>\n",
       "      <td>76347</td>\n",
       "      <td>2</td>\n",
       "      <td>14</td>\n",
       "      <td>Petrol</td>\n",
       "      <td>Bangalore</td>\n",
       "      <td>9</td>\n",
       "      <td>5</td>\n",
       "    </tr>\n",
       "    <tr>\n",
       "      <th>2</th>\n",
       "      <td>Honda</td>\n",
       "      <td>WR-V</td>\n",
       "      <td>750000</td>\n",
       "      <td>41855</td>\n",
       "      <td>1</td>\n",
       "      <td>4</td>\n",
       "      <td>Diesel</td>\n",
       "      <td>Navi Mumbai</td>\n",
       "      <td>76</td>\n",
       "      <td>6</td>\n",
       "    </tr>\n",
       "    <tr>\n",
       "      <th>3</th>\n",
       "      <td>Honda</td>\n",
       "      <td>Civic</td>\n",
       "      <td>320000</td>\n",
       "      <td>66867</td>\n",
       "      <td>1</td>\n",
       "      <td>14</td>\n",
       "      <td>Petrol</td>\n",
       "      <td>Hyderabad</td>\n",
       "      <td>91</td>\n",
       "      <td>5</td>\n",
       "    </tr>\n",
       "    <tr>\n",
       "      <th>4</th>\n",
       "      <td>Honda</td>\n",
       "      <td>City</td>\n",
       "      <td>350000</td>\n",
       "      <td>57409</td>\n",
       "      <td>2</td>\n",
       "      <td>10</td>\n",
       "      <td>Petrol</td>\n",
       "      <td>Mumbai</td>\n",
       "      <td>9</td>\n",
       "      <td>5</td>\n",
       "    </tr>\n",
       "  </tbody>\n",
       "</table>\n",
       "</div>"
      ],
      "text/plain": [
       "  Company Name  Model    price     km  Owner  Car Age    fuel     location  \\\n",
       "0        Honda   City  1025000  24000      1        3  Diesel        Delhi   \n",
       "1        Honda   City   299000  76347      2       14  Petrol    Bangalore   \n",
       "2        Honda   WR-V   750000  41855      1        4  Diesel  Navi Mumbai   \n",
       "3        Honda  Civic   320000  66867      1       14  Petrol    Hyderabad   \n",
       "4        Honda   City   350000  57409      2       10  Petrol       Mumbai   \n",
       "\n",
       "   Model_rank  fuel_rank  \n",
       "0           9          6  \n",
       "1           9          5  \n",
       "2          76          6  \n",
       "3          91          5  \n",
       "4           9          5  "
      ]
     },
     "execution_count": 4,
     "metadata": {},
     "output_type": "execute_result"
    }
   ],
   "source": [
    "df.head()"
   ]
  },
  {
   "cell_type": "code",
   "execution_count": 5,
   "metadata": {},
   "outputs": [],
   "source": [
    "df.drop(columns=['Model_rank', 'fuel_rank'],axis=1,inplace=True)"
   ]
  },
  {
   "cell_type": "code",
   "execution_count": 6,
   "metadata": {},
   "outputs": [
    {
     "data": {
      "text/html": [
       "<div>\n",
       "<style scoped>\n",
       "    .dataframe tbody tr th:only-of-type {\n",
       "        vertical-align: middle;\n",
       "    }\n",
       "\n",
       "    .dataframe tbody tr th {\n",
       "        vertical-align: top;\n",
       "    }\n",
       "\n",
       "    .dataframe thead th {\n",
       "        text-align: right;\n",
       "    }\n",
       "</style>\n",
       "<table border=\"1\" class=\"dataframe\">\n",
       "  <thead>\n",
       "    <tr style=\"text-align: right;\">\n",
       "      <th></th>\n",
       "      <th>Company Name</th>\n",
       "      <th>Model</th>\n",
       "      <th>price</th>\n",
       "      <th>km</th>\n",
       "      <th>Owner</th>\n",
       "      <th>Car Age</th>\n",
       "      <th>fuel</th>\n",
       "      <th>location</th>\n",
       "    </tr>\n",
       "  </thead>\n",
       "  <tbody>\n",
       "    <tr>\n",
       "      <th>0</th>\n",
       "      <td>Honda</td>\n",
       "      <td>City</td>\n",
       "      <td>1025000</td>\n",
       "      <td>24000</td>\n",
       "      <td>1</td>\n",
       "      <td>3</td>\n",
       "      <td>Diesel</td>\n",
       "      <td>Delhi</td>\n",
       "    </tr>\n",
       "    <tr>\n",
       "      <th>1</th>\n",
       "      <td>Honda</td>\n",
       "      <td>City</td>\n",
       "      <td>299000</td>\n",
       "      <td>76347</td>\n",
       "      <td>2</td>\n",
       "      <td>14</td>\n",
       "      <td>Petrol</td>\n",
       "      <td>Bangalore</td>\n",
       "    </tr>\n",
       "    <tr>\n",
       "      <th>2</th>\n",
       "      <td>Honda</td>\n",
       "      <td>WR-V</td>\n",
       "      <td>750000</td>\n",
       "      <td>41855</td>\n",
       "      <td>1</td>\n",
       "      <td>4</td>\n",
       "      <td>Diesel</td>\n",
       "      <td>Navi Mumbai</td>\n",
       "    </tr>\n",
       "    <tr>\n",
       "      <th>3</th>\n",
       "      <td>Honda</td>\n",
       "      <td>Civic</td>\n",
       "      <td>320000</td>\n",
       "      <td>66867</td>\n",
       "      <td>1</td>\n",
       "      <td>14</td>\n",
       "      <td>Petrol</td>\n",
       "      <td>Hyderabad</td>\n",
       "    </tr>\n",
       "    <tr>\n",
       "      <th>4</th>\n",
       "      <td>Honda</td>\n",
       "      <td>City</td>\n",
       "      <td>350000</td>\n",
       "      <td>57409</td>\n",
       "      <td>2</td>\n",
       "      <td>10</td>\n",
       "      <td>Petrol</td>\n",
       "      <td>Mumbai</td>\n",
       "    </tr>\n",
       "  </tbody>\n",
       "</table>\n",
       "</div>"
      ],
      "text/plain": [
       "  Company Name  Model    price     km  Owner  Car Age    fuel     location\n",
       "0        Honda   City  1025000  24000      1        3  Diesel        Delhi\n",
       "1        Honda   City   299000  76347      2       14  Petrol    Bangalore\n",
       "2        Honda   WR-V   750000  41855      1        4  Diesel  Navi Mumbai\n",
       "3        Honda  Civic   320000  66867      1       14  Petrol    Hyderabad\n",
       "4        Honda   City   350000  57409      2       10  Petrol       Mumbai"
      ]
     },
     "execution_count": 6,
     "metadata": {},
     "output_type": "execute_result"
    }
   ],
   "source": [
    "df.head()"
   ]
  },
  {
   "cell_type": "code",
   "execution_count": 7,
   "metadata": {},
   "outputs": [],
   "source": [
    "df.drop(df.loc[df['location']=='Ranchi'].index, inplace=True)\n",
    "df.drop(df.loc[df['location']=='Rajkot'].index, inplace=True)\n",
    "df.drop(df.loc[df['location']=='Akola'].index, inplace=True)\n",
    "df.drop(df.loc[df['location']=='Raipur'].index, inplace=True)\n",
    "df.drop(df.loc[df['location']=='Jamshedpur'].index, inplace=True)\n",
    "df.drop(df.loc[df['location']=='Tiruchirappalli'].index, inplace=True)\n",
    "df.drop(df.loc[df['location']=='Vadodara'].index, inplace=True)\n",
    "df.drop(df.loc[df['location']=='Surat'].index, inplace=True)\n",
    "df.drop(df.loc[df['location']=='Kalamassery'].index, inplace=True)\n",
    "df.drop(df.loc[df['location']=='Indore'].index, inplace=True)\n",
    "df.drop(df.loc[df['location']=='Kochi'].index, inplace=True)\n",
    "df.drop(df.loc[df['location']=='Karnal'].index, inplace=True)\n",
    "df.drop(df.loc[df['location']=='location'].index, inplace=True)"
   ]
  },
  {
   "cell_type": "code",
   "execution_count": 8,
   "metadata": {},
   "outputs": [],
   "source": [
    "df.reset_index(drop=True,inplace=True)\n"
   ]
  },
  {
   "cell_type": "code",
   "execution_count": 9,
   "metadata": {},
   "outputs": [
    {
     "data": {
      "text/plain": [
       "Mumbai                866\n",
       "Delhi                 445\n",
       "Hyderabad             435\n",
       "Bangalore             321\n",
       "Pune                  266\n",
       "Chennai               243\n",
       "Ahmedabad             146\n",
       "Kolkata               135\n",
       "Thane                 131\n",
       "Coimbatore            118\n",
       "Jaipur                 60\n",
       "Nashik                 56\n",
       "Bhopal                 53\n",
       "Noida                  49\n",
       "Navi Mumbai            47\n",
       "Gurgaon                35\n",
       "Faridabad              33\n",
       "Ghaziabad              28\n",
       "Thiruvananthapuram     24\n",
       "Bellary                23\n",
       "Mangalore              23\n",
       "Aurangabad             22\n",
       "Kollam                 22\n",
       "Mysore                 22\n",
       "Nagpur                 12\n",
       "Lucknow                12\n",
       "Pondicherry            10\n",
       "Name: location, dtype: int64"
      ]
     },
     "execution_count": 9,
     "metadata": {},
     "output_type": "execute_result"
    }
   ],
   "source": [
    "df['location'].value_counts()"
   ]
  },
  {
   "cell_type": "code",
   "execution_count": 10,
   "metadata": {},
   "outputs": [],
   "source": [
    "df[\"location\"].replace({\"Ghaziabad\": \"Delhi\",\"Noida\":\"Delhi\",\"Gurgaon\":\"Delhi\",\"Faridabad\":\"Delhi\"}, inplace=True)\n",
    "\n",
    "df[\"location\"].replace({\"Mangalore\": \"Bangalore\",\"Mysore\":\"Bangalore\",\"Bellary\":\"Bangalore\"}, inplace=True)\n",
    "\n",
    "df[\"location\"].replace({\"Pondicherry\": \"Chennai\"}, inplace=True)\n",
    "\n",
    "df[\"location\"].replace({\"Kollam\": \"Thiruvananthapuram\"}, inplace=True)\n",
    "\n",
    "df[\"location\"].replace({\"Lucknow\": \"Bhopal\"}, inplace=True)\n",
    "\n",
    "df[\"location\"].replace({\"Aurangabad\": \"Nagpur\", \"Nashik\": \"Nagpur\"}, inplace=True)"
   ]
  },
  {
   "cell_type": "code",
   "execution_count": 11,
   "metadata": {},
   "outputs": [
    {
     "data": {
      "image/png": "[encoded data removed]",
      "text/plain": [
       "<Figure size 1080x720 with 1 Axes>"
      ]
     },
     "metadata": {},
     "output_type": "display_data"
    }
   ],
   "source": [
    "plt.figure(figsize=(15,10))\n",
    "sns.countplot(x='location',data= df)\n",
    "plt.xticks(rotation=90)\n",
    "plt.show()"
   ]
  },
  {
   "cell_type": "code",
   "execution_count": 12,
   "metadata": {},
   "outputs": [
    {
     "data": {
      "image/png": "[encoded data removed]",
      "text/plain": [
       "<Figure size 720x720 with 2 Axes>"
      ]
     },
     "metadata": {},
     "output_type": "display_data"
    }
   ],
   "source": [
    "#get correlations of each features in dataset\n",
    "corrmat = df.corr()\n",
    "top_corr_features = corrmat.index\n",
    "plt.figure(figsize=(10,10))\n",
    "#plot heat map\n",
    "g=sns.heatmap(df[top_corr_features].corr(),annot=True,cmap=\"RdYlGn\")"
   ]
  },
  {
   "cell_type": "code",
   "execution_count": 13,
   "metadata": {},
   "outputs": [
    {
     "data": {
      "text/plain": [
       "<AxesSubplot:xlabel='km', ylabel='Density'>"
      ]
     },
     "execution_count": 13,
     "metadata": {},
     "output_type": "execute_result"
    },
    {
     "data": {
      "image/png": "[encoded data removed]",
      "text/plain": [
       "<Figure size 576x396 with 1 Axes>"
      ]
     },
     "metadata": {},
     "output_type": "display_data"
    }
   ],
   "source": [
    "sns.distplot(df['km'])\n"
   ]
  },
  {
   "cell_type": "code",
   "execution_count": 14,
   "metadata": {},
   "outputs": [
    {
     "data": {
      "text/plain": [
       "<AxesSubplot:xlabel='Car Age', ylabel='Density'>"
      ]
     },
     "execution_count": 14,
     "metadata": {},
     "output_type": "execute_result"
    },
    {
     "data": {
      "image/png": "[encoded data removed]",
      "text/plain": [
       "<Figure size 576x396 with 1 Axes>"
      ]
     },
     "metadata": {},
     "output_type": "display_data"
    }
   ],
   "source": [
    "sns.distplot(df['Car Age'])"
   ]
  },
  {
   "cell_type": "code",
   "execution_count": 15,
   "metadata": {},
   "outputs": [
    {
     "data": {
      "text/plain": [
       "<AxesSubplot:xlabel='price', ylabel='Density'>"
      ]
     },
     "execution_count": 15,
     "metadata": {},
     "output_type": "execute_result"
    },
    {
     "data": {
      "image/png": "[encoded data removed]",
      "text/plain": [
       "<Figure size 576x396 with 1 Axes>"
      ]
     },
     "metadata": {},
     "output_type": "display_data"
    }
   ],
   "source": [
    "sns.distplot(df['price'])"
   ]
  },
  {
   "cell_type": "code",
   "execution_count": 16,
   "metadata": {},
   "outputs": [],
   "source": [
    "df_cont = df[['Car Age','km']]"
   ]
  },
  {
   "cell_type": "code",
   "execution_count": 17,
   "metadata": {},
   "outputs": [],
   "source": [
    "df_cat=df[['Company Name','location','Model', 'fuel','Owner']]"
   ]
  },
  {
   "cell_type": "code",
   "execution_count": 18,
   "metadata": {},
   "outputs": [],
   "source": [
    "#df_cat=df[['Company Name','Model', 'fuel','Owner']]"
   ]
  },
  {
   "cell_type": "code",
   "execution_count": 19,
   "metadata": {},
   "outputs": [],
   "source": [
    "df_dum=pd.get_dummies(df_cat,drop_first=True)"
   ]
  },
  {
   "cell_type": "code",
   "execution_count": 20,
   "metadata": {},
   "outputs": [],
   "source": [
    "X=pd.merge(df_cont,df_dum,on=df_cat.index)\n",
    "y= df[['price']]"
   ]
  },
  {
   "cell_type": "code",
   "execution_count": 21,
   "metadata": {},
   "outputs": [
    {
     "data": {
      "text/plain": [
       "(3637, 251)"
      ]
     },
     "execution_count": 21,
     "metadata": {},
     "output_type": "execute_result"
    }
   ],
   "source": [
    "X.shape"
   ]
  },
  {
   "cell_type": "code",
   "execution_count": 22,
   "metadata": {},
   "outputs": [
    {
     "data": {
      "text/html": [
       "<div>\n",
       "<style scoped>\n",
       "    .dataframe tbody tr th:only-of-type {\n",
       "        vertical-align: middle;\n",
       "    }\n",
       "\n",
       "    .dataframe tbody tr th {\n",
       "        vertical-align: top;\n",
       "    }\n",
       "\n",
       "    .dataframe thead th {\n",
       "        text-align: right;\n",
       "    }\n",
       "</style>\n",
       "<table border=\"1\" class=\"dataframe\">\n",
       "  <thead>\n",
       "    <tr style=\"text-align: right;\">\n",
       "      <th></th>\n",
       "      <th>price</th>\n",
       "    </tr>\n",
       "  </thead>\n",
       "  <tbody>\n",
       "    <tr>\n",
       "      <th>3632</th>\n",
       "      <td>310000</td>\n",
       "    </tr>\n",
       "    <tr>\n",
       "      <th>3633</th>\n",
       "      <td>395000</td>\n",
       "    </tr>\n",
       "    <tr>\n",
       "      <th>3634</th>\n",
       "      <td>340000</td>\n",
       "    </tr>\n",
       "    <tr>\n",
       "      <th>3635</th>\n",
       "      <td>345600</td>\n",
       "    </tr>\n",
       "    <tr>\n",
       "      <th>3636</th>\n",
       "      <td>365000</td>\n",
       "    </tr>\n",
       "  </tbody>\n",
       "</table>\n",
       "</div>"
      ],
      "text/plain": [
       "       price\n",
       "3632  310000\n",
       "3633  395000\n",
       "3634  340000\n",
       "3635  345600\n",
       "3636  365000"
      ]
     },
     "execution_count": 22,
     "metadata": {},
     "output_type": "execute_result"
    }
   ],
   "source": [
    "y.tail()"
   ]
  },
  {
   "cell_type": "code",
   "execution_count": 23,
   "metadata": {},
   "outputs": [
    {
     "data": {
      "text/plain": [
       "(3637, 1)"
      ]
     },
     "execution_count": 23,
     "metadata": {},
     "output_type": "execute_result"
    }
   ],
   "source": [
    "y.shape"
   ]
  },
  {
   "cell_type": "code",
   "execution_count": 24,
   "metadata": {},
   "outputs": [],
   "source": [
    "X_train, X_test, y_train, y_test = train_test_split(X, y, test_size=0.2, random_state=42)"
   ]
  },
  {
   "cell_type": "code",
   "execution_count": 25,
   "metadata": {},
   "outputs": [],
   "source": [
    "\n",
    "lasso=Lasso(alpha=0.0001)\n",
    "lasso.fit(X_train,y_train)\n",
    "y_pred=lasso.predict(X_test)\n"
   ]
  },
  {
   "cell_type": "code",
   "execution_count": 26,
   "metadata": {},
   "outputs": [
    {
     "data": {
      "text/plain": [
       "RandomForestRegressor()"
      ]
     },
     "execution_count": 26,
     "metadata": {},
     "output_type": "execute_result"
    }
   ],
   "source": [
    "regr = RandomForestRegressor()\n",
    "regr.fit(X_train, y_train)"
   ]
  },
  {
   "cell_type": "code",
   "execution_count": 27,
   "metadata": {},
   "outputs": [
    {
     "data": {
      "text/plain": [
       "{'bootstrap': True,\n",
       " 'ccp_alpha': 0.0,\n",
       " 'criterion': 'mse',\n",
       " 'max_depth': None,\n",
       " 'max_features': 'auto',\n",
       " 'max_leaf_nodes': None,\n",
       " 'max_samples': None,\n",
       " 'min_impurity_decrease': 0.0,\n",
       " 'min_impurity_split': None,\n",
       " 'min_samples_leaf': 1,\n",
       " 'min_samples_split': 2,\n",
       " 'min_weight_fraction_leaf': 0.0,\n",
       " 'n_estimators': 100,\n",
       " 'n_jobs': None,\n",
       " 'oob_score': False,\n",
       " 'random_state': None,\n",
       " 'verbose': 0,\n",
       " 'warm_start': False}"
      ]
     },
     "execution_count": 27,
     "metadata": {},
     "output_type": "execute_result"
    }
   ],
   "source": [
    "regr.get_params(deep=True)"
   ]
  },
  {
   "cell_type": "code",
   "execution_count": 28,
   "metadata": {},
   "outputs": [],
   "source": [
    "y_pred = regr.predict(X_test)"
   ]
  },
  {
   "cell_type": "code",
   "execution_count": 29,
   "metadata": {},
   "outputs": [
    {
     "data": {
      "text/plain": [
       "0.7198854306648075"
      ]
     },
     "execution_count": 29,
     "metadata": {},
     "output_type": "execute_result"
    }
   ],
   "source": [
    "regr.score(X_test, y_test, sample_weight=None) "
   ]
  },
  {
   "cell_type": "code",
   "execution_count": 30,
   "metadata": {},
   "outputs": [
    {
     "data": {
      "text/plain": [
       "0.9671264885702144"
      ]
     },
     "execution_count": 30,
     "metadata": {},
     "output_type": "execute_result"
    }
   ],
   "source": [
    "regr.score(X_train, y_train, sample_weight=None) "
   ]
  },
  {
   "cell_type": "code",
   "execution_count": 31,
   "metadata": {},
   "outputs": [],
   "source": [
    "from sklearn.model_selection import RandomizedSearchCV, GridSearchCV\n",
    "import xgboost as xgb\n",
    "from xgboost.sklearn import XGBRegressor\n",
    "import re\n",
    "\n",
    "regex = re.compile(r\"\\[|\\]|<\", re.IGNORECASE)\n",
    "\n",
    "X_train.columns = [regex.sub(\"_\", col) if any(x in str(col) for x in set(('[', ']', '<'))) else col for col in X_train.columns.values]"
   ]
  },
  {
   "cell_type": "code",
   "execution_count": 32,
   "metadata": {},
   "outputs": [],
   "source": [
    "xgb1 = XGBRegressor()\n",
    "parameters = {'nthread':[4], #when use hyperthread, xgboost may become slower\n",
    "              'objective':['reg:linear'],\n",
    "              'learning_rate': [.03, 0.05, .07,0.9], #so called `eta` value\n",
    "              'max_depth': [5, 6, 7],\n",
    "              'min_child_weight': [4],\n",
    "              'silent': [1],\n",
    "              'subsample': [0.7],\n",
    "              'colsample_bytree': [0.7],\n",
    "              'n_estimators': [500]}"
   ]
  },
  {
   "cell_type": "code",
   "execution_count": 33,
   "metadata": {},
   "outputs": [
    {
     "name": "stdout",
     "output_type": "stream",
     "text": [
      "Fitting 7 folds for each of 12 candidates, totalling 84 fits\n",
      "[21:53:05] WARNING: C:/Users/Administrator/workspace/xgboost-win64_release_1.3.0/src/objective/regression_obj.cu:170: reg:linear is now deprecated in favor of reg:squarederror.\n",
      "[21:53:05] WARNING: C:/Users/Administrator/workspace/xgboost-win64_release_1.3.0/src/learner.cc:541: \n",
      "Parameters: { silent } might not be used.\n",
      "\n",
      "  This may not be accurate due to some parameters are only used in language bindings but\n",
      "  passed down to XGBoost core.  Or some parameters are not used but slip through this\n",
      "  verification. Please open an issue if you find above cases.\n",
      "\n",
      "\n"
     ]
    },
    {
     "data": {
      "text/plain": [
       "GridSearchCV(cv=7,\n",
       "             estimator=XGBRegressor(base_score=None, booster=None,\n",
       "                                    colsample_bylevel=None,\n",
       "                                    colsample_bynode=None,\n",
       "                                    colsample_bytree=None, gamma=None,\n",
       "                                    gpu_id=None, importance_type='gain',\n",
       "                                    interaction_constraints=None,\n",
       "                                    learning_rate=None, max_delta_step=None,\n",
       "                                    max_depth=None, min_child_weight=None,\n",
       "                                    missing=nan, monotone_constraints=None,\n",
       "                                    n_estimators=100, n_jobs=...\n",
       "                                    reg_alpha=None, reg_lambda=None,\n",
       "                                    scale_pos_weight=None, subsample=None,\n",
       "                                    tree_method=None, validate_parameters=None,\n",
       "                                    verbosity=None),\n",
       "             n_jobs=-1,\n",
       "             param_grid={'colsample_bytree': [0.7],\n",
       "                         'learning_rate': [0.03, 0.05, 0.07, 0.9],\n",
       "                         'max_depth': [5, 6, 7], 'min_child_weight': [4],\n",
       "                         'n_estimators': [500], 'nthread': [4],\n",
       "                         'objective': ['reg:linear'], 'silent': [1],\n",
       "                         'subsample': [0.7]},\n",
       "             verbose=7)"
      ]
     },
     "execution_count": 33,
     "metadata": {},
     "output_type": "execute_result"
    }
   ],
   "source": [
    "xgb_grid = GridSearchCV(xgb1,\n",
    "                        parameters,\n",
    "                        cv = 7,\n",
    "                        n_jobs = -1,\n",
    "                        verbose=7)\n",
    "xgb_grid.fit(X_train,y_train)"
   ]
  },
  {
   "cell_type": "code",
   "execution_count": 34,
   "metadata": {},
   "outputs": [
    {
     "name": "stdout",
     "output_type": "stream",
     "text": [
      "0.6700022467481859\n",
      "{'colsample_bytree': 0.7, 'learning_rate': 0.07, 'max_depth': 5, 'min_child_weight': 4, 'n_estimators': 500, 'nthread': 4, 'objective': 'reg:linear', 'silent': 1, 'subsample': 0.7}\n"
     ]
    }
   ],
   "source": [
    "print(xgb_grid.best_score_)\n",
    "print(xgb_grid.best_params_)"
   ]
  },
  {
   "cell_type": "code",
   "execution_count": 35,
   "metadata": {},
   "outputs": [],
   "source": [
    "params = {'colsample_bytree': [0.7],\n",
    "          'learning_rate':[0.03], \n",
    "          'max_depth':[5],\n",
    "          'min_child_weight':[4], \n",
    "          'n_estimators':[500], \n",
    "          'nthread': [4],\n",
    "          'objective': ['reg:linear'],\n",
    "          'silent': [1],\n",
    "          'subsample': [0.7]}"
   ]
  },
  {
   "cell_type": "code",
   "execution_count": 36,
   "metadata": {},
   "outputs": [
    {
     "name": "stdout",
     "output_type": "stream",
     "text": [
      "Fitting 7 folds for each of 1 candidates, totalling 7 fits\n",
      "[21:53:42] WARNING: C:/Users/Administrator/workspace/xgboost-win64_release_1.3.0/src/objective/regression_obj.cu:170: reg:linear is now deprecated in favor of reg:squarederror.\n",
      "[21:53:42] WARNING: C:/Users/Administrator/workspace/xgboost-win64_release_1.3.0/src/learner.cc:541: \n",
      "Parameters: { silent } might not be used.\n",
      "\n",
      "  This may not be accurate due to some parameters are only used in language bindings but\n",
      "  passed down to XGBoost core.  Or some parameters are not used but slip through this\n",
      "  verification. Please open an issue if you find above cases.\n",
      "\n",
      "\n"
     ]
    },
    {
     "data": {
      "text/plain": [
       "GridSearchCV(cv=7,\n",
       "             estimator=XGBRegressor(base_score=None, booster=None,\n",
       "                                    colsample_bylevel=None,\n",
       "                                    colsample_bynode=None,\n",
       "                                    colsample_bytree=None, gamma=None,\n",
       "                                    gpu_id=None, importance_type='gain',\n",
       "                                    interaction_constraints=None,\n",
       "                                    learning_rate=None, max_delta_step=None,\n",
       "                                    max_depth=None, min_child_weight=None,\n",
       "                                    missing=nan, monotone_constraints=None,\n",
       "                                    n_estimators=100, n_jobs=...\n",
       "                                    num_parallel_tree=None, random_state=None,\n",
       "                                    reg_alpha=None, reg_lambda=None,\n",
       "                                    scale_pos_weight=None, subsample=None,\n",
       "                                    tree_method=None, validate_parameters=None,\n",
       "                                    verbosity=None),\n",
       "             n_jobs=-1,\n",
       "             param_grid={'colsample_bytree': [0.7], 'learning_rate': [0.03],\n",
       "                         'max_depth': [5], 'min_child_weight': [4],\n",
       "                         'n_estimators': [500], 'nthread': [4],\n",
       "                         'objective': ['reg:linear'], 'silent': [1],\n",
       "                         'subsample': [0.7]},\n",
       "             verbose=True)"
      ]
     },
     "execution_count": 36,
     "metadata": {},
     "output_type": "execute_result"
    }
   ],
   "source": [
    "xgb_grid = GridSearchCV(xgb1,\n",
    "                        params,\n",
    "                        cv = 7,\n",
    "                        n_jobs =-1,\n",
    "                        verbose=True)\n",
    "\n",
    "xgb_grid.fit(X_train,y_train)"
   ]
  },
  {
   "cell_type": "code",
   "execution_count": 37,
   "metadata": {},
   "outputs": [
    {
     "name": "stdout",
     "output_type": "stream",
     "text": [
      "0.664431857647658\n"
     ]
    }
   ],
   "source": [
    "print(xgb_grid.best_score_)"
   ]
  },
  {
   "cell_type": "code",
   "execution_count": 38,
   "metadata": {},
   "outputs": [
    {
     "data": {
      "text/plain": [
       "RandomForestRegressor()"
      ]
     },
     "execution_count": 38,
     "metadata": {},
     "output_type": "execute_result"
    }
   ],
   "source": [
    "from sklearn.ensemble import RandomForestRegressor\n",
    "reg_rf = RandomForestRegressor()\n",
    "reg_rf.fit(X_train, y_train)"
   ]
  },
  {
   "cell_type": "code",
   "execution_count": 39,
   "metadata": {},
   "outputs": [
    {
     "data": {
      "text/plain": [
       "0.9603193830348664"
      ]
     },
     "execution_count": 39,
     "metadata": {},
     "output_type": "execute_result"
    }
   ],
   "source": [
    "reg_rf.score(X_train, y_train)\n"
   ]
  },
  {
   "cell_type": "code",
   "execution_count": 40,
   "metadata": {},
   "outputs": [
    {
     "data": {
      "text/plain": [
       "0.7368787323517747"
      ]
     },
     "execution_count": 40,
     "metadata": {},
     "output_type": "execute_result"
    }
   ],
   "source": [
    "reg_rf.score(X_test,y_test)"
   ]
  },
  {
   "cell_type": "code",
   "execution_count": 41,
   "metadata": {},
   "outputs": [
    {
     "data": {
      "text/plain": [
       "0.7198854306648075"
      ]
     },
     "execution_count": 41,
     "metadata": {},
     "output_type": "execute_result"
    }
   ],
   "source": [
    "r2_score(y_test,y_pred)"
   ]
  },
  {
   "cell_type": "code",
   "execution_count": 42,
   "metadata": {},
   "outputs": [
    {
     "data": {
      "text/plain": [
       "<matplotlib.collections.PathCollection at 0x27beaf4dd30>"
      ]
     },
     "execution_count": 42,
     "metadata": {},
     "output_type": "execute_result"
    },
    {
     "data": {
      "image/png": "[encoded data removed]",
      "text/plain": [
       "<Figure size 576x396 with 1 Axes>"
      ]
     },
     "metadata": {},
     "output_type": "display_data"
    }
   ],
   "source": [
    "plt.scatter(y_test,y_pred)"
   ]
  },
  {
   "cell_type": "code",
   "execution_count": 43,
   "metadata": {},
   "outputs": [
    {
     "data": {
      "text/html": [
       "<table class=\"simpletable\">\n",
       "<caption>OLS Regression Results</caption>\n",
       "<tr>\n",
       "  <th>Dep. Variable:</th>          <td>price</td>      <th>  R-squared:         </th> <td>   0.851</td> \n",
       "</tr>\n",
       "<tr>\n",
       "  <th>Model:</th>                   <td>OLS</td>       <th>  Adj. R-squared:    </th> <td>   0.839</td> \n",
       "</tr>\n",
       "<tr>\n",
       "  <th>Method:</th>             <td>Least Squares</td>  <th>  F-statistic:       </th> <td>   75.18</td> \n",
       "</tr>\n",
       "<tr>\n",
       "  <th>Date:</th>             <td>Fri, 07 May 2021</td> <th>  Prob (F-statistic):</th>  <td>  0.00</td>  \n",
       "</tr>\n",
       "<tr>\n",
       "  <th>Time:</th>                 <td>21:53:59</td>     <th>  Log-Likelihood:    </th> <td> -43271.</td> \n",
       "</tr>\n",
       "<tr>\n",
       "  <th>No. Observations:</th>      <td>  2909</td>      <th>  AIC:               </th> <td>8.695e+04</td>\n",
       "</tr>\n",
       "<tr>\n",
       "  <th>Df Residuals:</th>          <td>  2703</td>      <th>  BIC:               </th> <td>8.819e+04</td>\n",
       "</tr>\n",
       "<tr>\n",
       "  <th>Df Model:</th>              <td>   205</td>      <th>                     </th>     <td> </td>    \n",
       "</tr>\n",
       "<tr>\n",
       "  <th>Covariance Type:</th>      <td>nonrobust</td>    <th>                     </th>     <td> </td>    \n",
       "</tr>\n",
       "</table>\n",
       "<table class=\"simpletable\">\n",
       "<tr>\n",
       "               <td></td>                  <th>coef</th>     <th>std err</th>      <th>t</th>      <th>P>|t|</th>  <th>[0.025</th>    <th>0.975]</th>  \n",
       "</tr>\n",
       "<tr>\n",
       "  <th>key_0</th>                       <td>   -9.8291</td> <td>   15.110</td> <td>   -0.651</td> <td> 0.515</td> <td>  -39.457</td> <td>   19.799</td>\n",
       "</tr>\n",
       "<tr>\n",
       "  <th>Car Age</th>                     <td>-1.356e+05</td> <td> 5891.409</td> <td>  -23.024</td> <td> 0.000</td> <td>-1.47e+05</td> <td>-1.24e+05</td>\n",
       "</tr>\n",
       "<tr>\n",
       "  <th>km</th>                          <td>   -3.4449</td> <td>    0.378</td> <td>   -9.113</td> <td> 0.000</td> <td>   -4.186</td> <td>   -2.704</td>\n",
       "</tr>\n",
       "<tr>\n",
       "  <th>Owner</th>                       <td>-4.721e+04</td> <td> 3.85e+04</td> <td>   -1.227</td> <td> 0.220</td> <td>-1.23e+05</td> <td> 2.82e+04</td>\n",
       "</tr>\n",
       "<tr>\n",
       "  <th>Company Name_Audi</th>           <td> 3.755e+06</td> <td> 1.68e+05</td> <td>   22.294</td> <td> 0.000</td> <td> 3.42e+06</td> <td> 4.08e+06</td>\n",
       "</tr>\n",
       "<tr>\n",
       "  <th>Company Name_BMW</th>            <td> 3.344e+06</td> <td> 1.94e+05</td> <td>   17.214</td> <td> 0.000</td> <td> 2.96e+06</td> <td> 3.72e+06</td>\n",
       "</tr>\n",
       "<tr>\n",
       "  <th>Company Name_Bentley</th>        <td> 5.973e+06</td> <td> 2.35e+05</td> <td>   25.395</td> <td> 0.000</td> <td> 5.51e+06</td> <td> 6.43e+06</td>\n",
       "</tr>\n",
       "<tr>\n",
       "  <th>Company Name_Chevrolet</th>      <td> 1.552e+06</td> <td> 2.36e+05</td> <td>    6.565</td> <td> 0.000</td> <td> 1.09e+06</td> <td> 2.02e+06</td>\n",
       "</tr>\n",
       "<tr>\n",
       "  <th>Company Name_Datsun</th>         <td> 6.172e+05</td> <td> 1.77e+05</td> <td>    3.485</td> <td> 0.000</td> <td>  2.7e+05</td> <td> 9.64e+05</td>\n",
       "</tr>\n",
       "<tr>\n",
       "  <th>Company Name_Fiat</th>           <td> 6.814e+05</td> <td> 1.44e+05</td> <td>    4.719</td> <td> 0.000</td> <td> 3.98e+05</td> <td> 9.65e+05</td>\n",
       "</tr>\n",
       "<tr>\n",
       "  <th>Company Name_Force</th>          <td>-4.157e-09</td> <td> 1.72e-09</td> <td>   -2.423</td> <td> 0.015</td> <td>-7.52e-09</td> <td>-7.94e-10</td>\n",
       "</tr>\n",
       "<tr>\n",
       "  <th>Company Name_Ford</th>           <td> 1.512e+06</td> <td> 1.95e+05</td> <td>    7.735</td> <td> 0.000</td> <td> 1.13e+06</td> <td>  1.9e+06</td>\n",
       "</tr>\n",
       "<tr>\n",
       "  <th>Company Name_Honda</th>          <td> 1.492e+06</td> <td> 1.48e+05</td> <td>   10.086</td> <td> 0.000</td> <td>  1.2e+06</td> <td> 1.78e+06</td>\n",
       "</tr>\n",
       "<tr>\n",
       "  <th>Company Name_Hummer</th>         <td>  6.88e+06</td> <td> 3.71e+05</td> <td>   18.526</td> <td> 0.000</td> <td> 6.15e+06</td> <td> 7.61e+06</td>\n",
       "</tr>\n",
       "<tr>\n",
       "  <th>Company Name_Hyundai</th>        <td> 1.569e+06</td> <td> 1.62e+05</td> <td>    9.681</td> <td> 0.000</td> <td> 1.25e+06</td> <td> 1.89e+06</td>\n",
       "</tr>\n",
       "<tr>\n",
       "  <th>Company Name_Isuzu</th>          <td> 1.218e+06</td> <td> 3.71e+05</td> <td>    3.278</td> <td> 0.001</td> <td> 4.89e+05</td> <td> 1.95e+06</td>\n",
       "</tr>\n",
       "<tr>\n",
       "  <th>Company Name_Jaguar</th>         <td> 5.838e+06</td> <td> 2.05e+05</td> <td>   28.503</td> <td> 0.000</td> <td> 5.44e+06</td> <td> 6.24e+06</td>\n",
       "</tr>\n",
       "<tr>\n",
       "  <th>Company Name_Jeep</th>           <td> 2.491e+06</td> <td> 2.69e+05</td> <td>    9.244</td> <td> 0.000</td> <td> 1.96e+06</td> <td> 3.02e+06</td>\n",
       "</tr>\n",
       "<tr>\n",
       "  <th>Company Name_Kia</th>            <td> 1.707e+06</td> <td> 1.95e+05</td> <td>    8.740</td> <td> 0.000</td> <td> 1.32e+06</td> <td> 2.09e+06</td>\n",
       "</tr>\n",
       "<tr>\n",
       "  <th>Company Name_Lamborghini</th>    <td>   1.7e+07</td> <td> 3.61e+05</td> <td>   47.039</td> <td> 0.000</td> <td> 1.63e+07</td> <td> 1.77e+07</td>\n",
       "</tr>\n",
       "<tr>\n",
       "  <th>Company Name_Land</th>           <td> 2.662e+06</td> <td> 9.72e+04</td> <td>   27.378</td> <td> 0.000</td> <td> 2.47e+06</td> <td> 2.85e+06</td>\n",
       "</tr>\n",
       "<tr>\n",
       "  <th>Company Name_Lexus</th>          <td>  3.33e+06</td> <td> 3.58e+05</td> <td>    9.310</td> <td> 0.000</td> <td> 2.63e+06</td> <td> 4.03e+06</td>\n",
       "</tr>\n",
       "<tr>\n",
       "  <th>Company Name_MG</th>             <td> 2.344e+06</td> <td> 1.66e+05</td> <td>   14.090</td> <td> 0.000</td> <td> 2.02e+06</td> <td> 2.67e+06</td>\n",
       "</tr>\n",
       "<tr>\n",
       "  <th>Company Name_Mahindra</th>       <td> 1.488e+06</td> <td> 1.79e+05</td> <td>    8.315</td> <td> 0.000</td> <td> 1.14e+06</td> <td> 1.84e+06</td>\n",
       "</tr>\n",
       "<tr>\n",
       "  <th>Company Name_Maruti</th>         <td> 6.893e+05</td> <td> 7.42e+04</td> <td>    9.290</td> <td> 0.000</td> <td> 5.44e+05</td> <td> 8.35e+05</td>\n",
       "</tr>\n",
       "<tr>\n",
       "  <th>Company Name_Maserati</th>       <td> 3.168e+06</td> <td> 3.71e+05</td> <td>    8.547</td> <td> 0.000</td> <td> 2.44e+06</td> <td>  3.9e+06</td>\n",
       "</tr>\n",
       "<tr>\n",
       "  <th>Company Name_Mercedes-Benz</th>  <td> 4.406e+06</td> <td> 1.71e+05</td> <td>   25.712</td> <td> 0.000</td> <td> 4.07e+06</td> <td> 4.74e+06</td>\n",
       "</tr>\n",
       "<tr>\n",
       "  <th>Company Name_Mini</th>           <td> 2.346e+06</td> <td> 2.62e+05</td> <td>    8.959</td> <td> 0.000</td> <td> 1.83e+06</td> <td> 2.86e+06</td>\n",
       "</tr>\n",
       "<tr>\n",
       "  <th>Company Name_Mitsubishi</th>     <td> 2.091e+06</td> <td> 2.95e+05</td> <td>    7.081</td> <td> 0.000</td> <td> 1.51e+06</td> <td> 2.67e+06</td>\n",
       "</tr>\n",
       "<tr>\n",
       "  <th>Company Name_Nissan</th>         <td> 1.209e+06</td> <td> 2.16e+05</td> <td>    5.604</td> <td> 0.000</td> <td> 7.86e+05</td> <td> 1.63e+06</td>\n",
       "</tr>\n",
       "<tr>\n",
       "  <th>Company Name_Porsche</th>        <td> 7.408e+06</td> <td> 1.99e+05</td> <td>   37.147</td> <td> 0.000</td> <td> 7.02e+06</td> <td>  7.8e+06</td>\n",
       "</tr>\n",
       "<tr>\n",
       "  <th>Company Name_Renault</th>        <td> 1.227e+06</td> <td> 2.26e+05</td> <td>    5.423</td> <td> 0.000</td> <td> 7.84e+05</td> <td> 1.67e+06</td>\n",
       "</tr>\n",
       "<tr>\n",
       "  <th>Company Name_Skoda</th>          <td> 1.899e+06</td> <td> 1.81e+05</td> <td>   10.490</td> <td> 0.000</td> <td> 1.54e+06</td> <td> 2.25e+06</td>\n",
       "</tr>\n",
       "<tr>\n",
       "  <th>Company Name_Ssangyong</th>      <td> 8.861e+05</td> <td> 2.25e+05</td> <td>    3.937</td> <td> 0.000</td> <td> 4.45e+05</td> <td> 1.33e+06</td>\n",
       "</tr>\n",
       "<tr>\n",
       "  <th>Company Name_Tata</th>           <td> 1.317e+06</td> <td> 1.68e+05</td> <td>    7.839</td> <td> 0.000</td> <td> 9.87e+05</td> <td> 1.65e+06</td>\n",
       "</tr>\n",
       "<tr>\n",
       "  <th>Company Name_Toyota</th>         <td> 3.489e+06</td> <td> 1.74e+05</td> <td>   20.108</td> <td> 0.000</td> <td> 3.15e+06</td> <td> 3.83e+06</td>\n",
       "</tr>\n",
       "<tr>\n",
       "  <th>Company Name_Volkswagen</th>     <td> 1.758e+06</td> <td> 1.55e+05</td> <td>   11.318</td> <td> 0.000</td> <td> 1.45e+06</td> <td> 2.06e+06</td>\n",
       "</tr>\n",
       "<tr>\n",
       "  <th>Company Name_Volvo</th>          <td> 3.214e+06</td> <td> 2.13e+05</td> <td>   15.068</td> <td> 0.000</td> <td>  2.8e+06</td> <td> 3.63e+06</td>\n",
       "</tr>\n",
       "<tr>\n",
       "  <th>location_Bangalore</th>          <td> 1.637e+05</td> <td> 8.14e+04</td> <td>    2.012</td> <td> 0.044</td> <td> 4182.600</td> <td> 3.23e+05</td>\n",
       "</tr>\n",
       "<tr>\n",
       "  <th>location_Bhopal</th>             <td> 1.426e+05</td> <td> 1.22e+05</td> <td>    1.166</td> <td> 0.244</td> <td>-9.72e+04</td> <td> 3.82e+05</td>\n",
       "</tr>\n",
       "<tr>\n",
       "  <th>location_Chennai</th>            <td> 4.598e+04</td> <td> 8.74e+04</td> <td>    0.526</td> <td> 0.599</td> <td>-1.25e+05</td> <td> 2.17e+05</td>\n",
       "</tr>\n",
       "<tr>\n",
       "  <th>location_Coimbatore</th>         <td>  2.41e+05</td> <td> 1.05e+05</td> <td>    2.295</td> <td> 0.022</td> <td> 3.51e+04</td> <td> 4.47e+05</td>\n",
       "</tr>\n",
       "<tr>\n",
       "  <th>location_Delhi</th>              <td>-1.563e+04</td> <td>  7.8e+04</td> <td>   -0.200</td> <td> 0.841</td> <td>-1.69e+05</td> <td> 1.37e+05</td>\n",
       "</tr>\n",
       "<tr>\n",
       "  <th>location_Hyderabad</th>          <td> 1.234e+05</td> <td> 8.02e+04</td> <td>    1.539</td> <td> 0.124</td> <td>-3.39e+04</td> <td> 2.81e+05</td>\n",
       "</tr>\n",
       "<tr>\n",
       "  <th>location_Jaipur</th>             <td>-1.167e+05</td> <td> 1.24e+05</td> <td>   -0.943</td> <td> 0.346</td> <td>-3.59e+05</td> <td> 1.26e+05</td>\n",
       "</tr>\n",
       "<tr>\n",
       "  <th>location_Kolkata</th>            <td> -1.21e+05</td> <td>    1e+05</td> <td>   -1.206</td> <td> 0.228</td> <td>-3.18e+05</td> <td> 7.57e+04</td>\n",
       "</tr>\n",
       "<tr>\n",
       "  <th>location_Mumbai</th>             <td>-4.123e+04</td> <td> 7.49e+04</td> <td>   -0.550</td> <td> 0.582</td> <td>-1.88e+05</td> <td> 1.06e+05</td>\n",
       "</tr>\n",
       "<tr>\n",
       "  <th>location_Nagpur</th>             <td> 8.792e+04</td> <td> 1.13e+05</td> <td>    0.781</td> <td> 0.435</td> <td>-1.33e+05</td> <td> 3.09e+05</td>\n",
       "</tr>\n",
       "<tr>\n",
       "  <th>location_Navi Mumbai</th>        <td>-2.733e+04</td> <td> 1.36e+05</td> <td>   -0.200</td> <td> 0.841</td> <td>-2.95e+05</td> <td>  2.4e+05</td>\n",
       "</tr>\n",
       "<tr>\n",
       "  <th>location_Pune</th>               <td> 2.327e+05</td> <td> 8.59e+04</td> <td>    2.711</td> <td> 0.007</td> <td> 6.44e+04</td> <td> 4.01e+05</td>\n",
       "</tr>\n",
       "<tr>\n",
       "  <th>location_Thane</th>              <td> 8.032e+04</td> <td> 1.01e+05</td> <td>    0.797</td> <td> 0.425</td> <td>-1.17e+05</td> <td> 2.78e+05</td>\n",
       "</tr>\n",
       "<tr>\n",
       "  <th>location_Thiruvananthapuram</th> <td> 1.849e+05</td> <td> 1.55e+05</td> <td>    1.196</td> <td> 0.232</td> <td>-1.18e+05</td> <td> 4.88e+05</td>\n",
       "</tr>\n",
       "<tr>\n",
       "  <th>Model_5</th>                     <td> 6.134e+05</td> <td> 1.76e+05</td> <td>    3.493</td> <td> 0.000</td> <td> 2.69e+05</td> <td> 9.58e+05</td>\n",
       "</tr>\n",
       "<tr>\n",
       "  <th>Model_6</th>                     <td> 1.986e+06</td> <td>  3.8e+05</td> <td>    5.220</td> <td> 0.000</td> <td> 1.24e+06</td> <td> 2.73e+06</td>\n",
       "</tr>\n",
       "<tr>\n",
       "  <th>Model_7</th>                     <td> 2.597e+06</td> <td> 2.68e+05</td> <td>    9.679</td> <td> 0.000</td> <td> 2.07e+06</td> <td> 3.12e+06</td>\n",
       "</tr>\n",
       "<tr>\n",
       "  <th>Model_718</th>                   <td> 4.001e+05</td> <td> 3.84e+05</td> <td>    1.041</td> <td> 0.298</td> <td>-3.53e+05</td> <td> 1.15e+06</td>\n",
       "</tr>\n",
       "<tr>\n",
       "  <th>Model_911</th>                   <td> 5.678e+06</td> <td> 3.85e+05</td> <td>   14.753</td> <td> 0.000</td> <td> 4.92e+06</td> <td> 6.43e+06</td>\n",
       "</tr>\n",
       "<tr>\n",
       "  <th>Model_A-Class</th>               <td>-1.893e+06</td> <td> 4.03e+05</td> <td>   -4.701</td> <td> 0.000</td> <td>-2.68e+06</td> <td> -1.1e+06</td>\n",
       "</tr>\n",
       "<tr>\n",
       "  <th>Model_A3</th>                    <td>-7.224e+05</td> <td> 2.28e+05</td> <td>   -3.171</td> <td> 0.002</td> <td>-1.17e+06</td> <td>-2.76e+05</td>\n",
       "</tr>\n",
       "<tr>\n",
       "  <th>Model_A4</th>                    <td>-1.096e+06</td> <td> 1.94e+05</td> <td>   -5.651</td> <td> 0.000</td> <td>-1.48e+06</td> <td>-7.16e+05</td>\n",
       "</tr>\n",
       "<tr>\n",
       "  <th>Model_A5</th>                    <td>  9.19e+05</td> <td> 3.41e+05</td> <td>    2.691</td> <td> 0.007</td> <td> 2.49e+05</td> <td> 1.59e+06</td>\n",
       "</tr>\n",
       "<tr>\n",
       "  <th>Model_A6</th>                    <td>-5.411e+05</td> <td> 1.69e+05</td> <td>   -3.207</td> <td> 0.001</td> <td>-8.72e+05</td> <td> -2.1e+05</td>\n",
       "</tr>\n",
       "<tr>\n",
       "  <th>Model_A8</th>                    <td> 1.016e+06</td> <td> 4.76e+05</td> <td>    2.133</td> <td> 0.033</td> <td>  8.2e+04</td> <td> 1.95e+06</td>\n",
       "</tr>\n",
       "<tr>\n",
       "  <th>Model_Accord</th>                <td> 6.172e+05</td> <td> 1.93e+05</td> <td>    3.191</td> <td> 0.001</td> <td> 2.38e+05</td> <td> 9.96e+05</td>\n",
       "</tr>\n",
       "<tr>\n",
       "  <th>Model_Alphard</th>               <td> 1.325e+06</td> <td> 3.91e+05</td> <td>    3.386</td> <td> 0.001</td> <td> 5.58e+05</td> <td> 2.09e+06</td>\n",
       "</tr>\n",
       "<tr>\n",
       "  <th>Model_Altroz</th>                <td>-5.471e+05</td> <td> 4.04e+05</td> <td>   -1.356</td> <td> 0.175</td> <td>-1.34e+06</td> <td> 2.44e+05</td>\n",
       "</tr>\n",
       "<tr>\n",
       "  <th>Model_Alturas</th>               <td> 1.695e+06</td> <td> 6.79e+05</td> <td>    2.494</td> <td> 0.013</td> <td> 3.63e+05</td> <td> 3.03e+06</td>\n",
       "</tr>\n",
       "<tr>\n",
       "  <th>Model_Amaze</th>                 <td>-2.304e+05</td> <td> 1.05e+05</td> <td>   -2.204</td> <td> 0.028</td> <td>-4.35e+05</td> <td>-2.54e+04</td>\n",
       "</tr>\n",
       "<tr>\n",
       "  <th>Model_Ameo</th>                  <td> -6.76e+05</td> <td> 1.68e+05</td> <td>   -4.032</td> <td> 0.000</td> <td>   -1e+06</td> <td>-3.47e+05</td>\n",
       "</tr>\n",
       "<tr>\n",
       "  <th>Model_Aria</th>                  <td> 4.118e+05</td> <td> 4.88e+05</td> <td>    0.844</td> <td> 0.399</td> <td>-5.45e+05</td> <td> 1.37e+06</td>\n",
       "</tr>\n",
       "<tr>\n",
       "  <th>Model_Arnage</th>                <td> 1.956e+05</td> <td> 3.67e+05</td> <td>    0.533</td> <td> 0.594</td> <td>-5.24e+05</td> <td> 9.15e+05</td>\n",
       "</tr>\n",
       "<tr>\n",
       "  <th>Model_Aspire</th>                <td>-3.888e+05</td> <td>  3.1e+05</td> <td>   -1.254</td> <td> 0.210</td> <td>-9.97e+05</td> <td> 2.19e+05</td>\n",
       "</tr>\n",
       "<tr>\n",
       "  <th>Model_Aventador</th>             <td> 1.148e+07</td> <td> 5.43e+05</td> <td>   21.140</td> <td> 0.000</td> <td> 1.04e+07</td> <td> 1.25e+07</td>\n",
       "</tr>\n",
       "<tr>\n",
       "  <th>Model_B-Class</th>               <td> -2.06e+06</td> <td> 3.51e+05</td> <td>   -5.877</td> <td> 0.000</td> <td>-2.75e+06</td> <td>-1.37e+06</td>\n",
       "</tr>\n",
       "<tr>\n",
       "  <th>Model_BR-V</th>                  <td> 5147.8915</td> <td> 2.75e+05</td> <td>    0.019</td> <td> 0.985</td> <td>-5.34e+05</td> <td> 5.44e+05</td>\n",
       "</tr>\n",
       "<tr>\n",
       "  <th>Model_Beat</th>                  <td>-3.333e+05</td> <td> 3.69e+05</td> <td>   -0.903</td> <td> 0.367</td> <td>-1.06e+06</td> <td> 3.91e+05</td>\n",
       "</tr>\n",
       "<tr>\n",
       "  <th>Model_Beetle</th>                <td> 1.117e+06</td> <td>  3.8e+05</td> <td>    2.941</td> <td> 0.003</td> <td> 3.72e+05</td> <td> 1.86e+06</td>\n",
       "</tr>\n",
       "<tr>\n",
       "  <th>Model_Bolero</th>                <td> 1.588e+04</td> <td> 2.78e+05</td> <td>    0.057</td> <td> 0.954</td> <td> -5.3e+05</td> <td> 5.61e+05</td>\n",
       "</tr>\n",
       "<tr>\n",
       "  <th>Model_Bolt</th>                  <td>-1.923e+05</td> <td> 4.91e+05</td> <td>   -0.392</td> <td> 0.695</td> <td>-1.16e+06</td> <td> 7.71e+05</td>\n",
       "</tr>\n",
       "<tr>\n",
       "  <th>Model_Boxster</th>               <td> 6.713e+05</td> <td>  4.6e+05</td> <td>    1.461</td> <td> 0.144</td> <td> -2.3e+05</td> <td> 1.57e+06</td>\n",
       "</tr>\n",
       "<tr>\n",
       "  <th>Model_Brio</th>                  <td>-7.068e+04</td> <td> 1.45e+05</td> <td>   -0.488</td> <td> 0.625</td> <td>-3.54e+05</td> <td> 2.13e+05</td>\n",
       "</tr>\n",
       "<tr>\n",
       "  <th>Model_C-Class</th>               <td>-1.181e+06</td> <td> 1.43e+05</td> <td>   -8.273</td> <td> 0.000</td> <td>-1.46e+06</td> <td>-9.01e+05</td>\n",
       "</tr>\n",
       "<tr>\n",
       "  <th>Model_C-Coupe</th>               <td> 3.137e-09</td> <td> 7.16e-10</td> <td>    4.380</td> <td> 0.000</td> <td> 1.73e-09</td> <td> 4.54e-09</td>\n",
       "</tr>\n",
       "<tr>\n",
       "  <th>Model_CLA</th>                   <td>-1.372e+06</td> <td> 2.33e+05</td> <td>   -5.891</td> <td> 0.000</td> <td>-1.83e+06</td> <td>-9.15e+05</td>\n",
       "</tr>\n",
       "<tr>\n",
       "  <th>Model_CLS</th>                   <td>  2.33e+05</td> <td> 4.02e+05</td> <td>    0.580</td> <td> 0.562</td> <td>-5.55e+05</td> <td> 1.02e+06</td>\n",
       "</tr>\n",
       "<tr>\n",
       "  <th>Model_CR-V</th>                  <td> 9.012e+05</td> <td> 2.17e+05</td> <td>    4.153</td> <td> 0.000</td> <td> 4.76e+05</td> <td> 1.33e+06</td>\n",
       "</tr>\n",
       "<tr>\n",
       "  <th>Model_Camry</th>                 <td>-8.014e+05</td> <td> 2.15e+05</td> <td>   -3.723</td> <td> 0.000</td> <td>-1.22e+06</td> <td>-3.79e+05</td>\n",
       "</tr>\n",
       "<tr>\n",
       "  <th>Model_Captiva</th>               <td> 9.578e+05</td> <td> 4.85e+05</td> <td>    1.973</td> <td> 0.049</td> <td> 6127.275</td> <td> 1.91e+06</td>\n",
       "</tr>\n",
       "<tr>\n",
       "  <th>Model_Captur</th>                <td> 1.301e+05</td> <td> 6.65e+05</td> <td>    0.196</td> <td> 0.845</td> <td>-1.17e+06</td> <td> 1.43e+06</td>\n",
       "</tr>\n",
       "<tr>\n",
       "  <th>Model_Carnival</th>              <td> 1.641e+06</td> <td> 2.99e+05</td> <td>    5.488</td> <td> 0.000</td> <td> 1.05e+06</td> <td> 2.23e+06</td>\n",
       "</tr>\n",
       "<tr>\n",
       "  <th>Model_Cayenne</th>               <td>-1.854e+06</td> <td> 2.46e+05</td> <td>   -7.552</td> <td> 0.000</td> <td>-2.34e+06</td> <td>-1.37e+06</td>\n",
       "</tr>\n",
       "<tr>\n",
       "  <th>Model_City</th>                  <td> 1.847e+05</td> <td> 8.41e+04</td> <td>    2.197</td> <td> 0.028</td> <td> 1.99e+04</td> <td>  3.5e+05</td>\n",
       "</tr>\n",
       "<tr>\n",
       "  <th>Model_Civic</th>                 <td> 5.907e+05</td> <td> 1.67e+05</td> <td>    3.530</td> <td> 0.000</td> <td> 2.63e+05</td> <td> 9.19e+05</td>\n",
       "</tr>\n",
       "<tr>\n",
       "  <th>Model_Classic</th>               <td> 4.115e-10</td> <td> 6.91e-10</td> <td>    0.596</td> <td> 0.552</td> <td>-9.43e-10</td> <td> 1.77e-09</td>\n",
       "</tr>\n",
       "<tr>\n",
       "  <th>Model_Clubman</th>               <td> 6.843e+05</td> <td> 5.65e+05</td> <td>    1.211</td> <td> 0.226</td> <td>-4.24e+05</td> <td> 1.79e+06</td>\n",
       "</tr>\n",
       "<tr>\n",
       "  <th>Model_Commuter</th>              <td> 2.963e+06</td> <td> 6.58e+05</td> <td>    4.503</td> <td> 0.000</td> <td> 1.67e+06</td> <td> 4.25e+06</td>\n",
       "</tr>\n",
       "<tr>\n",
       "  <th>Model_Compass</th>               <td>-4.357e+05</td> <td> 2.72e+05</td> <td>   -1.604</td> <td> 0.109</td> <td>-9.68e+05</td> <td>  9.7e+04</td>\n",
       "</tr>\n",
       "<tr>\n",
       "  <th>Model_Continental</th>           <td> 5.778e+06</td> <td> 3.02e+05</td> <td>   19.144</td> <td> 0.000</td> <td> 5.19e+06</td> <td> 6.37e+06</td>\n",
       "</tr>\n",
       "<tr>\n",
       "  <th>Model_Cooper</th>                <td> 7.557e+05</td> <td> 3.17e+05</td> <td>    2.386</td> <td> 0.017</td> <td> 1.35e+05</td> <td> 1.38e+06</td>\n",
       "</tr>\n",
       "<tr>\n",
       "  <th>Model_Corolla</th>               <td>-1.433e+06</td> <td> 1.64e+05</td> <td>   -8.748</td> <td> 0.000</td> <td>-1.75e+06</td> <td>-1.11e+06</td>\n",
       "</tr>\n",
       "<tr>\n",
       "  <th>Model_Countryman</th>            <td> 9.062e+05</td> <td> 4.33e+05</td> <td>    2.093</td> <td> 0.036</td> <td> 5.71e+04</td> <td> 1.76e+06</td>\n",
       "</tr>\n",
       "<tr>\n",
       "  <th>Model_Creta</th>                 <td> 1.156e+05</td> <td> 1.21e+05</td> <td>    0.953</td> <td> 0.341</td> <td>-1.22e+05</td> <td> 3.54e+05</td>\n",
       "</tr>\n",
       "<tr>\n",
       "  <th>Model_Cross</th>                 <td> -4.14e+05</td> <td> 2.55e+05</td> <td>   -1.623</td> <td> 0.105</td> <td>-9.14e+05</td> <td> 8.63e+04</td>\n",
       "</tr>\n",
       "<tr>\n",
       "  <th>Model_Cruze</th>                 <td>  1.04e+05</td> <td> 3.41e+05</td> <td>    0.305</td> <td> 0.761</td> <td>-5.65e+05</td> <td> 7.73e+05</td>\n",
       "</tr>\n",
       "<tr>\n",
       "  <th>Model_Duster</th>                <td> 3.032e+05</td> <td> 2.21e+05</td> <td>    1.371</td> <td> 0.170</td> <td> -1.3e+05</td> <td> 7.37e+05</td>\n",
       "</tr>\n",
       "<tr>\n",
       "  <th>Model_E-Class</th>               <td>-5.428e+05</td> <td> 1.33e+05</td> <td>   -4.068</td> <td> 0.000</td> <td>-8.04e+05</td> <td>-2.81e+05</td>\n",
       "</tr>\n",
       "<tr>\n",
       "  <th>Model_EcoSport</th>              <td>-4.558e+04</td> <td> 1.76e+05</td> <td>   -0.259</td> <td> 0.796</td> <td>-3.91e+05</td> <td>    3e+05</td>\n",
       "</tr>\n",
       "<tr>\n",
       "  <th>Model_Elantra</th>               <td> 1.855e+05</td> <td> 2.21e+05</td> <td>    0.840</td> <td> 0.401</td> <td>-2.47e+05</td> <td> 6.18e+05</td>\n",
       "</tr>\n",
       "<tr>\n",
       "  <th>Model_Elite</th>                 <td>-3.339e+05</td> <td> 1.15e+05</td> <td>   -2.907</td> <td> 0.004</td> <td>-5.59e+05</td> <td>-1.09e+05</td>\n",
       "</tr>\n",
       "<tr>\n",
       "  <th>Model_Endeavour</th>             <td> 1.804e+06</td> <td> 2.01e+05</td> <td>    8.973</td> <td> 0.000</td> <td> 1.41e+06</td> <td>  2.2e+06</td>\n",
       "</tr>\n",
       "<tr>\n",
       "  <th>Model_Enjoy</th>                 <td>   4.9e+04</td> <td> 6.57e+05</td> <td>    0.075</td> <td> 0.941</td> <td>-1.24e+06</td> <td> 1.34e+06</td>\n",
       "</tr>\n",
       "<tr>\n",
       "  <th>Model_Eon</th>                   <td>-6.182e+05</td> <td> 1.78e+05</td> <td>   -3.471</td> <td> 0.001</td> <td>-9.67e+05</td> <td>-2.69e+05</td>\n",
       "</tr>\n",
       "<tr>\n",
       "  <th>Model_Etios</th>                 <td> -1.91e+06</td> <td> 1.51e+05</td> <td>  -12.623</td> <td> 0.000</td> <td>-2.21e+06</td> <td>-1.61e+06</td>\n",
       "</tr>\n",
       "<tr>\n",
       "  <th>Model_F-Pace</th>                <td>-3.729e+05</td> <td> 3.37e+05</td> <td>   -1.106</td> <td> 0.269</td> <td>-1.03e+06</td> <td> 2.88e+05</td>\n",
       "</tr>\n",
       "<tr>\n",
       "  <th>Model_F-Type</th>                <td> 1.115e+07</td> <td> 6.14e+05</td> <td>   18.159</td> <td> 0.000</td> <td> 9.94e+06</td> <td> 1.24e+07</td>\n",
       "</tr>\n",
       "<tr>\n",
       "  <th>Model_Fiesta</th>                <td>-1.404e+05</td> <td> 4.59e+05</td> <td>   -0.306</td> <td> 0.760</td> <td>-1.04e+06</td> <td>  7.6e+05</td>\n",
       "</tr>\n",
       "<tr>\n",
       "  <th>Model_Figo</th>                  <td>-4.221e+04</td> <td> 2.28e+05</td> <td>   -0.185</td> <td> 0.853</td> <td> -4.9e+05</td> <td> 4.06e+05</td>\n",
       "</tr>\n",
       "<tr>\n",
       "  <th>Model_Fluence</th>               <td> 4.837e+05</td> <td> 4.88e+05</td> <td>    0.992</td> <td> 0.321</td> <td>-4.73e+05</td> <td> 1.44e+06</td>\n",
       "</tr>\n",
       "<tr>\n",
       "  <th>Model_Fluidic</th>               <td> 1.564e-09</td> <td> 5.66e-10</td> <td>    2.763</td> <td> 0.006</td> <td> 4.54e-10</td> <td> 2.67e-09</td>\n",
       "</tr>\n",
       "<tr>\n",
       "  <th>Model_Fortuner</th>              <td>-3.413e+05</td> <td> 1.37e+05</td> <td>   -2.500</td> <td> 0.012</td> <td>-6.09e+05</td> <td>-7.36e+04</td>\n",
       "</tr>\n",
       "<tr>\n",
       "  <th>Model_G-Class</th>               <td>  3.95e+06</td> <td> 6.84e+05</td> <td>    5.773</td> <td> 0.000</td> <td> 2.61e+06</td> <td> 5.29e+06</td>\n",
       "</tr>\n",
       "<tr>\n",
       "  <th>Model_GL</th>                    <td> 1.495e+05</td> <td> 2.33e+05</td> <td>    0.642</td> <td> 0.521</td> <td>-3.07e+05</td> <td> 6.06e+05</td>\n",
       "</tr>\n",
       "<tr>\n",
       "  <th>Model_GLA</th>                   <td>-1.396e+06</td> <td> 1.79e+05</td> <td>   -7.802</td> <td> 0.000</td> <td>-1.75e+06</td> <td>-1.04e+06</td>\n",
       "</tr>\n",
       "<tr>\n",
       "  <th>Model_GLC</th>                   <td> 5.314e+05</td> <td> 1.97e+05</td> <td>    2.699</td> <td> 0.007</td> <td> 1.45e+05</td> <td> 9.18e+05</td>\n",
       "</tr>\n",
       "<tr>\n",
       "  <th>Model_GLE</th>                   <td> 1.883e+06</td> <td> 1.83e+05</td> <td>   10.305</td> <td> 0.000</td> <td> 1.52e+06</td> <td> 2.24e+06</td>\n",
       "</tr>\n",
       "<tr>\n",
       "  <th>Model_GLS</th>                   <td> 3.058e+06</td> <td> 2.33e+05</td> <td>   13.146</td> <td> 0.000</td> <td>  2.6e+06</td> <td> 3.51e+06</td>\n",
       "</tr>\n",
       "<tr>\n",
       "  <th>Model_GO</th>                    <td>  4.61e+05</td> <td> 2.41e+05</td> <td>    1.910</td> <td> 0.056</td> <td>-1.22e+04</td> <td> 9.34e+05</td>\n",
       "</tr>\n",
       "<tr>\n",
       "  <th>Model_GTI</th>                   <td>-1.118e-09</td> <td> 5.64e-10</td> <td>   -1.984</td> <td> 0.047</td> <td>-2.22e-09</td> <td>-1.32e-11</td>\n",
       "</tr>\n",
       "<tr>\n",
       "  <th>Model_Gallardo</th>              <td> 4.082e-09</td> <td> 5.56e-10</td> <td>    7.346</td> <td> 0.000</td> <td> 2.99e-09</td> <td> 5.17e-09</td>\n",
       "</tr>\n",
       "<tr>\n",
       "  <th>Model_Getz</th>                  <td> 6.273e+05</td> <td> 6.92e+05</td> <td>    0.906</td> <td> 0.365</td> <td> -7.3e+05</td> <td> 1.98e+06</td>\n",
       "</tr>\n",
       "<tr>\n",
       "  <th>Model_Ghibli</th>                <td> 3.168e+06</td> <td> 3.71e+05</td> <td>    8.547</td> <td> 0.000</td> <td> 2.44e+06</td> <td>  3.9e+06</td>\n",
       "</tr>\n",
       "<tr>\n",
       "  <th>Model_Grand</th>                 <td>-4.418e+05</td> <td> 1.11e+05</td> <td>   -3.991</td> <td> 0.000</td> <td>-6.59e+05</td> <td>-2.25e+05</td>\n",
       "</tr>\n",
       "<tr>\n",
       "  <th>Model_H2</th>                    <td>  6.88e+06</td> <td> 3.71e+05</td> <td>   18.526</td> <td> 0.000</td> <td> 6.15e+06</td> <td> 7.61e+06</td>\n",
       "</tr>\n",
       "<tr>\n",
       "  <th>Model_Harrier</th>               <td> 5.842e+05</td> <td> 2.45e+05</td> <td>    2.385</td> <td> 0.017</td> <td> 1.04e+05</td> <td> 1.06e+06</td>\n",
       "</tr>\n",
       "<tr>\n",
       "  <th>Model_Hector</th>                <td> 2.344e+06</td> <td> 1.66e+05</td> <td>   14.090</td> <td> 0.000</td> <td> 2.02e+06</td> <td> 2.67e+06</td>\n",
       "</tr>\n",
       "<tr>\n",
       "  <th>Model_Hexa</th>                  <td> 5.274e+05</td> <td> 2.03e+05</td> <td>    2.599</td> <td> 0.009</td> <td>  1.3e+05</td> <td> 9.25e+05</td>\n",
       "</tr>\n",
       "<tr>\n",
       "  <th>Model_Huracan</th>               <td> 5.521e+06</td> <td> 5.44e+05</td> <td>   10.147</td> <td> 0.000</td> <td> 4.45e+06</td> <td> 6.59e+06</td>\n",
       "</tr>\n",
       "<tr>\n",
       "  <th>Model_Ikon</th>                  <td> 3.249e+05</td> <td>  6.3e+05</td> <td>    0.516</td> <td> 0.606</td> <td>-9.11e+05</td> <td> 1.56e+06</td>\n",
       "</tr>\n",
       "<tr>\n",
       "  <th>Model_Indica</th>                <td> 3.186e+05</td> <td> 2.45e+05</td> <td>    1.300</td> <td> 0.194</td> <td>-1.62e+05</td> <td> 7.99e+05</td>\n",
       "</tr>\n",
       "<tr>\n",
       "  <th>Model_Indigo</th>                <td> 1.463e+05</td> <td> 3.18e+05</td> <td>    0.460</td> <td> 0.646</td> <td>-4.78e+05</td> <td>  7.7e+05</td>\n",
       "</tr>\n",
       "<tr>\n",
       "  <th>Model_Innova</th>                <td>-1.061e+06</td> <td> 1.19e+05</td> <td>   -8.892</td> <td> 0.000</td> <td> -1.3e+06</td> <td>-8.27e+05</td>\n",
       "</tr>\n",
       "<tr>\n",
       "  <th>Model_Jazz</th>                  <td> -1.95e+05</td> <td>  1.3e+05</td> <td>   -1.494</td> <td> 0.135</td> <td>-4.51e+05</td> <td> 6.09e+04</td>\n",
       "</tr>\n",
       "<tr>\n",
       "  <th>Model_Jetta</th>                 <td> 1.362e+05</td> <td>  2.1e+05</td> <td>    0.649</td> <td> 0.516</td> <td>-2.75e+05</td> <td> 5.47e+05</td>\n",
       "</tr>\n",
       "<tr>\n",
       "  <th>Model_KUV100</th>                <td>-4.566e+05</td> <td> 2.18e+05</td> <td>   -2.098</td> <td> 0.036</td> <td>-8.83e+05</td> <td>-2.99e+04</td>\n",
       "</tr>\n",
       "<tr>\n",
       "  <th>Model_Kodiaq</th>                <td> 1.349e+06</td> <td> 4.52e+05</td> <td>    2.985</td> <td> 0.003</td> <td> 4.63e+05</td> <td> 2.24e+06</td>\n",
       "</tr>\n",
       "<tr>\n",
       "  <th>Model_Koleos</th>                <td> 8.348e+05</td> <td> 6.65e+05</td> <td>    1.255</td> <td> 0.209</td> <td>-4.69e+05</td> <td> 2.14e+06</td>\n",
       "</tr>\n",
       "<tr>\n",
       "  <th>Model_Kona</th>                  <td> 6.385e+05</td> <td> 5.14e+05</td> <td>    1.242</td> <td> 0.214</td> <td>-3.69e+05</td> <td> 1.65e+06</td>\n",
       "</tr>\n",
       "<tr>\n",
       "  <th>Model_Kwid</th>                  <td>-4.057e+05</td> <td>  2.1e+05</td> <td>   -1.929</td> <td> 0.054</td> <td>-8.18e+05</td> <td> 6725.095</td>\n",
       "</tr>\n",
       "<tr>\n",
       "  <th>Model_LS</th>                    <td> 7.859e+05</td> <td> 5.44e+05</td> <td>    1.446</td> <td> 0.148</td> <td> -2.8e+05</td> <td> 1.85e+06</td>\n",
       "</tr>\n",
       "<tr>\n",
       "  <th>Model_Lancer</th>                <td> 3.839e+05</td> <td> 5.87e+05</td> <td>    0.654</td> <td> 0.513</td> <td>-7.68e+05</td> <td> 1.54e+06</td>\n",
       "</tr>\n",
       "<tr>\n",
       "  <th>Model_Land</th>                  <td> 7.002e+06</td> <td> 3.21e+05</td> <td>   21.796</td> <td> 0.000</td> <td> 6.37e+06</td> <td> 7.63e+06</td>\n",
       "</tr>\n",
       "<tr>\n",
       "  <th>Model_Laura</th>                 <td> 2.655e+04</td> <td>  2.5e+05</td> <td>    0.106</td> <td> 0.915</td> <td>-4.63e+05</td> <td> 5.16e+05</td>\n",
       "</tr>\n",
       "<tr>\n",
       "  <th>Model_Lodgy</th>                 <td> 2.214e+05</td> <td> 6.68e+05</td> <td>    0.331</td> <td> 0.740</td> <td>-1.09e+06</td> <td> 1.53e+06</td>\n",
       "</tr>\n",
       "<tr>\n",
       "  <th>Model_M-Class</th>               <td>-8.002e+05</td> <td> 3.51e+05</td> <td>   -2.279</td> <td> 0.023</td> <td>-1.49e+06</td> <td>-1.12e+05</td>\n",
       "</tr>\n",
       "<tr>\n",
       "  <th>Model_M2</th>                    <td> 4.304e+06</td> <td> 7.36e+05</td> <td>    5.846</td> <td> 0.000</td> <td> 2.86e+06</td> <td> 5.75e+06</td>\n",
       "</tr>\n",
       "<tr>\n",
       "  <th>Model_MU7</th>                   <td> 1.218e+06</td> <td> 3.71e+05</td> <td>    3.278</td> <td> 0.001</td> <td> 4.89e+05</td> <td> 1.95e+06</td>\n",
       "</tr>\n",
       "<tr>\n",
       "  <th>Model_Macan</th>                 <td> 5.964e+05</td> <td> 4.58e+05</td> <td>    1.301</td> <td> 0.193</td> <td>-3.02e+05</td> <td>  1.5e+06</td>\n",
       "</tr>\n",
       "<tr>\n",
       "  <th>Model_Manza</th>                 <td> 3.589e+05</td> <td> 4.06e+05</td> <td>    0.884</td> <td> 0.377</td> <td>-4.37e+05</td> <td> 1.15e+06</td>\n",
       "</tr>\n",
       "<tr>\n",
       "  <th>Model_Marazzo</th>               <td> -1.78e+05</td> <td> 3.23e+05</td> <td>   -0.551</td> <td> 0.582</td> <td>-8.12e+05</td> <td> 4.56e+05</td>\n",
       "</tr>\n",
       "<tr>\n",
       "  <th>Model_Martin</th>                <td> 8.231e+06</td> <td> 5.41e+05</td> <td>   15.207</td> <td> 0.000</td> <td> 7.17e+06</td> <td> 9.29e+06</td>\n",
       "</tr>\n",
       "<tr>\n",
       "  <th>Model_Micra</th>                 <td>-6.625e+04</td> <td> 2.31e+05</td> <td>   -0.286</td> <td> 0.775</td> <td> -5.2e+05</td> <td> 3.88e+05</td>\n",
       "</tr>\n",
       "<tr>\n",
       "  <th>Model_Mobilio</th>               <td>-1.229e+04</td> <td>    3e+05</td> <td>   -0.041</td> <td> 0.967</td> <td>   -6e+05</td> <td> 5.76e+05</td>\n",
       "</tr>\n",
       "<tr>\n",
       "  <th>Model_Motors</th>                <td>-1.728e-09</td> <td> 3.42e-10</td> <td>   -5.061</td> <td> 0.000</td> <td> -2.4e-09</td> <td>-1.06e-09</td>\n",
       "</tr>\n",
       "<tr>\n",
       "  <th>Model_Mustang</th>               <td>-1.171e-10</td> <td>  5.4e-10</td> <td>   -0.217</td> <td> 0.828</td> <td>-1.18e-09</td> <td> 9.42e-10</td>\n",
       "</tr>\n",
       "<tr>\n",
       "  <th>Model_NX</th>                    <td> 2.544e+06</td> <td> 5.42e+05</td> <td>    4.691</td> <td> 0.000</td> <td> 1.48e+06</td> <td> 3.61e+06</td>\n",
       "</tr>\n",
       "<tr>\n",
       "  <th>Model_Nano</th>                  <td>-2.583e+05</td> <td> 2.57e+05</td> <td>   -1.004</td> <td> 0.316</td> <td>-7.63e+05</td> <td> 2.46e+05</td>\n",
       "</tr>\n",
       "<tr>\n",
       "  <th>Model_Nexon</th>                 <td> -1.14e+05</td> <td> 1.56e+05</td> <td>   -0.733</td> <td> 0.464</td> <td>-4.19e+05</td> <td> 1.91e+05</td>\n",
       "</tr>\n",
       "<tr>\n",
       "  <th>Model_NuvoSport</th>             <td>-3.015e+05</td> <td> 6.79e+05</td> <td>   -0.444</td> <td> 0.657</td> <td>-1.63e+06</td> <td> 1.03e+06</td>\n",
       "</tr>\n",
       "<tr>\n",
       "  <th>Model_Octavia</th>               <td> 2.967e+05</td> <td>  2.3e+05</td> <td>    1.292</td> <td> 0.196</td> <td>-1.53e+05</td> <td> 7.47e+05</td>\n",
       "</tr>\n",
       "<tr>\n",
       "  <th>Model_Optra</th>                 <td> 6.643e+05</td> <td> 6.57e+05</td> <td>    1.011</td> <td> 0.312</td> <td>-6.24e+05</td> <td> 1.95e+06</td>\n",
       "</tr>\n",
       "<tr>\n",
       "  <th>Model_Outlander</th>             <td> 4.224e+05</td> <td> 5.83e+05</td> <td>    0.725</td> <td> 0.469</td> <td> -7.2e+05</td> <td> 1.56e+06</td>\n",
       "</tr>\n",
       "<tr>\n",
       "  <th>Model_Pajero</th>                <td> 1.285e+06</td> <td> 3.25e+05</td> <td>    3.949</td> <td> 0.000</td> <td> 6.47e+05</td> <td> 1.92e+06</td>\n",
       "</tr>\n",
       "<tr>\n",
       "  <th>Model_Palio</th>                 <td>  6.07e-09</td> <td> 3.98e-10</td> <td>   15.242</td> <td> 0.000</td> <td> 5.29e-09</td> <td> 6.85e-09</td>\n",
       "</tr>\n",
       "<tr>\n",
       "  <th>Model_Panamera</th>              <td> 1.916e+06</td> <td> 3.41e+05</td> <td>    5.611</td> <td> 0.000</td> <td> 1.25e+06</td> <td> 2.59e+06</td>\n",
       "</tr>\n",
       "<tr>\n",
       "  <th>Model_Passat</th>                <td> 6.703e+05</td> <td> 2.74e+05</td> <td>    2.445</td> <td> 0.015</td> <td> 1.33e+05</td> <td> 1.21e+06</td>\n",
       "</tr>\n",
       "<tr>\n",
       "  <th>Model_Polo</th>                  <td>-3.462e+05</td> <td> 1.02e+05</td> <td>   -3.395</td> <td> 0.001</td> <td>-5.46e+05</td> <td>-1.46e+05</td>\n",
       "</tr>\n",
       "<tr>\n",
       "  <th>Model_Pulse</th>                 <td>-2.263e+04</td> <td> 4.12e+05</td> <td>   -0.055</td> <td> 0.956</td> <td> -8.3e+05</td> <td> 7.84e+05</td>\n",
       "</tr>\n",
       "<tr>\n",
       "  <th>Model_Punto</th>                 <td> 6.814e+05</td> <td> 1.44e+05</td> <td>    4.719</td> <td> 0.000</td> <td> 3.98e+05</td> <td> 9.65e+05</td>\n",
       "</tr>\n",
       "<tr>\n",
       "  <th>Model_Q3</th>                    <td>-7.088e+05</td> <td> 1.82e+05</td> <td>   -3.904</td> <td> 0.000</td> <td>-1.06e+06</td> <td>-3.53e+05</td>\n",
       "</tr>\n",
       "<tr>\n",
       "  <th>Model_Q5</th>                    <td> 2111.2348</td> <td> 2.19e+05</td> <td>    0.010</td> <td> 0.992</td> <td>-4.28e+05</td> <td> 4.32e+05</td>\n",
       "</tr>\n",
       "<tr>\n",
       "  <th>Model_Q7</th>                    <td> 2.214e+06</td> <td> 3.09e+05</td> <td>    7.174</td> <td> 0.000</td> <td> 1.61e+06</td> <td> 2.82e+06</td>\n",
       "</tr>\n",
       "<tr>\n",
       "  <th>Model_Quanto</th>                <td>-5.058e+04</td> <td> 3.21e+05</td> <td>   -0.158</td> <td> 0.875</td> <td> -6.8e+05</td> <td> 5.79e+05</td>\n",
       "</tr>\n",
       "<tr>\n",
       "  <th>Model_R8</th>                    <td>-1.087e-10</td> <td> 2.25e-10</td> <td>   -0.482</td> <td> 0.630</td> <td> -5.5e-10</td> <td> 3.33e-10</td>\n",
       "</tr>\n",
       "<tr>\n",
       "  <th>Model_RS5</th>                   <td> 1.401e+06</td> <td> 3.93e+05</td> <td>    3.563</td> <td> 0.000</td> <td>  6.3e+05</td> <td> 2.17e+06</td>\n",
       "</tr>\n",
       "<tr>\n",
       "  <th>Model_Rapid</th>                 <td>-3.523e+05</td> <td> 1.72e+05</td> <td>   -2.046</td> <td> 0.041</td> <td> -6.9e+05</td> <td>-1.46e+04</td>\n",
       "</tr>\n",
       "<tr>\n",
       "  <th>Model_Rexton</th>                <td> 8.861e+05</td> <td> 2.25e+05</td> <td>    3.937</td> <td> 0.000</td> <td> 4.45e+05</td> <td> 1.33e+06</td>\n",
       "</tr>\n",
       "<tr>\n",
       "  <th>Model_Rover</th>                 <td> 2.662e+06</td> <td> 9.72e+04</td> <td>   27.378</td> <td> 0.000</td> <td> 2.47e+06</td> <td> 2.85e+06</td>\n",
       "</tr>\n",
       "<tr>\n",
       "  <th>Model_S-Class</th>               <td> 5.977e+05</td> <td> 1.83e+05</td> <td>    3.261</td> <td> 0.001</td> <td> 2.38e+05</td> <td> 9.57e+05</td>\n",
       "</tr>\n",
       "<tr>\n",
       "  <th>Model_S60</th>                   <td>-3.329e+05</td> <td> 3.55e+05</td> <td>   -0.938</td> <td> 0.348</td> <td>-1.03e+06</td> <td> 3.63e+05</td>\n",
       "</tr>\n",
       "<tr>\n",
       "  <th>Model_S80</th>                   <td> -6.48e+05</td> <td> 6.52e+05</td> <td>   -0.994</td> <td> 0.320</td> <td>-1.93e+06</td> <td>  6.3e+05</td>\n",
       "</tr>\n",
       "<tr>\n",
       "  <th>Model_S90</th>                   <td>  1.46e+06</td> <td> 3.99e+05</td> <td>    3.660</td> <td> 0.000</td> <td> 6.78e+05</td> <td> 2.24e+06</td>\n",
       "</tr>\n",
       "<tr>\n",
       "  <th>Model_SLC</th>                   <td> 3.248e+06</td> <td> 6.86e+05</td> <td>    4.734</td> <td> 0.000</td> <td>  1.9e+06</td> <td> 4.59e+06</td>\n",
       "</tr>\n",
       "<tr>\n",
       "  <th>Model_Safari</th>                <td> 4.074e+05</td> <td> 2.17e+05</td> <td>    1.881</td> <td> 0.060</td> <td>-1.73e+04</td> <td> 8.32e+05</td>\n",
       "</tr>\n",
       "<tr>\n",
       "  <th>Model_Sail</th>                  <td>-5.912e+04</td> <td> 4.87e+05</td> <td>   -0.121</td> <td> 0.903</td> <td>-1.01e+06</td> <td> 8.96e+05</td>\n",
       "</tr>\n",
       "<tr>\n",
       "  <th>Model_Santa</th>                 <td> 7.568e+05</td> <td> 2.55e+05</td> <td>    2.964</td> <td> 0.003</td> <td> 2.56e+05</td> <td> 1.26e+06</td>\n",
       "</tr>\n",
       "<tr>\n",
       "  <th>Model_Santro</th>                <td>-4.681e+04</td> <td> 1.85e+05</td> <td>   -0.252</td> <td> 0.801</td> <td> -4.1e+05</td> <td> 3.17e+05</td>\n",
       "</tr>\n",
       "<tr>\n",
       "  <th>Model_Scorpio</th>               <td> 4.536e+05</td> <td> 2.42e+05</td> <td>    1.873</td> <td> 0.061</td> <td>-2.12e+04</td> <td> 9.28e+05</td>\n",
       "</tr>\n",
       "<tr>\n",
       "  <th>Model_Seltos</th>                <td> 6.581e+04</td> <td> 2.35e+05</td> <td>    0.280</td> <td> 0.780</td> <td>-3.96e+05</td> <td> 5.27e+05</td>\n",
       "</tr>\n",
       "<tr>\n",
       "  <th>Model_Sonata</th>                <td> 5.634e+05</td> <td> 6.86e+05</td> <td>    0.822</td> <td> 0.411</td> <td>-7.81e+05</td> <td> 1.91e+06</td>\n",
       "</tr>\n",
       "<tr>\n",
       "  <th>Model_Spark</th>                 <td> 1.697e+05</td> <td>  6.6e+05</td> <td>    0.257</td> <td> 0.797</td> <td>-1.12e+06</td> <td> 1.46e+06</td>\n",
       "</tr>\n",
       "<tr>\n",
       "  <th>Model_Sumo</th>                  <td> 6.851e+05</td> <td> 6.86e+05</td> <td>    0.999</td> <td> 0.318</td> <td> -6.6e+05</td> <td> 2.03e+06</td>\n",
       "</tr>\n",
       "<tr>\n",
       "  <th>Model_Sunny</th>                 <td>  3.09e+05</td> <td> 2.91e+05</td> <td>    1.061</td> <td> 0.289</td> <td>-2.62e+05</td> <td>  8.8e+05</td>\n",
       "</tr>\n",
       "<tr>\n",
       "  <th>Model_Superb</th>                <td> 4.929e+05</td> <td> 2.22e+05</td> <td>    2.217</td> <td> 0.027</td> <td>  5.7e+04</td> <td> 9.29e+05</td>\n",
       "</tr>\n",
       "<tr>\n",
       "  <th>Model_Suzuki</th>                <td> 6.893e+05</td> <td> 7.42e+04</td> <td>    9.290</td> <td> 0.000</td> <td> 5.44e+05</td> <td> 8.35e+05</td>\n",
       "</tr>\n",
       "<tr>\n",
       "  <th>Model_TT</th>                    <td>  1.27e+06</td> <td> 3.91e+05</td> <td>    3.249</td> <td> 0.001</td> <td> 5.04e+05</td> <td> 2.04e+06</td>\n",
       "</tr>\n",
       "<tr>\n",
       "  <th>Model_TUV300</th>                <td> 4.617e+04</td> <td> 2.96e+05</td> <td>    0.156</td> <td> 0.876</td> <td>-5.35e+05</td> <td> 6.27e+05</td>\n",
       "</tr>\n",
       "<tr>\n",
       "  <th>Model_Terrano</th>               <td> 2.993e+05</td> <td> 3.08e+05</td> <td>    0.970</td> <td> 0.332</td> <td>-3.06e+05</td> <td> 9.04e+05</td>\n",
       "</tr>\n",
       "<tr>\n",
       "  <th>Model_Thar</th>                  <td> 1.841e+05</td> <td> 2.97e+05</td> <td>    0.620</td> <td> 0.535</td> <td>-3.98e+05</td> <td> 7.66e+05</td>\n",
       "</tr>\n",
       "<tr>\n",
       "  <th>Model_Tiago</th>                 <td>-3.863e+05</td> <td> 1.72e+05</td> <td>   -2.250</td> <td> 0.025</td> <td>-7.23e+05</td> <td>-4.97e+04</td>\n",
       "</tr>\n",
       "<tr>\n",
       "  <th>Model_Tigor</th>                 <td>-4.132e+05</td> <td> 3.51e+05</td> <td>   -1.176</td> <td> 0.240</td> <td> -1.1e+06</td> <td> 2.75e+05</td>\n",
       "</tr>\n",
       "<tr>\n",
       "  <th>Model_Tiguan</th>                <td> 1.475e+06</td> <td> 2.29e+05</td> <td>    6.455</td> <td> 0.000</td> <td> 1.03e+06</td> <td> 1.92e+06</td>\n",
       "</tr>\n",
       "<tr>\n",
       "  <th>Model_Triber</th>                <td>-3.173e+05</td> <td> 6.67e+05</td> <td>   -0.476</td> <td> 0.634</td> <td>-1.63e+06</td> <td> 9.91e+05</td>\n",
       "</tr>\n",
       "<tr>\n",
       "  <th>Model_Tucson</th>                <td> 7.378e+05</td> <td> 4.02e+05</td> <td>    1.835</td> <td> 0.067</td> <td>-5.05e+04</td> <td> 1.53e+06</td>\n",
       "</tr>\n",
       "<tr>\n",
       "  <th>Model_V-Class</th>               <td>         0</td> <td>        0</td> <td>      nan</td> <td>   nan</td> <td>        0</td> <td>        0</td>\n",
       "</tr>\n",
       "<tr>\n",
       "  <th>Model_V40</th>                   <td>-7.947e+05</td> <td> 4.75e+05</td> <td>   -1.675</td> <td> 0.094</td> <td>-1.73e+06</td> <td> 1.36e+05</td>\n",
       "</tr>\n",
       "<tr>\n",
       "  <th>Model_V90</th>                   <td>         0</td> <td>        0</td> <td>      nan</td> <td>   nan</td> <td>        0</td> <td>        0</td>\n",
       "</tr>\n",
       "<tr>\n",
       "  <th>Model_Vento</th>                 <td>-2.049e+05</td> <td> 1.18e+05</td> <td>   -1.735</td> <td> 0.083</td> <td>-4.36e+05</td> <td> 2.67e+04</td>\n",
       "</tr>\n",
       "<tr>\n",
       "  <th>Model_Venue</th>                 <td>-3.627e+05</td> <td> 2.22e+05</td> <td>   -1.632</td> <td> 0.103</td> <td>-7.99e+05</td> <td> 7.31e+04</td>\n",
       "</tr>\n",
       "<tr>\n",
       "  <th>Model_Verna</th>                 <td> 2.865e+04</td> <td> 1.22e+05</td> <td>    0.235</td> <td> 0.814</td> <td>-2.11e+05</td> <td> 2.68e+05</td>\n",
       "</tr>\n",
       "<tr>\n",
       "  <th>Model_WR-V</th>                  <td>-2.987e+05</td> <td> 1.81e+05</td> <td>   -1.650</td> <td> 0.099</td> <td>-6.54e+05</td> <td> 5.63e+04</td>\n",
       "</tr>\n",
       "<tr>\n",
       "  <th>Model_Wrangler</th>              <td> 2.927e+06</td> <td>  4.9e+05</td> <td>    5.973</td> <td> 0.000</td> <td> 1.97e+06</td> <td> 3.89e+06</td>\n",
       "</tr>\n",
       "<tr>\n",
       "  <th>Model_X-Trail</th>               <td> 6.671e+05</td> <td> 5.99e+05</td> <td>    1.114</td> <td> 0.265</td> <td>-5.07e+05</td> <td> 1.84e+06</td>\n",
       "</tr>\n",
       "<tr>\n",
       "  <th>Model_X1</th>                    <td>  -1.5e+05</td> <td> 2.15e+05</td> <td>   -0.698</td> <td> 0.485</td> <td>-5.72e+05</td> <td> 2.71e+05</td>\n",
       "</tr>\n",
       "<tr>\n",
       "  <th>Model_X3</th>                    <td>  7.66e+05</td> <td> 2.32e+05</td> <td>    3.305</td> <td> 0.001</td> <td> 3.11e+05</td> <td> 1.22e+06</td>\n",
       "</tr>\n",
       "<tr>\n",
       "  <th>Model_X4</th>                    <td> 2.442e+06</td> <td> 5.28e+05</td> <td>    4.627</td> <td> 0.000</td> <td> 1.41e+06</td> <td> 3.48e+06</td>\n",
       "</tr>\n",
       "<tr>\n",
       "  <th>Model_X5</th>                    <td> 2.364e+06</td> <td> 2.68e+05</td> <td>    8.825</td> <td> 0.000</td> <td> 1.84e+06</td> <td> 2.89e+06</td>\n",
       "</tr>\n",
       "<tr>\n",
       "  <th>Model_X6</th>                    <td> 4.889e+06</td> <td> 5.26e+05</td> <td>    9.288</td> <td> 0.000</td> <td> 3.86e+06</td> <td> 5.92e+06</td>\n",
       "</tr>\n",
       "<tr>\n",
       "  <th>Model_X7</th>                    <td> 7.937e+06</td> <td> 7.34e+05</td> <td>   10.806</td> <td> 0.000</td> <td>  6.5e+06</td> <td> 9.38e+06</td>\n",
       "</tr>\n",
       "<tr>\n",
       "  <th>Model_XC40</th>                  <td> 9.735e+05</td> <td> 4.74e+05</td> <td>    2.055</td> <td> 0.040</td> <td> 4.45e+04</td> <td>  1.9e+06</td>\n",
       "</tr>\n",
       "<tr>\n",
       "  <th>Model_XC60</th>                  <td>-4.716e+04</td> <td> 3.99e+05</td> <td>   -0.118</td> <td> 0.906</td> <td> -8.3e+05</td> <td> 7.36e+05</td>\n",
       "</tr>\n",
       "<tr>\n",
       "  <th>Model_XC90</th>                  <td> 2.603e+06</td> <td> 3.98e+05</td> <td>    6.537</td> <td> 0.000</td> <td> 1.82e+06</td> <td> 3.38e+06</td>\n",
       "</tr>\n",
       "<tr>\n",
       "  <th>Model_XE</th>                    <td>-2.018e+06</td> <td> 3.09e+05</td> <td>   -6.520</td> <td> 0.000</td> <td>-2.62e+06</td> <td>-1.41e+06</td>\n",
       "</tr>\n",
       "<tr>\n",
       "  <th>Model_XF</th>                    <td>-2.299e+06</td> <td> 2.47e+05</td> <td>   -9.290</td> <td> 0.000</td> <td>-2.78e+06</td> <td>-1.81e+06</td>\n",
       "</tr>\n",
       "<tr>\n",
       "  <th>Model_XJ</th>                    <td>-6.212e+05</td> <td> 2.91e+05</td> <td>   -2.137</td> <td> 0.033</td> <td>-1.19e+06</td> <td>-5.11e+04</td>\n",
       "</tr>\n",
       "<tr>\n",
       "  <th>Model_XUV300</th>                <td>-1.484e+05</td> <td> 4.88e+05</td> <td>   -0.304</td> <td> 0.761</td> <td>-1.11e+06</td> <td> 8.09e+05</td>\n",
       "</tr>\n",
       "<tr>\n",
       "  <th>Model_XUV500</th>                <td> 4.417e+05</td> <td> 1.56e+05</td> <td>    2.828</td> <td> 0.005</td> <td> 1.35e+05</td> <td> 7.48e+05</td>\n",
       "</tr>\n",
       "<tr>\n",
       "  <th>Model_Xcent</th>                 <td> -2.68e+05</td> <td> 1.85e+05</td> <td>   -1.451</td> <td> 0.147</td> <td> -6.3e+05</td> <td> 9.42e+04</td>\n",
       "</tr>\n",
       "<tr>\n",
       "  <th>Model_Xylo</th>                  <td> 2.254e+05</td> <td> 3.54e+05</td> <td>    0.636</td> <td> 0.525</td> <td>-4.69e+05</td> <td>  9.2e+05</td>\n",
       "</tr>\n",
       "<tr>\n",
       "  <th>Model_Yaris</th>                 <td>-2.254e+06</td> <td>  3.9e+05</td> <td>   -5.784</td> <td> 0.000</td> <td>-3.02e+06</td> <td>-1.49e+06</td>\n",
       "</tr>\n",
       "<tr>\n",
       "  <th>Model_Yeti</th>                  <td>  8.64e+04</td> <td> 4.53e+05</td> <td>    0.191</td> <td> 0.849</td> <td>-8.02e+05</td> <td> 9.75e+05</td>\n",
       "</tr>\n",
       "<tr>\n",
       "  <th>Model_Z4</th>                    <td> 2.993e+06</td> <td> 5.27e+05</td> <td>    5.678</td> <td> 0.000</td> <td> 1.96e+06</td> <td> 4.03e+06</td>\n",
       "</tr>\n",
       "<tr>\n",
       "  <th>Model_Zest</th>                  <td>-2.114e+05</td> <td> 2.73e+05</td> <td>   -0.774</td> <td> 0.439</td> <td>-7.47e+05</td> <td> 3.24e+05</td>\n",
       "</tr>\n",
       "<tr>\n",
       "  <th>Model_e2o</th>                   <td>-4.389e+05</td> <td> 5.13e+05</td> <td>   -0.855</td> <td> 0.393</td> <td>-1.45e+06</td> <td> 5.67e+05</td>\n",
       "</tr>\n",
       "<tr>\n",
       "  <th>Model_i10</th>                   <td>-1.834e+04</td> <td> 1.32e+05</td> <td>   -0.138</td> <td> 0.890</td> <td>-2.78e+05</td> <td> 2.41e+05</td>\n",
       "</tr>\n",
       "<tr>\n",
       "  <th>Model_i20</th>                   <td> 5537.6043</td> <td> 1.28e+05</td> <td>    0.043</td> <td> 0.966</td> <td>-2.46e+05</td> <td> 2.57e+05</td>\n",
       "</tr>\n",
       "<tr>\n",
       "  <th>Model_redi-GO</th>               <td> 1.561e+05</td> <td> 2.19e+05</td> <td>    0.712</td> <td> 0.476</td> <td>-2.74e+05</td> <td> 5.86e+05</td>\n",
       "</tr>\n",
       "<tr>\n",
       "  <th>fuel_Diesel</th>                 <td> 1.826e+05</td> <td> 1.25e+05</td> <td>    1.458</td> <td> 0.145</td> <td> -6.3e+04</td> <td> 4.28e+05</td>\n",
       "</tr>\n",
       "<tr>\n",
       "  <th>fuel_Electric</th>               <td> 1.996e+05</td> <td> 3.45e+05</td> <td>    0.579</td> <td> 0.563</td> <td>-4.77e+05</td> <td> 8.76e+05</td>\n",
       "</tr>\n",
       "<tr>\n",
       "  <th>fuel_Hybrid</th>                 <td> -2.83e+06</td> <td> 6.05e+05</td> <td>   -4.679</td> <td> 0.000</td> <td>-4.02e+06</td> <td>-1.64e+06</td>\n",
       "</tr>\n",
       "<tr>\n",
       "  <th>fuel_LPG</th>                    <td> 3.899e+05</td> <td> 3.08e+05</td> <td>    1.266</td> <td> 0.206</td> <td>-2.14e+05</td> <td> 9.94e+05</td>\n",
       "</tr>\n",
       "<tr>\n",
       "  <th>fuel_Petrol</th>                 <td> 1.561e+05</td> <td> 1.23e+05</td> <td>    1.265</td> <td> 0.206</td> <td>-8.59e+04</td> <td> 3.98e+05</td>\n",
       "</tr>\n",
       "</table>\n",
       "<table class=\"simpletable\">\n",
       "<tr>\n",
       "  <th>Omnibus:</th>       <td>2944.461</td> <th>  Durbin-Watson:     </th>  <td>   2.000</td> \n",
       "</tr>\n",
       "<tr>\n",
       "  <th>Prob(Omnibus):</th>  <td> 0.000</td>  <th>  Jarque-Bera (JB):  </th> <td>593276.977</td>\n",
       "</tr>\n",
       "<tr>\n",
       "  <th>Skew:</th>           <td> 4.441</td>  <th>  Prob(JB):          </th>  <td>    0.00</td> \n",
       "</tr>\n",
       "<tr>\n",
       "  <th>Kurtosis:</th>       <td>72.396</td>  <th>  Cond. No.          </th>  <td>3.24e+21</td> \n",
       "</tr>\n",
       "</table><br/><br/>Notes:<br/>[1] Standard Errors assume that the covariance matrix of the errors is correctly specified.<br/>[2] The smallest eigenvalue is 1.36e-30. This might indicate that there are<br/>strong multicollinearity problems or that the design matrix is singular."
      ],
      "text/plain": [
       "<class 'statsmodels.iolib.summary.Summary'>\n",
       "\"\"\"\n",
       "                            OLS Regression Results                            \n",
       "==============================================================================\n",
       "Dep. Variable:                  price   R-squared:                       0.851\n",
       "Model:                            OLS   Adj. R-squared:                  0.839\n",
       "Method:                 Least Squares   F-statistic:                     75.18\n",
       "Date:                Fri, 07 May 2021   Prob (F-statistic):               0.00\n",
       "Time:                        21:53:59   Log-Likelihood:                -43271.\n",
       "No. Observations:                2909   AIC:                         8.695e+04\n",
       "Df Residuals:                    2703   BIC:                         8.819e+04\n",
       "Df Model:                         205                                         \n",
       "Covariance Type:            nonrobust                                         \n",
       "===============================================================================================\n",
       "                                  coef    std err          t      P>|t|      [0.025      0.975]\n",
       "-----------------------------------------------------------------------------------------------\n",
       "key_0                          -9.8291     15.110     -0.651      0.515     -39.457      19.799\n",
       "Car Age                     -1.356e+05   5891.409    -23.024      0.000   -1.47e+05   -1.24e+05\n",
       "km                             -3.4449      0.378     -9.113      0.000      -4.186      -2.704\n",
       "Owner                       -4.721e+04   3.85e+04     -1.227      0.220   -1.23e+05    2.82e+04\n",
       "Company Name_Audi            3.755e+06   1.68e+05     22.294      0.000    3.42e+06    4.08e+06\n",
       "Company Name_BMW             3.344e+06   1.94e+05     17.214      0.000    2.96e+06    3.72e+06\n",
       "Company Name_Bentley         5.973e+06   2.35e+05     25.395      0.000    5.51e+06    6.43e+06\n",
       "Company Name_Chevrolet       1.552e+06   2.36e+05      6.565      0.000    1.09e+06    2.02e+06\n",
       "Company Name_Datsun          6.172e+05   1.77e+05      3.485      0.000     2.7e+05    9.64e+05\n",
       "Company Name_Fiat            6.814e+05   1.44e+05      4.719      0.000    3.98e+05    9.65e+05\n",
       "Company Name_Force          -4.157e-09   1.72e-09     -2.423      0.015   -7.52e-09   -7.94e-10\n",
       "Company Name_Ford            1.512e+06   1.95e+05      7.735      0.000    1.13e+06     1.9e+06\n",
       "Company Name_Honda           1.492e+06   1.48e+05     10.086      0.000     1.2e+06    1.78e+06\n",
       "Company Name_Hummer           6.88e+06   3.71e+05     18.526      0.000    6.15e+06    7.61e+06\n",
       "Company Name_Hyundai         1.569e+06   1.62e+05      9.681      0.000    1.25e+06    1.89e+06\n",
       "Company Name_Isuzu           1.218e+06   3.71e+05      3.278      0.001    4.89e+05    1.95e+06\n",
       "Company Name_Jaguar          5.838e+06   2.05e+05     28.503      0.000    5.44e+06    6.24e+06\n",
       "Company Name_Jeep            2.491e+06   2.69e+05      9.244      0.000    1.96e+06    3.02e+06\n",
       "Company Name_Kia             1.707e+06   1.95e+05      8.740      0.000    1.32e+06    2.09e+06\n",
       "Company Name_Lamborghini       1.7e+07   3.61e+05     47.039      0.000    1.63e+07    1.77e+07\n",
       "Company Name_Land            2.662e+06   9.72e+04     27.378      0.000    2.47e+06    2.85e+06\n",
       "Company Name_Lexus            3.33e+06   3.58e+05      9.310      0.000    2.63e+06    4.03e+06\n",
       "Company Name_MG              2.344e+06   1.66e+05     14.090      0.000    2.02e+06    2.67e+06\n",
       "Company Name_Mahindra        1.488e+06   1.79e+05      8.315      0.000    1.14e+06    1.84e+06\n",
       "Company Name_Maruti          6.893e+05   7.42e+04      9.290      0.000    5.44e+05    8.35e+05\n",
       "Company Name_Maserati        3.168e+06   3.71e+05      8.547      0.000    2.44e+06     3.9e+06\n",
       "Company Name_Mercedes-Benz   4.406e+06   1.71e+05     25.712      0.000    4.07e+06    4.74e+06\n",
       "Company Name_Mini            2.346e+06   2.62e+05      8.959      0.000    1.83e+06    2.86e+06\n",
       "Company Name_Mitsubishi      2.091e+06   2.95e+05      7.081      0.000    1.51e+06    2.67e+06\n",
       "Company Name_Nissan          1.209e+06   2.16e+05      5.604      0.000    7.86e+05    1.63e+06\n",
       "Company Name_Porsche         7.408e+06   1.99e+05     37.147      0.000    7.02e+06     7.8e+06\n",
       "Company Name_Renault         1.227e+06   2.26e+05      5.423      0.000    7.84e+05    1.67e+06\n",
       "Company Name_Skoda           1.899e+06   1.81e+05     10.490      0.000    1.54e+06    2.25e+06\n",
       "Company Name_Ssangyong       8.861e+05   2.25e+05      3.937      0.000    4.45e+05    1.33e+06\n",
       "Company Name_Tata            1.317e+06   1.68e+05      7.839      0.000    9.87e+05    1.65e+06\n",
       "Company Name_Toyota          3.489e+06   1.74e+05     20.108      0.000    3.15e+06    3.83e+06\n",
       "Company Name_Volkswagen      1.758e+06   1.55e+05     11.318      0.000    1.45e+06    2.06e+06\n",
       "Company Name_Volvo           3.214e+06   2.13e+05     15.068      0.000     2.8e+06    3.63e+06\n",
       "location_Bangalore           1.637e+05   8.14e+04      2.012      0.044    4182.600    3.23e+05\n",
       "location_Bhopal              1.426e+05   1.22e+05      1.166      0.244   -9.72e+04    3.82e+05\n",
       "location_Chennai             4.598e+04   8.74e+04      0.526      0.599   -1.25e+05    2.17e+05\n",
       "location_Coimbatore           2.41e+05   1.05e+05      2.295      0.022    3.51e+04    4.47e+05\n",
       "location_Delhi              -1.563e+04    7.8e+04     -0.200      0.841   -1.69e+05    1.37e+05\n",
       "location_Hyderabad           1.234e+05   8.02e+04      1.539      0.124   -3.39e+04    2.81e+05\n",
       "location_Jaipur             -1.167e+05   1.24e+05     -0.943      0.346   -3.59e+05    1.26e+05\n",
       "location_Kolkata             -1.21e+05      1e+05     -1.206      0.228   -3.18e+05    7.57e+04\n",
       "location_Mumbai             -4.123e+04   7.49e+04     -0.550      0.582   -1.88e+05    1.06e+05\n",
       "location_Nagpur              8.792e+04   1.13e+05      0.781      0.435   -1.33e+05    3.09e+05\n",
       "location_Navi Mumbai        -2.733e+04   1.36e+05     -0.200      0.841   -2.95e+05     2.4e+05\n",
       "location_Pune                2.327e+05   8.59e+04      2.711      0.007    6.44e+04    4.01e+05\n",
       "location_Thane               8.032e+04   1.01e+05      0.797      0.425   -1.17e+05    2.78e+05\n",
       "location_Thiruvananthapuram  1.849e+05   1.55e+05      1.196      0.232   -1.18e+05    4.88e+05\n",
       "Model_5                      6.134e+05   1.76e+05      3.493      0.000    2.69e+05    9.58e+05\n",
       "Model_6                      1.986e+06    3.8e+05      5.220      0.000    1.24e+06    2.73e+06\n",
       "Model_7                      2.597e+06   2.68e+05      9.679      0.000    2.07e+06    3.12e+06\n",
       "Model_718                    4.001e+05   3.84e+05      1.041      0.298   -3.53e+05    1.15e+06\n",
       "Model_911                    5.678e+06   3.85e+05     14.753      0.000    4.92e+06    6.43e+06\n",
       "Model_A-Class               -1.893e+06   4.03e+05     -4.701      0.000   -2.68e+06    -1.1e+06\n",
       "Model_A3                    -7.224e+05   2.28e+05     -3.171      0.002   -1.17e+06   -2.76e+05\n",
       "Model_A4                    -1.096e+06   1.94e+05     -5.651      0.000   -1.48e+06   -7.16e+05\n",
       "Model_A5                      9.19e+05   3.41e+05      2.691      0.007    2.49e+05    1.59e+06\n",
       "Model_A6                    -5.411e+05   1.69e+05     -3.207      0.001   -8.72e+05    -2.1e+05\n",
       "Model_A8                     1.016e+06   4.76e+05      2.133      0.033     8.2e+04    1.95e+06\n",
       "Model_Accord                 6.172e+05   1.93e+05      3.191      0.001    2.38e+05    9.96e+05\n",
       "Model_Alphard                1.325e+06   3.91e+05      3.386      0.001    5.58e+05    2.09e+06\n",
       "Model_Altroz                -5.471e+05   4.04e+05     -1.356      0.175   -1.34e+06    2.44e+05\n",
       "Model_Alturas                1.695e+06   6.79e+05      2.494      0.013    3.63e+05    3.03e+06\n",
       "Model_Amaze                 -2.304e+05   1.05e+05     -2.204      0.028   -4.35e+05   -2.54e+04\n",
       "Model_Ameo                   -6.76e+05   1.68e+05     -4.032      0.000      -1e+06   -3.47e+05\n",
       "Model_Aria                   4.118e+05   4.88e+05      0.844      0.399   -5.45e+05    1.37e+06\n",
       "Model_Arnage                 1.956e+05   3.67e+05      0.533      0.594   -5.24e+05    9.15e+05\n",
       "Model_Aspire                -3.888e+05    3.1e+05     -1.254      0.210   -9.97e+05    2.19e+05\n",
       "Model_Aventador              1.148e+07   5.43e+05     21.140      0.000    1.04e+07    1.25e+07\n",
       "Model_B-Class                -2.06e+06   3.51e+05     -5.877      0.000   -2.75e+06   -1.37e+06\n",
       "Model_BR-V                   5147.8915   2.75e+05      0.019      0.985   -5.34e+05    5.44e+05\n",
       "Model_Beat                  -3.333e+05   3.69e+05     -0.903      0.367   -1.06e+06    3.91e+05\n",
       "Model_Beetle                 1.117e+06    3.8e+05      2.941      0.003    3.72e+05    1.86e+06\n",
       "Model_Bolero                 1.588e+04   2.78e+05      0.057      0.954    -5.3e+05    5.61e+05\n",
       "Model_Bolt                  -1.923e+05   4.91e+05     -0.392      0.695   -1.16e+06    7.71e+05\n",
       "Model_Boxster                6.713e+05    4.6e+05      1.461      0.144    -2.3e+05    1.57e+06\n",
       "Model_Brio                  -7.068e+04   1.45e+05     -0.488      0.625   -3.54e+05    2.13e+05\n",
       "Model_C-Class               -1.181e+06   1.43e+05     -8.273      0.000   -1.46e+06   -9.01e+05\n",
       "Model_C-Coupe                3.137e-09   7.16e-10      4.380      0.000    1.73e-09    4.54e-09\n",
       "Model_CLA                   -1.372e+06   2.33e+05     -5.891      0.000   -1.83e+06   -9.15e+05\n",
       "Model_CLS                     2.33e+05   4.02e+05      0.580      0.562   -5.55e+05    1.02e+06\n",
       "Model_CR-V                   9.012e+05   2.17e+05      4.153      0.000    4.76e+05    1.33e+06\n",
       "Model_Camry                 -8.014e+05   2.15e+05     -3.723      0.000   -1.22e+06   -3.79e+05\n",
       "Model_Captiva                9.578e+05   4.85e+05      1.973      0.049    6127.275    1.91e+06\n",
       "Model_Captur                 1.301e+05   6.65e+05      0.196      0.845   -1.17e+06    1.43e+06\n",
       "Model_Carnival               1.641e+06   2.99e+05      5.488      0.000    1.05e+06    2.23e+06\n",
       "Model_Cayenne               -1.854e+06   2.46e+05     -7.552      0.000   -2.34e+06   -1.37e+06\n",
       "Model_City                   1.847e+05   8.41e+04      2.197      0.028    1.99e+04     3.5e+05\n",
       "Model_Civic                  5.907e+05   1.67e+05      3.530      0.000    2.63e+05    9.19e+05\n",
       "Model_Classic                4.115e-10   6.91e-10      0.596      0.552   -9.43e-10    1.77e-09\n",
       "Model_Clubman                6.843e+05   5.65e+05      1.211      0.226   -4.24e+05    1.79e+06\n",
       "Model_Commuter               2.963e+06   6.58e+05      4.503      0.000    1.67e+06    4.25e+06\n",
       "Model_Compass               -4.357e+05   2.72e+05     -1.604      0.109   -9.68e+05     9.7e+04\n",
       "Model_Continental            5.778e+06   3.02e+05     19.144      0.000    5.19e+06    6.37e+06\n",
       "Model_Cooper                 7.557e+05   3.17e+05      2.386      0.017    1.35e+05    1.38e+06\n",
       "Model_Corolla               -1.433e+06   1.64e+05     -8.748      0.000   -1.75e+06   -1.11e+06\n",
       "Model_Countryman             9.062e+05   4.33e+05      2.093      0.036    5.71e+04    1.76e+06\n",
       "Model_Creta                  1.156e+05   1.21e+05      0.953      0.341   -1.22e+05    3.54e+05\n",
       "Model_Cross                  -4.14e+05   2.55e+05     -1.623      0.105   -9.14e+05    8.63e+04\n",
       "Model_Cruze                   1.04e+05   3.41e+05      0.305      0.761   -5.65e+05    7.73e+05\n",
       "Model_Duster                 3.032e+05   2.21e+05      1.371      0.170    -1.3e+05    7.37e+05\n",
       "Model_E-Class               -5.428e+05   1.33e+05     -4.068      0.000   -8.04e+05   -2.81e+05\n",
       "Model_EcoSport              -4.558e+04   1.76e+05     -0.259      0.796   -3.91e+05       3e+05\n",
       "Model_Elantra                1.855e+05   2.21e+05      0.840      0.401   -2.47e+05    6.18e+05\n",
       "Model_Elite                 -3.339e+05   1.15e+05     -2.907      0.004   -5.59e+05   -1.09e+05\n",
       "Model_Endeavour              1.804e+06   2.01e+05      8.973      0.000    1.41e+06     2.2e+06\n",
       "Model_Enjoy                    4.9e+04   6.57e+05      0.075      0.941   -1.24e+06    1.34e+06\n",
       "Model_Eon                   -6.182e+05   1.78e+05     -3.471      0.001   -9.67e+05   -2.69e+05\n",
       "Model_Etios                  -1.91e+06   1.51e+05    -12.623      0.000   -2.21e+06   -1.61e+06\n",
       "Model_F-Pace                -3.729e+05   3.37e+05     -1.106      0.269   -1.03e+06    2.88e+05\n",
       "Model_F-Type                 1.115e+07   6.14e+05     18.159      0.000    9.94e+06    1.24e+07\n",
       "Model_Fiesta                -1.404e+05   4.59e+05     -0.306      0.760   -1.04e+06     7.6e+05\n",
       "Model_Figo                  -4.221e+04   2.28e+05     -0.185      0.853    -4.9e+05    4.06e+05\n",
       "Model_Fluence                4.837e+05   4.88e+05      0.992      0.321   -4.73e+05    1.44e+06\n",
       "Model_Fluidic                1.564e-09   5.66e-10      2.763      0.006    4.54e-10    2.67e-09\n",
       "Model_Fortuner              -3.413e+05   1.37e+05     -2.500      0.012   -6.09e+05   -7.36e+04\n",
       "Model_G-Class                 3.95e+06   6.84e+05      5.773      0.000    2.61e+06    5.29e+06\n",
       "Model_GL                     1.495e+05   2.33e+05      0.642      0.521   -3.07e+05    6.06e+05\n",
       "Model_GLA                   -1.396e+06   1.79e+05     -7.802      0.000   -1.75e+06   -1.04e+06\n",
       "Model_GLC                    5.314e+05   1.97e+05      2.699      0.007    1.45e+05    9.18e+05\n",
       "Model_GLE                    1.883e+06   1.83e+05     10.305      0.000    1.52e+06    2.24e+06\n",
       "Model_GLS                    3.058e+06   2.33e+05     13.146      0.000     2.6e+06    3.51e+06\n",
       "Model_GO                      4.61e+05   2.41e+05      1.910      0.056   -1.22e+04    9.34e+05\n",
       "Model_GTI                   -1.118e-09   5.64e-10     -1.984      0.047   -2.22e-09   -1.32e-11\n",
       "Model_Gallardo               4.082e-09   5.56e-10      7.346      0.000    2.99e-09    5.17e-09\n",
       "Model_Getz                   6.273e+05   6.92e+05      0.906      0.365    -7.3e+05    1.98e+06\n",
       "Model_Ghibli                 3.168e+06   3.71e+05      8.547      0.000    2.44e+06     3.9e+06\n",
       "Model_Grand                 -4.418e+05   1.11e+05     -3.991      0.000   -6.59e+05   -2.25e+05\n",
       "Model_H2                      6.88e+06   3.71e+05     18.526      0.000    6.15e+06    7.61e+06\n",
       "Model_Harrier                5.842e+05   2.45e+05      2.385      0.017    1.04e+05    1.06e+06\n",
       "Model_Hector                 2.344e+06   1.66e+05     14.090      0.000    2.02e+06    2.67e+06\n",
       "Model_Hexa                   5.274e+05   2.03e+05      2.599      0.009     1.3e+05    9.25e+05\n",
       "Model_Huracan                5.521e+06   5.44e+05     10.147      0.000    4.45e+06    6.59e+06\n",
       "Model_Ikon                   3.249e+05    6.3e+05      0.516      0.606   -9.11e+05    1.56e+06\n",
       "Model_Indica                 3.186e+05   2.45e+05      1.300      0.194   -1.62e+05    7.99e+05\n",
       "Model_Indigo                 1.463e+05   3.18e+05      0.460      0.646   -4.78e+05     7.7e+05\n",
       "Model_Innova                -1.061e+06   1.19e+05     -8.892      0.000    -1.3e+06   -8.27e+05\n",
       "Model_Jazz                   -1.95e+05    1.3e+05     -1.494      0.135   -4.51e+05    6.09e+04\n",
       "Model_Jetta                  1.362e+05    2.1e+05      0.649      0.516   -2.75e+05    5.47e+05\n",
       "Model_KUV100                -4.566e+05   2.18e+05     -2.098      0.036   -8.83e+05   -2.99e+04\n",
       "Model_Kodiaq                 1.349e+06   4.52e+05      2.985      0.003    4.63e+05    2.24e+06\n",
       "Model_Koleos                 8.348e+05   6.65e+05      1.255      0.209   -4.69e+05    2.14e+06\n",
       "Model_Kona                   6.385e+05   5.14e+05      1.242      0.214   -3.69e+05    1.65e+06\n",
       "Model_Kwid                  -4.057e+05    2.1e+05     -1.929      0.054   -8.18e+05    6725.095\n",
       "Model_LS                     7.859e+05   5.44e+05      1.446      0.148    -2.8e+05    1.85e+06\n",
       "Model_Lancer                 3.839e+05   5.87e+05      0.654      0.513   -7.68e+05    1.54e+06\n",
       "Model_Land                   7.002e+06   3.21e+05     21.796      0.000    6.37e+06    7.63e+06\n",
       "Model_Laura                  2.655e+04    2.5e+05      0.106      0.915   -4.63e+05    5.16e+05\n",
       "Model_Lodgy                  2.214e+05   6.68e+05      0.331      0.740   -1.09e+06    1.53e+06\n",
       "Model_M-Class               -8.002e+05   3.51e+05     -2.279      0.023   -1.49e+06   -1.12e+05\n",
       "Model_M2                     4.304e+06   7.36e+05      5.846      0.000    2.86e+06    5.75e+06\n",
       "Model_MU7                    1.218e+06   3.71e+05      3.278      0.001    4.89e+05    1.95e+06\n",
       "Model_Macan                  5.964e+05   4.58e+05      1.301      0.193   -3.02e+05     1.5e+06\n",
       "Model_Manza                  3.589e+05   4.06e+05      0.884      0.377   -4.37e+05    1.15e+06\n",
       "Model_Marazzo                -1.78e+05   3.23e+05     -0.551      0.582   -8.12e+05    4.56e+05\n",
       "Model_Martin                 8.231e+06   5.41e+05     15.207      0.000    7.17e+06    9.29e+06\n",
       "Model_Micra                 -6.625e+04   2.31e+05     -0.286      0.775    -5.2e+05    3.88e+05\n",
       "Model_Mobilio               -1.229e+04      3e+05     -0.041      0.967      -6e+05    5.76e+05\n",
       "Model_Motors                -1.728e-09   3.42e-10     -5.061      0.000    -2.4e-09   -1.06e-09\n",
       "Model_Mustang               -1.171e-10    5.4e-10     -0.217      0.828   -1.18e-09    9.42e-10\n",
       "Model_NX                     2.544e+06   5.42e+05      4.691      0.000    1.48e+06    3.61e+06\n",
       "Model_Nano                  -2.583e+05   2.57e+05     -1.004      0.316   -7.63e+05    2.46e+05\n",
       "Model_Nexon                  -1.14e+05   1.56e+05     -0.733      0.464   -4.19e+05    1.91e+05\n",
       "Model_NuvoSport             -3.015e+05   6.79e+05     -0.444      0.657   -1.63e+06    1.03e+06\n",
       "Model_Octavia                2.967e+05    2.3e+05      1.292      0.196   -1.53e+05    7.47e+05\n",
       "Model_Optra                  6.643e+05   6.57e+05      1.011      0.312   -6.24e+05    1.95e+06\n",
       "Model_Outlander              4.224e+05   5.83e+05      0.725      0.469    -7.2e+05    1.56e+06\n",
       "Model_Pajero                 1.285e+06   3.25e+05      3.949      0.000    6.47e+05    1.92e+06\n",
       "Model_Palio                   6.07e-09   3.98e-10     15.242      0.000    5.29e-09    6.85e-09\n",
       "Model_Panamera               1.916e+06   3.41e+05      5.611      0.000    1.25e+06    2.59e+06\n",
       "Model_Passat                 6.703e+05   2.74e+05      2.445      0.015    1.33e+05    1.21e+06\n",
       "Model_Polo                  -3.462e+05   1.02e+05     -3.395      0.001   -5.46e+05   -1.46e+05\n",
       "Model_Pulse                 -2.263e+04   4.12e+05     -0.055      0.956    -8.3e+05    7.84e+05\n",
       "Model_Punto                  6.814e+05   1.44e+05      4.719      0.000    3.98e+05    9.65e+05\n",
       "Model_Q3                    -7.088e+05   1.82e+05     -3.904      0.000   -1.06e+06   -3.53e+05\n",
       "Model_Q5                     2111.2348   2.19e+05      0.010      0.992   -4.28e+05    4.32e+05\n",
       "Model_Q7                     2.214e+06   3.09e+05      7.174      0.000    1.61e+06    2.82e+06\n",
       "Model_Quanto                -5.058e+04   3.21e+05     -0.158      0.875    -6.8e+05    5.79e+05\n",
       "Model_R8                    -1.087e-10   2.25e-10     -0.482      0.630    -5.5e-10    3.33e-10\n",
       "Model_RS5                    1.401e+06   3.93e+05      3.563      0.000     6.3e+05    2.17e+06\n",
       "Model_Rapid                 -3.523e+05   1.72e+05     -2.046      0.041    -6.9e+05   -1.46e+04\n",
       "Model_Rexton                 8.861e+05   2.25e+05      3.937      0.000    4.45e+05    1.33e+06\n",
       "Model_Rover                  2.662e+06   9.72e+04     27.378      0.000    2.47e+06    2.85e+06\n",
       "Model_S-Class                5.977e+05   1.83e+05      3.261      0.001    2.38e+05    9.57e+05\n",
       "Model_S60                   -3.329e+05   3.55e+05     -0.938      0.348   -1.03e+06    3.63e+05\n",
       "Model_S80                    -6.48e+05   6.52e+05     -0.994      0.320   -1.93e+06     6.3e+05\n",
       "Model_S90                     1.46e+06   3.99e+05      3.660      0.000    6.78e+05    2.24e+06\n",
       "Model_SLC                    3.248e+06   6.86e+05      4.734      0.000     1.9e+06    4.59e+06\n",
       "Model_Safari                 4.074e+05   2.17e+05      1.881      0.060   -1.73e+04    8.32e+05\n",
       "Model_Sail                  -5.912e+04   4.87e+05     -0.121      0.903   -1.01e+06    8.96e+05\n",
       "Model_Santa                  7.568e+05   2.55e+05      2.964      0.003    2.56e+05    1.26e+06\n",
       "Model_Santro                -4.681e+04   1.85e+05     -0.252      0.801    -4.1e+05    3.17e+05\n",
       "Model_Scorpio                4.536e+05   2.42e+05      1.873      0.061   -2.12e+04    9.28e+05\n",
       "Model_Seltos                 6.581e+04   2.35e+05      0.280      0.780   -3.96e+05    5.27e+05\n",
       "Model_Sonata                 5.634e+05   6.86e+05      0.822      0.411   -7.81e+05    1.91e+06\n",
       "Model_Spark                  1.697e+05    6.6e+05      0.257      0.797   -1.12e+06    1.46e+06\n",
       "Model_Sumo                   6.851e+05   6.86e+05      0.999      0.318    -6.6e+05    2.03e+06\n",
       "Model_Sunny                   3.09e+05   2.91e+05      1.061      0.289   -2.62e+05     8.8e+05\n",
       "Model_Superb                 4.929e+05   2.22e+05      2.217      0.027     5.7e+04    9.29e+05\n",
       "Model_Suzuki                 6.893e+05   7.42e+04      9.290      0.000    5.44e+05    8.35e+05\n",
       "Model_TT                      1.27e+06   3.91e+05      3.249      0.001    5.04e+05    2.04e+06\n",
       "Model_TUV300                 4.617e+04   2.96e+05      0.156      0.876   -5.35e+05    6.27e+05\n",
       "Model_Terrano                2.993e+05   3.08e+05      0.970      0.332   -3.06e+05    9.04e+05\n",
       "Model_Thar                   1.841e+05   2.97e+05      0.620      0.535   -3.98e+05    7.66e+05\n",
       "Model_Tiago                 -3.863e+05   1.72e+05     -2.250      0.025   -7.23e+05   -4.97e+04\n",
       "Model_Tigor                 -4.132e+05   3.51e+05     -1.176      0.240    -1.1e+06    2.75e+05\n",
       "Model_Tiguan                 1.475e+06   2.29e+05      6.455      0.000    1.03e+06    1.92e+06\n",
       "Model_Triber                -3.173e+05   6.67e+05     -0.476      0.634   -1.63e+06    9.91e+05\n",
       "Model_Tucson                 7.378e+05   4.02e+05      1.835      0.067   -5.05e+04    1.53e+06\n",
       "Model_V-Class                        0          0        nan        nan           0           0\n",
       "Model_V40                   -7.947e+05   4.75e+05     -1.675      0.094   -1.73e+06    1.36e+05\n",
       "Model_V90                            0          0        nan        nan           0           0\n",
       "Model_Vento                 -2.049e+05   1.18e+05     -1.735      0.083   -4.36e+05    2.67e+04\n",
       "Model_Venue                 -3.627e+05   2.22e+05     -1.632      0.103   -7.99e+05    7.31e+04\n",
       "Model_Verna                  2.865e+04   1.22e+05      0.235      0.814   -2.11e+05    2.68e+05\n",
       "Model_WR-V                  -2.987e+05   1.81e+05     -1.650      0.099   -6.54e+05    5.63e+04\n",
       "Model_Wrangler               2.927e+06    4.9e+05      5.973      0.000    1.97e+06    3.89e+06\n",
       "Model_X-Trail                6.671e+05   5.99e+05      1.114      0.265   -5.07e+05    1.84e+06\n",
       "Model_X1                      -1.5e+05   2.15e+05     -0.698      0.485   -5.72e+05    2.71e+05\n",
       "Model_X3                      7.66e+05   2.32e+05      3.305      0.001    3.11e+05    1.22e+06\n",
       "Model_X4                     2.442e+06   5.28e+05      4.627      0.000    1.41e+06    3.48e+06\n",
       "Model_X5                     2.364e+06   2.68e+05      8.825      0.000    1.84e+06    2.89e+06\n",
       "Model_X6                     4.889e+06   5.26e+05      9.288      0.000    3.86e+06    5.92e+06\n",
       "Model_X7                     7.937e+06   7.34e+05     10.806      0.000     6.5e+06    9.38e+06\n",
       "Model_XC40                   9.735e+05   4.74e+05      2.055      0.040    4.45e+04     1.9e+06\n",
       "Model_XC60                  -4.716e+04   3.99e+05     -0.118      0.906    -8.3e+05    7.36e+05\n",
       "Model_XC90                   2.603e+06   3.98e+05      6.537      0.000    1.82e+06    3.38e+06\n",
       "Model_XE                    -2.018e+06   3.09e+05     -6.520      0.000   -2.62e+06   -1.41e+06\n",
       "Model_XF                    -2.299e+06   2.47e+05     -9.290      0.000   -2.78e+06   -1.81e+06\n",
       "Model_XJ                    -6.212e+05   2.91e+05     -2.137      0.033   -1.19e+06   -5.11e+04\n",
       "Model_XUV300                -1.484e+05   4.88e+05     -0.304      0.761   -1.11e+06    8.09e+05\n",
       "Model_XUV500                 4.417e+05   1.56e+05      2.828      0.005    1.35e+05    7.48e+05\n",
       "Model_Xcent                  -2.68e+05   1.85e+05     -1.451      0.147    -6.3e+05    9.42e+04\n",
       "Model_Xylo                   2.254e+05   3.54e+05      0.636      0.525   -4.69e+05     9.2e+05\n",
       "Model_Yaris                 -2.254e+06    3.9e+05     -5.784      0.000   -3.02e+06   -1.49e+06\n",
       "Model_Yeti                    8.64e+04   4.53e+05      0.191      0.849   -8.02e+05    9.75e+05\n",
       "Model_Z4                     2.993e+06   5.27e+05      5.678      0.000    1.96e+06    4.03e+06\n",
       "Model_Zest                  -2.114e+05   2.73e+05     -0.774      0.439   -7.47e+05    3.24e+05\n",
       "Model_e2o                   -4.389e+05   5.13e+05     -0.855      0.393   -1.45e+06    5.67e+05\n",
       "Model_i10                   -1.834e+04   1.32e+05     -0.138      0.890   -2.78e+05    2.41e+05\n",
       "Model_i20                    5537.6043   1.28e+05      0.043      0.966   -2.46e+05    2.57e+05\n",
       "Model_redi-GO                1.561e+05   2.19e+05      0.712      0.476   -2.74e+05    5.86e+05\n",
       "fuel_Diesel                  1.826e+05   1.25e+05      1.458      0.145    -6.3e+04    4.28e+05\n",
       "fuel_Electric                1.996e+05   3.45e+05      0.579      0.563   -4.77e+05    8.76e+05\n",
       "fuel_Hybrid                  -2.83e+06   6.05e+05     -4.679      0.000   -4.02e+06   -1.64e+06\n",
       "fuel_LPG                     3.899e+05   3.08e+05      1.266      0.206   -2.14e+05    9.94e+05\n",
       "fuel_Petrol                  1.561e+05   1.23e+05      1.265      0.206   -8.59e+04    3.98e+05\n",
       "==============================================================================\n",
       "Omnibus:                     2944.461   Durbin-Watson:                   2.000\n",
       "Prob(Omnibus):                  0.000   Jarque-Bera (JB):           593276.977\n",
       "Skew:                           4.441   Prob(JB):                         0.00\n",
       "Kurtosis:                      72.396   Cond. No.                     3.24e+21\n",
       "==============================================================================\n",
       "\n",
       "Notes:\n",
       "[1] Standard Errors assume that the covariance matrix of the errors is correctly specified.\n",
       "[2] The smallest eigenvalue is 1.36e-30. This might indicate that there are\n",
       "strong multicollinearity problems or that the design matrix is singular.\n",
       "\"\"\""
      ]
     },
     "execution_count": 43,
     "metadata": {},
     "output_type": "execute_result"
    }
   ],
   "source": [
    "import statsmodels.api as sm\n",
    "model = sm.OLS(y_train,X_train)\n",
    "model.fit().summary()\n"
   ]
  },
  {
   "cell_type": "code",
   "execution_count": 44,
   "metadata": {},
   "outputs": [],
   "source": [
    "def remove_neg(y_test,y_pred):\n",
    "    ind=[index for index in range(len(y_pred)) if(y_pred[index]>0)]\n",
    "    y_pred=y_pred[ind]\n",
    "    y_test=y_test[ind]\n",
    "    y_pred[y_pred<0]\n",
    "    return (y_test,y_pred)\n",
    "\n",
    "\n",
    "def result(y_test,y_pred):\n",
    "    r=[]\n",
    "    r.append(mean_squared_log_error(y_test, y_pred))\n",
    "    r.append(np.sqrt(r[0]))\n",
    "    r.append(r2_score(y_test,y_pred))\n",
    "    r.append(round(r2_score(y_test,y_pred)*100,4))\n",
    "    return (r)\n",
    "\n",
    "accu=pd.DataFrame(index=['MSLE', 'Root MSLE', 'R2 Score','Accuracy(%)'])"
   ]
  },
  {
   "cell_type": "code",
   "execution_count": 45,
   "metadata": {},
   "outputs": [],
   "source": [
    "baggReg=BaggingRegressor(base_estimator=DecisionTreeRegressor(max_depth=20),n_estimators=50, random_state=1,\n",
    "                         max_samples=1.0, max_features=1.0, bootstrap=False, \n",
    "                         bootstrap_features=False, oob_score=False, warm_start=False, n_jobs=-1, verbose=0)\n",
    "baggReg.fit(X_train,y_train)\n",
    "y_pred=baggReg.predict(X_test)"
   ]
  },
  {
   "cell_type": "code",
   "execution_count": 46,
   "metadata": {},
   "outputs": [
    {
     "name": "stdout",
     "output_type": "stream",
     "text": [
      "MSLE : 0.1549016544419866\n",
      "Root MSLE : 0.3935754748990168\n",
      "R2 Score : 0.4893208941996303 or 48.9321%\n"
     ]
    }
   ],
   "source": [
    "r6_br=result(y_test,y_pred)\n",
    "print(\"MSLE : {}\".format(r6_br[0]))\n",
    "print(\"Root MSLE : {}\".format(r6_br[1]))\n",
    "print(\"R2 Score : {} or {}%\".format(r6_br[2],r6_br[3]))"
   ]
  },
  {
   "cell_type": "code",
   "execution_count": 47,
   "metadata": {},
   "outputs": [
    {
     "data": {
      "text/plain": [
       "<matplotlib.collections.PathCollection at 0x27be6817c10>"
      ]
     },
     "execution_count": 47,
     "metadata": {},
     "output_type": "execute_result"
    },
    {
     "data": {
      "image/png": "[encoded data removed]",
      "text/plain": [
       "<Figure size 576x396 with 1 Axes>"
      ]
     },
     "metadata": {},
     "output_type": "display_data"
    }
   ],
   "source": [
    "plt.scatter(y_test,y_pred)"
   ]
  },
  {
   "cell_type": "code",
   "execution_count": 48,
   "metadata": {},
   "outputs": [],
   "source": [
    "\n",
    "ABR = AdaBoostRegressor(\n",
    "    DecisionTreeRegressor(max_depth=24),\n",
    "    n_estimators=200,learning_rate=0.6\n",
    ")\n",
    "\n",
    "ABR.fit(X_train, y_train)\n",
    "y_pred = ABR.predict(X_test)"
   ]
  },
  {
   "cell_type": "code",
   "execution_count": 49,
   "metadata": {},
   "outputs": [
    {
     "name": "stdout",
     "output_type": "stream",
     "text": [
      "MSLE : 0.13103639753143664\n",
      "Root MSLE : 0.3619894992005108\n",
      "R2 Score : 0.525300314226514 or 52.53%\n"
     ]
    }
   ],
   "source": [
    "r7_ab=result(y_test,y_pred)\n",
    "print(\"MSLE : {}\".format(r7_ab[0]))\n",
    "print(\"Root MSLE : {}\".format(r7_ab[1]))\n",
    "print(\"R2 Score : {} or {}%\".format(r7_ab[2],r7_ab[3]))"
   ]
  },
  {
   "cell_type": "code",
   "execution_count": 50,
   "metadata": {},
   "outputs": [
    {
     "data": {
      "text/plain": [
       "<matplotlib.collections.PathCollection at 0x27bec8cc160>"
      ]
     },
     "execution_count": 50,
     "metadata": {},
     "output_type": "execute_result"
    },
    {
     "data": {
      "image/png": "[encoded data removed]",
      "text/plain": [
       "<Figure size 576x396 with 1 Axes>"
      ]
     },
     "metadata": {},
     "output_type": "display_data"
    }
   ],
   "source": [
    "plt.scatter(y_test,y_pred)\n"
   ]
  },
  {
   "cell_type": "code",
   "execution_count": 51,
   "metadata": {},
   "outputs": [],
   "source": [
    "from sklearn.metrics import r2_score\n",
    "from sklearn.linear_model import BayesianRidge\n"
   ]
  },
  {
   "cell_type": "code",
   "execution_count": 52,
   "metadata": {},
   "outputs": [
    {
     "name": "stdout",
     "output_type": "stream",
     "text": [
      "r2 Score Of Test Set : 0.047510421184872254\n"
     ]
    }
   ],
   "source": [
    "# Creating and training model\n",
    "model = BayesianRidge()\n",
    "model.fit(X_train, y_train)\n",
    "  \n",
    "# Model making a prediction on test data\n",
    "prediction = model.predict(X_test)\n",
    "  \n",
    "# Evaluation of r2 score of the model against the test set\n",
    "print(f\"r2 Score Of Test Set : {r2_score(y_test, prediction)}\")\n"
   ]
  },
  {
   "cell_type": "code",
   "execution_count": 53,
   "metadata": {},
   "outputs": [],
   "source": [
    "model = Ridge(alpha=1.0)\n",
    "model.fit(X_train,y_train)\n",
    "y_pred=model.predict(X_test)"
   ]
  },
  {
   "cell_type": "code",
   "execution_count": 54,
   "metadata": {},
   "outputs": [
    {
     "name": "stdout",
     "output_type": "stream",
     "text": [
      "Mean MAE: 411314.897 (44593.906)\n",
      "r2 Score Of Test Set : 0.7097296064899485\n"
     ]
    }
   ],
   "source": [
    "# define model evaluation method\n",
    "cv = RepeatedKFold(n_splits=10, n_repeats=3, random_state=42)\n",
    "# evaluate model\n",
    "scores = cross_val_score(model, X, y, scoring='neg_mean_absolute_error', cv=cv, n_jobs=-1)\n",
    "# force scores to be positive\n",
    "scores = absolute(scores)\n",
    "print('Mean MAE: %.3f (%.3f)' % (mean(scores), std(scores)))\n",
    "\n",
    "print(f\"r2 Score Of Test Set : {r2_score(y_test,y_pred)}\")"
   ]
  },
  {
   "cell_type": "code",
   "execution_count": 55,
   "metadata": {},
   "outputs": [
    {
     "name": "stdout",
     "output_type": "stream",
     "text": [
      "MAE: -405096.121\n",
      "Config: {'alpha': 0.17}\n"
     ]
    }
   ],
   "source": [
    "# define model\n",
    "model = Ridge()\n",
    "# define model evaluation method\n",
    "cv = RepeatedKFold(n_splits=10, n_repeats=3, random_state=42)\n",
    "# define grid\n",
    "grid = dict()\n",
    "grid['alpha'] = np.arange(0, 1, 0.001)\n",
    "# define search\n",
    "search = GridSearchCV(model, grid, scoring='neg_mean_absolute_error', cv=cv, n_jobs=-1)\n",
    "# perform the search\n",
    "results = search.fit(X, y)\n",
    "# summarize\n",
    "print('MAE: %.3f' % results.best_score_)\n",
    "print('Config: %s' % results.best_params_)\n"
   ]
  },
  {
   "cell_type": "code",
   "execution_count": 56,
   "metadata": {},
   "outputs": [],
   "source": [
    "model = Ridge(alpha=0.17)\n",
    "model.fit(X_train,y_train)\n",
    "y_pred=model.predict(X_test)"
   ]
  },
  {
   "cell_type": "code",
   "execution_count": 57,
   "metadata": {},
   "outputs": [
    {
     "name": "stdout",
     "output_type": "stream",
     "text": [
      "r2 Score Of Test Set : 0.6694562767745279\n"
     ]
    }
   ],
   "source": [
    "print(f\"r2 Score Of Test Set : {r2_score(y_test,y_pred)}\")"
   ]
  },
  {
   "cell_type": "code",
   "execution_count": 58,
   "metadata": {},
   "outputs": [],
   "source": [
    "\n",
    "lasso=Lasso(alpha=0.0001)\n",
    "lasso.fit(X_train,y_train)\n",
    "y_pred=lasso.predict(X_test)"
   ]
  },
  {
   "cell_type": "code",
   "execution_count": 59,
   "metadata": {},
   "outputs": [
    {
     "name": "stdout",
     "output_type": "stream",
     "text": [
      "MAE: -405995.846\n",
      "Config: {'alpha': 0}\n",
      "r2 Score Of Test Set : 0.5343544287018337\n"
     ]
    }
   ],
   "source": [
    "model = Lasso()\n",
    "# define model evaluation method\n",
    "cv = RepeatedKFold(n_splits=10, n_repeats=3, random_state=42)\n",
    "# define grid\n",
    "grid = dict()\n",
    "grid['alpha'] = np.arange(0,1)\n",
    "# define search\n",
    "search = GridSearchCV(model, grid, scoring='neg_mean_absolute_error', cv=cv, n_jobs=-1)\n",
    "# perform the search\n",
    "results = search.fit(X, y)\n",
    "# summarize\n",
    "print('MAE: %.3f' % results.best_score_)\n",
    "print('Config: %s' % results.best_params_)\n",
    "print(f\"r2 Score Of Test Set : {r2_score(y_test,y_pred)}\")"
   ]
  },
  {
   "cell_type": "code",
   "execution_count": null,
   "metadata": {},
   "outputs": [],
   "source": []
  }
 ],
 "metadata": {
  "kernelspec": {
   "display_name": "Python 3",
   "language": "python",
   "name": "python3"
  },
  "language_info": {
   "codemirror_mode": {
    "name": "ipython",
    "version": 3
   },
   "file_extension": ".py",
   "mimetype": "text/x-python",
   "name": "python",
   "nbconvert_exporter": "python",
   "pygments_lexer": "ipython3",
   "version": "3.8.5"
  }
 },
 "nbformat": 4,
 "nbformat_minor": 4
}
